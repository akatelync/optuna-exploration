{
 "cells": [
  {
   "cell_type": "markdown",
   "id": "cfeaa9d2-744d-4f0e-a253-bfc127cf6d68",
   "metadata": {},
   "source": [
    "# Optuna Demo Notebook"
   ]
  },
  {
   "cell_type": "code",
   "execution_count": 1,
   "id": "371e668c-2e61-437a-bd12-33496289057e",
   "metadata": {
    "execution": {
     "iopub.execute_input": "2024-11-20T11:55:06.466621Z",
     "iopub.status.busy": "2024-11-20T11:55:06.466319Z",
     "iopub.status.idle": "2024-11-20T11:55:06.470954Z",
     "shell.execute_reply": "2024-11-20T11:55:06.470100Z",
     "shell.execute_reply.started": "2024-11-20T11:55:06.466589Z"
    }
   },
   "outputs": [],
   "source": [
    "# # Uncomment and run once if you haven't installed Optuna in your local machine\n",
    "# %pip install optuna"
   ]
  },
  {
   "cell_type": "code",
   "execution_count": 37,
   "id": "bd74badf-14e6-4da7-9b0c-289e4614c7ae",
   "metadata": {
    "execution": {
     "iopub.execute_input": "2024-11-25T04:08:44.032922Z",
     "iopub.status.busy": "2024-11-25T04:08:44.032414Z",
     "iopub.status.idle": "2024-11-25T04:08:44.044385Z",
     "shell.execute_reply": "2024-11-25T04:08:44.043267Z",
     "shell.execute_reply.started": "2024-11-25T04:08:44.032878Z"
    }
   },
   "outputs": [],
   "source": [
    "import numpy as np\n",
    "import pandas as pd\n",
    "from sklearn.model_selection import GridSearchCV, train_test_split\n",
    "from sklearn.ensemble import RandomForestRegressor, GradientBoostingRegressor, RandomForestClassifier\n",
    "from sklearn.neighbors import KNeighborsClassifier\n",
    "from sklearn.svm import SVR\n",
    "from sklearn.linear_model import Ridge\n",
    "from xgboost import XGBRegressor\n",
    "from sklearn.metrics import mean_squared_error\n",
    "import time\n",
    "import optuna\n",
    "from IPython.display import display, HTML\n"
   ]
  },
  {
   "cell_type": "code",
   "execution_count": 38,
   "id": "7e127a92-b15a-4a21-a72c-098f6d0be82a",
   "metadata": {
    "execution": {
     "iopub.execute_input": "2024-11-25T04:08:44.573796Z",
     "iopub.status.busy": "2024-11-25T04:08:44.573230Z",
     "iopub.status.idle": "2024-11-25T04:08:44.662069Z",
     "shell.execute_reply": "2024-11-25T04:08:44.661133Z",
     "shell.execute_reply.started": "2024-11-25T04:08:44.573745Z"
    }
   },
   "outputs": [
    {
     "data": {
      "text/html": [
       "<div>\n",
       "<style scoped>\n",
       "    .dataframe tbody tr th:only-of-type {\n",
       "        vertical-align: middle;\n",
       "    }\n",
       "\n",
       "    .dataframe tbody tr th {\n",
       "        vertical-align: top;\n",
       "    }\n",
       "\n",
       "    .dataframe thead th {\n",
       "        text-align: right;\n",
       "    }\n",
       "</style>\n",
       "<table border=\"1\" class=\"dataframe\">\n",
       "  <thead>\n",
       "    <tr style=\"text-align: right;\">\n",
       "      <th></th>\n",
       "      <th>age</th>\n",
       "      <th>injury_classification</th>\n",
       "      <th>person_type_BICYCLE</th>\n",
       "      <th>person_type_DRIVER</th>\n",
       "      <th>person_type_NON-CONTACT VEHICLE</th>\n",
       "      <th>person_type_NON-MOTOR VEHICLE</th>\n",
       "      <th>person_type_PASSENGER</th>\n",
       "      <th>person_type_PEDESTRIAN</th>\n",
       "      <th>city_ADDISON</th>\n",
       "      <th>city_ALGONQUIN</th>\n",
       "      <th>...</th>\n",
       "      <th>driver_vision_BUILDINGS</th>\n",
       "      <th>driver_vision_MOVING VEHICLES</th>\n",
       "      <th>driver_vision_NOT OBSCURED</th>\n",
       "      <th>driver_vision_OTHER</th>\n",
       "      <th>driver_vision_PARKED VEHICLES</th>\n",
       "      <th>driver_vision_TREES, PLANTS</th>\n",
       "      <th>driver_vision_UNKNOWN</th>\n",
       "      <th>driver_vision_WINDSHIELD (WATER/ICE)</th>\n",
       "      <th>driver_vision_nan</th>\n",
       "      <th>driver_vision_infrequent_sklearn</th>\n",
       "    </tr>\n",
       "  </thead>\n",
       "  <tbody>\n",
       "    <tr>\n",
       "      <th>0</th>\n",
       "      <td>41.00000</td>\n",
       "      <td>1</td>\n",
       "      <td>0.0</td>\n",
       "      <td>1.0</td>\n",
       "      <td>0.0</td>\n",
       "      <td>0.0</td>\n",
       "      <td>0.0</td>\n",
       "      <td>0.0</td>\n",
       "      <td>0.0</td>\n",
       "      <td>0.0</td>\n",
       "      <td>...</td>\n",
       "      <td>0.0</td>\n",
       "      <td>0.0</td>\n",
       "      <td>1.0</td>\n",
       "      <td>0.0</td>\n",
       "      <td>0.0</td>\n",
       "      <td>0.0</td>\n",
       "      <td>0.0</td>\n",
       "      <td>0.0</td>\n",
       "      <td>0.0</td>\n",
       "      <td>0.0</td>\n",
       "    </tr>\n",
       "    <tr>\n",
       "      <th>1</th>\n",
       "      <td>38.18443</td>\n",
       "      <td>1</td>\n",
       "      <td>0.0</td>\n",
       "      <td>1.0</td>\n",
       "      <td>0.0</td>\n",
       "      <td>0.0</td>\n",
       "      <td>0.0</td>\n",
       "      <td>0.0</td>\n",
       "      <td>0.0</td>\n",
       "      <td>0.0</td>\n",
       "      <td>...</td>\n",
       "      <td>0.0</td>\n",
       "      <td>0.0</td>\n",
       "      <td>0.0</td>\n",
       "      <td>0.0</td>\n",
       "      <td>0.0</td>\n",
       "      <td>0.0</td>\n",
       "      <td>1.0</td>\n",
       "      <td>0.0</td>\n",
       "      <td>0.0</td>\n",
       "      <td>0.0</td>\n",
       "    </tr>\n",
       "    <tr>\n",
       "      <th>2</th>\n",
       "      <td>32.00000</td>\n",
       "      <td>2</td>\n",
       "      <td>1.0</td>\n",
       "      <td>0.0</td>\n",
       "      <td>0.0</td>\n",
       "      <td>0.0</td>\n",
       "      <td>0.0</td>\n",
       "      <td>0.0</td>\n",
       "      <td>0.0</td>\n",
       "      <td>0.0</td>\n",
       "      <td>...</td>\n",
       "      <td>0.0</td>\n",
       "      <td>0.0</td>\n",
       "      <td>0.0</td>\n",
       "      <td>0.0</td>\n",
       "      <td>0.0</td>\n",
       "      <td>0.0</td>\n",
       "      <td>1.0</td>\n",
       "      <td>0.0</td>\n",
       "      <td>0.0</td>\n",
       "      <td>0.0</td>\n",
       "    </tr>\n",
       "    <tr>\n",
       "      <th>3</th>\n",
       "      <td>38.18443</td>\n",
       "      <td>1</td>\n",
       "      <td>0.0</td>\n",
       "      <td>1.0</td>\n",
       "      <td>0.0</td>\n",
       "      <td>0.0</td>\n",
       "      <td>0.0</td>\n",
       "      <td>0.0</td>\n",
       "      <td>0.0</td>\n",
       "      <td>0.0</td>\n",
       "      <td>...</td>\n",
       "      <td>0.0</td>\n",
       "      <td>0.0</td>\n",
       "      <td>0.0</td>\n",
       "      <td>0.0</td>\n",
       "      <td>0.0</td>\n",
       "      <td>0.0</td>\n",
       "      <td>1.0</td>\n",
       "      <td>0.0</td>\n",
       "      <td>0.0</td>\n",
       "      <td>0.0</td>\n",
       "    </tr>\n",
       "    <tr>\n",
       "      <th>4</th>\n",
       "      <td>38.18443</td>\n",
       "      <td>1</td>\n",
       "      <td>0.0</td>\n",
       "      <td>0.0</td>\n",
       "      <td>0.0</td>\n",
       "      <td>0.0</td>\n",
       "      <td>1.0</td>\n",
       "      <td>0.0</td>\n",
       "      <td>0.0</td>\n",
       "      <td>0.0</td>\n",
       "      <td>...</td>\n",
       "      <td>0.0</td>\n",
       "      <td>0.0</td>\n",
       "      <td>0.0</td>\n",
       "      <td>0.0</td>\n",
       "      <td>0.0</td>\n",
       "      <td>0.0</td>\n",
       "      <td>0.0</td>\n",
       "      <td>0.0</td>\n",
       "      <td>1.0</td>\n",
       "      <td>0.0</td>\n",
       "    </tr>\n",
       "  </tbody>\n",
       "</table>\n",
       "<p>5 rows × 392 columns</p>\n",
       "</div>"
      ],
      "text/plain": [
       "        age  injury_classification  person_type_BICYCLE  person_type_DRIVER  \\\n",
       "0  41.00000                      1                  0.0                 1.0   \n",
       "1  38.18443                      1                  0.0                 1.0   \n",
       "2  32.00000                      2                  1.0                 0.0   \n",
       "3  38.18443                      1                  0.0                 1.0   \n",
       "4  38.18443                      1                  0.0                 0.0   \n",
       "\n",
       "   person_type_NON-CONTACT VEHICLE  person_type_NON-MOTOR VEHICLE  \\\n",
       "0                              0.0                            0.0   \n",
       "1                              0.0                            0.0   \n",
       "2                              0.0                            0.0   \n",
       "3                              0.0                            0.0   \n",
       "4                              0.0                            0.0   \n",
       "\n",
       "   person_type_PASSENGER  person_type_PEDESTRIAN  city_ADDISON  \\\n",
       "0                    0.0                     0.0           0.0   \n",
       "1                    0.0                     0.0           0.0   \n",
       "2                    0.0                     0.0           0.0   \n",
       "3                    0.0                     0.0           0.0   \n",
       "4                    1.0                     0.0           0.0   \n",
       "\n",
       "   city_ALGONQUIN  ...  driver_vision_BUILDINGS  \\\n",
       "0             0.0  ...                      0.0   \n",
       "1             0.0  ...                      0.0   \n",
       "2             0.0  ...                      0.0   \n",
       "3             0.0  ...                      0.0   \n",
       "4             0.0  ...                      0.0   \n",
       "\n",
       "   driver_vision_MOVING VEHICLES  driver_vision_NOT OBSCURED  \\\n",
       "0                            0.0                         1.0   \n",
       "1                            0.0                         0.0   \n",
       "2                            0.0                         0.0   \n",
       "3                            0.0                         0.0   \n",
       "4                            0.0                         0.0   \n",
       "\n",
       "   driver_vision_OTHER  driver_vision_PARKED VEHICLES  \\\n",
       "0                  0.0                            0.0   \n",
       "1                  0.0                            0.0   \n",
       "2                  0.0                            0.0   \n",
       "3                  0.0                            0.0   \n",
       "4                  0.0                            0.0   \n",
       "\n",
       "   driver_vision_TREES, PLANTS  driver_vision_UNKNOWN  \\\n",
       "0                          0.0                    0.0   \n",
       "1                          0.0                    1.0   \n",
       "2                          0.0                    1.0   \n",
       "3                          0.0                    1.0   \n",
       "4                          0.0                    0.0   \n",
       "\n",
       "   driver_vision_WINDSHIELD (WATER/ICE)  driver_vision_nan  \\\n",
       "0                                   0.0                0.0   \n",
       "1                                   0.0                0.0   \n",
       "2                                   0.0                0.0   \n",
       "3                                   0.0                0.0   \n",
       "4                                   0.0                1.0   \n",
       "\n",
       "   driver_vision_infrequent_sklearn  \n",
       "0                               0.0  \n",
       "1                               0.0  \n",
       "2                               0.0  \n",
       "3                               0.0  \n",
       "4                               0.0  \n",
       "\n",
       "[5 rows x 392 columns]"
      ]
     },
     "execution_count": 38,
     "metadata": {},
     "output_type": "execute_result"
    }
   ],
   "source": [
    "df = pd.read_csv('cleaned_traffic_crashes_people.csv')\n",
    "df.head()"
   ]
  },
  {
   "cell_type": "code",
   "execution_count": 39,
   "id": "94f3c1a9-ede7-46a0-9fce-6c25524c88e9",
   "metadata": {
    "execution": {
     "iopub.execute_input": "2024-11-25T04:08:44.886243Z",
     "iopub.status.busy": "2024-11-25T04:08:44.885746Z",
     "iopub.status.idle": "2024-11-25T04:08:44.895535Z",
     "shell.execute_reply": "2024-11-25T04:08:44.894747Z",
     "shell.execute_reply.started": "2024-11-25T04:08:44.886202Z"
    }
   },
   "outputs": [
    {
     "data": {
      "text/plain": [
       "injury_classification\n",
       "1    909\n",
       "3     70\n",
       "4     24\n",
       "2     13\n",
       "5      4\n",
       "Name: count, dtype: int64"
      ]
     },
     "execution_count": 39,
     "metadata": {},
     "output_type": "execute_result"
    }
   ],
   "source": [
    "df[\"injury_classification\"].value_counts()"
   ]
  },
  {
   "cell_type": "markdown",
   "id": "bad471d7-2243-4b1e-9dc1-14a7ef7a6c94",
   "metadata": {},
   "source": [
    "## Defining the Study Object\n",
    "- A study object in Optuna is a collection of trials that share the same search space and objective function\n",
    "- To create a study object and optimize your objective function, you can use the `optuna.create_study()` function and the `study.optimize()` method"
   ]
  },
  {
   "cell_type": "code",
   "execution_count": 40,
   "id": "725894b4-15ee-4453-ae2a-c0b26c105c90",
   "metadata": {
    "execution": {
     "iopub.execute_input": "2024-11-25T04:08:46.178440Z",
     "iopub.status.busy": "2024-11-25T04:08:46.177925Z",
     "iopub.status.idle": "2024-11-25T04:08:46.186646Z",
     "shell.execute_reply": "2024-11-25T04:08:46.185707Z",
     "shell.execute_reply.started": "2024-11-25T04:08:46.178396Z"
    }
   },
   "outputs": [],
   "source": [
    "# Define the objective function\n",
    "\n",
    "def objective(trial):\n",
    "    X, y = df.drop(\"injury_classification\", axis=1), df.injury_classification\n",
    "    X_train, X_test, y_train, y_test = train_test_split(X, y, test_size=0.3, random_state=42)\n",
    "\n",
    "    # Suggest hyperparameters\n",
    "    alpha = trial.suggest_float(\"alpha\", 0.0, 1.0)\n",
    "\n",
    "    model = Ridge(alpha=alpha)\n",
    "    model.fit(X_train, y_train)\n",
    "\n",
    "    y_pred = model.predict(X_test)\n",
    "    score = mean_squared_error(y_test, y_pred)\n",
    "    return score"
   ]
  },
  {
   "cell_type": "code",
   "execution_count": 41,
   "id": "e8df9898-74af-4fd4-a52a-1eb46e66fade",
   "metadata": {
    "execution": {
     "iopub.execute_input": "2024-11-25T04:08:46.967638Z",
     "iopub.status.busy": "2024-11-25T04:08:46.967115Z",
     "iopub.status.idle": "2024-11-25T04:09:25.558259Z",
     "shell.execute_reply": "2024-11-25T04:09:25.473644Z",
     "shell.execute_reply.started": "2024-11-25T04:08:46.967595Z"
    }
   },
   "outputs": [
    {
     "name": "stderr",
     "output_type": "stream",
     "text": [
      "[I 2024-11-25 04:08:46,970] A new study created in memory with name: basic_example\n",
      "[I 2024-11-25 04:08:47,060] Trial 0 finished with value: 0.4776948960073385 and parameters: {'alpha': 0.053734555226207736}. Best is trial 0 with value: 0.4776948960073385.\n",
      "[I 2024-11-25 04:08:47,476] Trial 1 finished with value: 0.46782819604457443 and parameters: {'alpha': 0.9919998473846373}. Best is trial 1 with value: 0.46782819604457443.\n",
      "[I 2024-11-25 04:08:47,872] Trial 2 finished with value: 0.4684725206464395 and parameters: {'alpha': 0.8743798486205616}. Best is trial 1 with value: 0.46782819604457443.\n",
      "[I 2024-11-25 04:08:48,272] Trial 3 finished with value: 0.4704521532516189 and parameters: {'alpha': 0.5833907977785869}. Best is trial 1 with value: 0.46782819604457443.\n",
      "[I 2024-11-25 04:08:48,678] Trial 4 finished with value: 0.47111902179475695 and parameters: {'alpha': 0.5048946753920399}. Best is trial 1 with value: 0.46782819604457443.\n",
      "[I 2024-11-25 04:08:49,060] Trial 5 finished with value: 0.4696700633246915 and parameters: {'alpha': 0.6870806767685389}. Best is trial 1 with value: 0.46782819604457443.\n",
      "[I 2024-11-25 04:08:49,465] Trial 6 finished with value: 0.4720719500056649 and parameters: {'alpha': 0.40654164629753864}. Best is trial 1 with value: 0.46782819604457443.\n",
      "[I 2024-11-25 04:08:49,769] Trial 7 finished with value: 0.47745954859617157 and parameters: {'alpha': 0.06300740458965948}. Best is trial 1 with value: 0.46782819604457443.\n",
      "[I 2024-11-25 04:08:50,061] Trial 8 finished with value: 0.4686994228930058 and parameters: {'alpha': 0.8359426286473941}. Best is trial 1 with value: 0.46782819604457443.\n",
      "[I 2024-11-25 04:08:50,469] Trial 9 finished with value: 0.4699613474836717 and parameters: {'alpha': 0.6468936778785076}. Best is trial 1 with value: 0.46782819604457443.\n",
      "[I 2024-11-25 04:08:50,860] Trial 10 finished with value: 0.4678300985419061 and parameters: {'alpha': 0.991632985076413}. Best is trial 1 with value: 0.46782819604457443.\n",
      "[I 2024-11-25 04:08:51,169] Trial 11 finished with value: 0.4679407651042195 and parameters: {'alpha': 0.9704997728500553}. Best is trial 1 with value: 0.46782819604457443.\n",
      "[I 2024-11-25 04:08:51,559] Trial 12 finished with value: 0.4677875123177859 and parameters: {'alpha': 0.9998740506691222}. Best is trial 12 with value: 0.4677875123177859.\n",
      "[I 2024-11-25 04:08:51,875] Trial 13 finished with value: 0.47356570898498385 and parameters: {'alpha': 0.27992023431558555}. Best is trial 12 with value: 0.4677875123177859.\n",
      "[I 2024-11-25 04:08:52,460] Trial 14 finished with value: 0.46900789751370126 and parameters: {'alpha': 0.7859911511849957}. Best is trial 12 with value: 0.4677875123177859.\n",
      "[I 2024-11-25 04:08:52,973] Trial 15 finished with value: 0.46917109564050985 and parameters: {'alpha': 0.7605912017534185}. Best is trial 12 with value: 0.4677875123177859.\n",
      "[I 2024-11-25 04:08:53,374] Trial 16 finished with value: 0.468258185436857 and parameters: {'alpha': 0.912073925790279}. Best is trial 12 with value: 0.4677875123177859.\n",
      "[I 2024-11-25 04:08:53,760] Trial 17 finished with value: 0.473394163121341 and parameters: {'alpha': 0.29295631082205265}. Best is trial 12 with value: 0.4677875123177859.\n",
      "[I 2024-11-25 04:08:54,071] Trial 18 finished with value: 0.4678001229986782 and parameters: {'alpha': 0.9974273396089671}. Best is trial 12 with value: 0.4677875123177859.\n",
      "[I 2024-11-25 04:08:54,469] Trial 19 finished with value: 0.4693875598120794 and parameters: {'alpha': 0.7279507315263763}. Best is trial 12 with value: 0.4677875123177859.\n",
      "[I 2024-11-25 04:08:54,869] Trial 20 finished with value: 0.46843311548947647 and parameters: {'alpha': 0.8812070502582257}. Best is trial 12 with value: 0.4677875123177859.\n",
      "[I 2024-11-25 04:08:55,272] Trial 21 finished with value: 0.46791872794395895 and parameters: {'alpha': 0.9746758316458916}. Best is trial 12 with value: 0.4677875123177859.\n",
      "[I 2024-11-25 04:08:55,660] Trial 22 finished with value: 0.4678020908732111 and parameters: {'alpha': 0.997046018107641}. Best is trial 12 with value: 0.4677875123177859.\n",
      "[I 2024-11-25 04:08:55,976] Trial 23 finished with value: 0.46876988209470327 and parameters: {'alpha': 0.8243036482541319}. Best is trial 12 with value: 0.4677875123177859.\n",
      "[I 2024-11-25 04:08:56,361] Trial 24 finished with value: 0.46834978979218495 and parameters: {'alpha': 0.8957953341908015}. Best is trial 12 with value: 0.4677875123177859.\n",
      "[I 2024-11-25 04:08:56,767] Trial 25 finished with value: 0.4704278543346664 and parameters: {'alpha': 0.5864157963181431}. Best is trial 12 with value: 0.4677875123177859.\n",
      "[I 2024-11-25 04:08:57,175] Trial 26 finished with value: 0.46822388972551554 and parameters: {'alpha': 0.9182342966040205}. Best is trial 12 with value: 0.4677875123177859.\n",
      "[I 2024-11-25 04:08:57,569] Trial 27 finished with value: 0.468933358027306 and parameters: {'alpha': 0.7978252520263841}. Best is trial 12 with value: 0.4677875123177859.\n",
      "[I 2024-11-25 04:08:57,868] Trial 28 finished with value: 0.47563673039142246 and parameters: {'alpha': 0.14793873904866173}. Best is trial 12 with value: 0.4677875123177859.\n",
      "[I 2024-11-25 04:08:58,261] Trial 29 finished with value: 0.46816213460265305 and parameters: {'alpha': 0.9294186677429258}. Best is trial 12 with value: 0.4677875123177859.\n",
      "[I 2024-11-25 04:08:58,667] Trial 30 finished with value: 0.4695953770681116 and parameters: {'alpha': 0.6977001877669269}. Best is trial 12 with value: 0.4677875123177859.\n",
      "[I 2024-11-25 04:08:58,972] Trial 31 finished with value: 0.4679135473632233 and parameters: {'alpha': 0.9756598682438551}. Best is trial 12 with value: 0.4677875123177859.\n",
      "[I 2024-11-25 04:08:59,459] Trial 32 finished with value: 0.4685705670243049 and parameters: {'alpha': 0.8575894917552274}. Best is trial 12 with value: 0.4677875123177859.\n",
      "[I 2024-11-25 04:08:59,960] Trial 33 finished with value: 0.4678040792860871 and parameters: {'alpha': 0.9966608492340385}. Best is trial 12 with value: 0.4677875123177859.\n",
      "[I 2024-11-25 04:09:00,261] Trial 34 finished with value: 0.4681260389240092 and parameters: {'alpha': 0.9360109354944942}. Best is trial 12 with value: 0.4677875123177859.\n",
      "[I 2024-11-25 04:09:00,572] Trial 35 finished with value: 0.4678426025675632 and parameters: {'alpha': 0.9892248208971675}. Best is trial 12 with value: 0.4677875123177859.\n",
      "[I 2024-11-25 04:09:01,060] Trial 36 finished with value: 0.468604701588025 and parameters: {'alpha': 0.8518091303776515}. Best is trial 12 with value: 0.4677875123177859.\n",
      "[I 2024-11-25 04:09:01,369] Trial 37 finished with value: 0.47175201166713476 and parameters: {'alpha': 0.4378797934355081}. Best is trial 12 with value: 0.4677875123177859.\n",
      "[I 2024-11-25 04:09:01,760] Trial 38 finished with value: 0.4681387167337549 and parameters: {'alpha': 0.9336908938207694}. Best is trial 12 with value: 0.4677875123177859.\n",
      "[I 2024-11-25 04:09:02,270] Trial 39 finished with value: 0.47022867726817735 and parameters: {'alpha': 0.6116712068799818}. Best is trial 12 with value: 0.4677875123177859.\n",
      "[I 2024-11-25 04:09:02,661] Trial 40 finished with value: 0.47095825751410886 and parameters: {'alpha': 0.5230435035588965}. Best is trial 12 with value: 0.4677875123177859.\n",
      "[I 2024-11-25 04:09:03,060] Trial 41 finished with value: 0.4677910261018706 and parameters: {'alpha': 0.9991917708971064}. Best is trial 12 with value: 0.4677875123177859.\n",
      "[I 2024-11-25 04:09:03,374] Trial 42 finished with value: 0.46845878322112483 and parameters: {'alpha': 0.8767547596800888}. Best is trial 12 with value: 0.4677875123177859.\n",
      "[I 2024-11-25 04:09:03,762] Trial 43 finished with value: 0.4678082513405565 and parameters: {'alpha': 0.9958531267309758}. Best is trial 12 with value: 0.4677875123177859.\n",
      "[I 2024-11-25 04:09:04,177] Trial 44 finished with value: 0.46817378334711757 and parameters: {'alpha': 0.9272999168566922}. Best is trial 12 with value: 0.4677875123177859.\n",
      "[I 2024-11-25 04:09:04,577] Trial 45 finished with value: 0.46778903328455085 and parameters: {'alpha': 0.9995786697949008}. Best is trial 12 with value: 0.4677875123177859.\n",
      "[I 2024-11-25 04:09:04,960] Trial 46 finished with value: 0.468886446932473 and parameters: {'alpha': 0.8053492182550057}. Best is trial 12 with value: 0.4677875123177859.\n",
      "[I 2024-11-25 04:09:05,270] Trial 47 finished with value: 0.4680698553489439 and parameters: {'alpha': 0.9463535653161349}. Best is trial 12 with value: 0.4677875123177859.\n",
      "[I 2024-11-25 04:09:05,572] Trial 48 finished with value: 0.46914891805162967 and parameters: {'alpha': 0.7640023497500105}. Best is trial 12 with value: 0.4677875123177859.\n",
      "[I 2024-11-25 04:09:05,973] Trial 49 finished with value: 0.4683860165282129 and parameters: {'alpha': 0.8894274890827801}. Best is trial 12 with value: 0.4677875123177859.\n",
      "[I 2024-11-25 04:09:06,259] Trial 50 finished with value: 0.4686435500457038 and parameters: {'alpha': 0.8452710002717493}. Best is trial 12 with value: 0.4677875123177859.\n",
      "[I 2024-11-25 04:09:06,661] Trial 51 finished with value: 0.46782229100258993 and parameters: {'alpha': 0.9931393001765135}. Best is trial 12 with value: 0.4677875123177859.\n",
      "[I 2024-11-25 04:09:07,061] Trial 52 finished with value: 0.4679877140523274 and parameters: {'alpha': 0.9616557551411574}. Best is trial 12 with value: 0.4677875123177859.\n",
      "[I 2024-11-25 04:09:07,474] Trial 53 finished with value: 0.4678028521297172 and parameters: {'alpha': 0.9968985419100467}. Best is trial 12 with value: 0.4677875123177859.\n",
      "[I 2024-11-25 04:09:07,859] Trial 54 finished with value: 0.4680251322648531 and parameters: {'alpha': 0.954658217116567}. Best is trial 12 with value: 0.4677875123177859.\n",
      "[I 2024-11-25 04:09:08,173] Trial 55 finished with value: 0.468353754972421 and parameters: {'alpha': 0.8950964277780242}. Best is trial 12 with value: 0.4677875123177859.\n",
      "[I 2024-11-25 04:09:08,569] Trial 56 finished with value: 0.4680219434027269 and parameters: {'alpha': 0.9552528049047732}. Best is trial 12 with value: 0.4677875123177859.\n",
      "[I 2024-11-25 04:09:08,973] Trial 57 finished with value: 0.4683267569007072 and parameters: {'alpha': 0.8998644889123055}. Best is trial 12 with value: 0.4677875123177859.\n",
      "[I 2024-11-25 04:09:09,361] Trial 58 finished with value: 0.46872137034653016 and parameters: {'alpha': 0.8323023442755916}. Best is trial 12 with value: 0.4677875123177859.\n",
      "[I 2024-11-25 04:09:09,861] Trial 59 finished with value: 0.4735027119292519 and parameters: {'alpha': 0.284665601285933}. Best is trial 12 with value: 0.4677875123177859.\n",
      "[I 2024-11-25 04:09:10,262] Trial 60 finished with value: 0.4748960922473445 and parameters: {'alpha': 0.190179777088331}. Best is trial 12 with value: 0.4677875123177859.\n",
      "[I 2024-11-25 04:09:10,564] Trial 61 finished with value: 0.46783571441666716 and parameters: {'alpha': 0.9905507711342731}. Best is trial 12 with value: 0.4677875123177859.\n",
      "[I 2024-11-25 04:09:10,974] Trial 62 finished with value: 0.467788807910355 and parameters: {'alpha': 0.9996224338872834}. Best is trial 12 with value: 0.4677875123177859.\n",
      "[I 2024-11-25 04:09:11,361] Trial 63 finished with value: 0.4680185023144371 and parameters: {'alpha': 0.9558947887992522}. Best is trial 12 with value: 0.4677875123177859.\n",
      "[I 2024-11-25 04:09:11,672] Trial 64 finished with value: 0.46823635251998963 and parameters: {'alpha': 0.9159914850423775}. Best is trial 12 with value: 0.4677875123177859.\n",
      "[I 2024-11-25 04:09:12,060] Trial 65 finished with value: 0.46845879894724074 and parameters: {'alpha': 0.8767520377969185}. Best is trial 12 with value: 0.4677875123177859.\n",
      "[I 2024-11-25 04:09:12,468] Trial 66 finished with value: 0.4679950265118968 and parameters: {'alpha': 0.9602847084683673}. Best is trial 12 with value: 0.4677875123177859.\n",
      "[I 2024-11-25 04:09:12,868] Trial 67 finished with value: 0.4682318843744652 and parameters: {'alpha': 0.9167950252117845}. Best is trial 12 with value: 0.4677875123177859.\n",
      "[I 2024-11-25 04:09:13,172] Trial 68 finished with value: 0.46781004443529683 and parameters: {'alpha': 0.9955061579323463}. Best is trial 12 with value: 0.4677875123177859.\n",
      "[I 2024-11-25 04:09:13,560] Trial 69 finished with value: 0.4789812860167554 and parameters: {'alpha': 0.008763893558239255}. Best is trial 12 with value: 0.4677875123177859.\n",
      "[I 2024-11-25 04:09:13,959] Trial 70 finished with value: 0.46879950732715453 and parameters: {'alpha': 0.819451045916169}. Best is trial 12 with value: 0.4677875123177859.\n",
      "[I 2024-11-25 04:09:14,264] Trial 71 finished with value: 0.46792754121052993 and parameters: {'alpha': 0.9730038012996356}. Best is trial 12 with value: 0.4677875123177859.\n",
      "[I 2024-11-25 04:09:14,667] Trial 72 finished with value: 0.46779906297544227 and parameters: {'alpha': 0.9976327978301373}. Best is trial 12 with value: 0.4677875123177859.\n",
      "[I 2024-11-25 04:09:15,160] Trial 73 finished with value: 0.4681398671307992 and parameters: {'alpha': 0.9334806206488052}. Best is trial 12 with value: 0.4677875123177859.\n",
      "[I 2024-11-25 04:09:15,361] Trial 74 finished with value: 0.46778824794835866 and parameters: {'alpha': 0.9997311770440988}. Best is trial 12 with value: 0.4677875123177859.\n",
      "[I 2024-11-25 04:09:15,769] Trial 75 finished with value: 0.4685413010440764 and parameters: {'alpha': 0.8625720771457028}. Best is trial 12 with value: 0.4677875123177859.\n",
      "[I 2024-11-25 04:09:16,257] Trial 76 finished with value: 0.47267466663707924 and parameters: {'alpha': 0.3517441324237779}. Best is trial 12 with value: 0.4677875123177859.\n",
      "[I 2024-11-25 04:09:16,461] Trial 77 finished with value: 0.4680826027461922 and parameters: {'alpha': 0.9439981759879591}. Best is trial 12 with value: 0.4677875123177859.\n",
      "[I 2024-11-25 04:09:16,963] Trial 78 finished with value: 0.4679504282872007 and parameters: {'alpha': 0.9686736032564764}. Best is trial 12 with value: 0.4677875123177859.\n",
      "[I 2024-11-25 04:09:17,266] Trial 79 finished with value: 0.46826867807582645 and parameters: {'alpha': 0.9101963892882049}. Best is trial 12 with value: 0.4677875123177859.\n",
      "[I 2024-11-25 04:09:17,673] Trial 80 finished with value: 0.46904772614838613 and parameters: {'alpha': 0.7797281683118275}. Best is trial 12 with value: 0.4677875123177859.\n",
      "[I 2024-11-25 04:09:18,062] Trial 81 finished with value: 0.4677930497234717 and parameters: {'alpha': 0.9987990285769127}. Best is trial 12 with value: 0.4677875123177859.\n",
      "[I 2024-11-25 04:09:18,477] Trial 82 finished with value: 0.46793588997167396 and parameters: {'alpha': 0.9714222441567143}. Best is trial 12 with value: 0.4677875123177859.\n",
      "[I 2024-11-25 04:09:18,866] Trial 83 finished with value: 0.468111453853977 and parameters: {'alpha': 0.938686260138366}. Best is trial 12 with value: 0.4677875123177859.\n",
      "[I 2024-11-25 04:09:19,364] Trial 84 finished with value: 0.46778931773496674 and parameters: {'alpha': 0.9995234364857573}. Best is trial 12 with value: 0.4677875123177859.\n",
      "[I 2024-11-25 04:09:19,668] Trial 85 finished with value: 0.46837108992153237 and parameters: {'alpha': 0.8920464918715703}. Best is trial 12 with value: 0.4677875123177859.\n",
      "[I 2024-11-25 04:09:20,077] Trial 86 finished with value: 0.46779000690726424 and parameters: {'alpha': 0.9993896274168549}. Best is trial 12 with value: 0.4677875123177859.\n",
      "[I 2024-11-25 04:09:20,468] Trial 87 finished with value: 0.4679113656448514 and parameters: {'alpha': 0.9760745434337237}. Best is trial 12 with value: 0.4677875123177859.\n",
      "[I 2024-11-25 04:09:20,870] Trial 88 finished with value: 0.46821050409325027 and parameters: {'alpha': 0.9206485160306228}. Best is trial 12 with value: 0.4677875123177859.\n",
      "[I 2024-11-25 04:09:21,274] Trial 89 finished with value: 0.4677922235858793 and parameters: {'alpha': 0.9989593477920737}. Best is trial 12 with value: 0.4677875123177859.\n",
      "[I 2024-11-25 04:09:21,761] Trial 90 finished with value: 0.46807169259974074 and parameters: {'alpha': 0.9460137703030754}. Best is trial 12 with value: 0.4677875123177859.\n",
      "[I 2024-11-25 04:09:22,061] Trial 91 finished with value: 0.46779130153619247 and parameters: {'alpha': 0.9991383067754566}. Best is trial 12 with value: 0.4677875123177859.\n",
      "[I 2024-11-25 04:09:22,861] Trial 92 finished with value: 0.46791778336152984 and parameters: {'alpha': 0.9748551866661592}. Best is trial 12 with value: 0.4677875123177859.\n",
      "[I 2024-11-25 04:09:23,160] Trial 93 finished with value: 0.46793134536275754 and parameters: {'alpha': 0.9722828742489406}. Best is trial 12 with value: 0.4677875123177859.\n",
      "[I 2024-11-25 04:09:23,559] Trial 94 finished with value: 0.46803825018611467 and parameters: {'alpha': 0.9522157127918629}. Best is trial 12 with value: 0.4677875123177859.\n",
      "[I 2024-11-25 04:09:23,875] Trial 95 finished with value: 0.46829265327064024 and parameters: {'alpha': 0.9059189156839988}. Best is trial 12 with value: 0.4677875123177859.\n",
      "[I 2024-11-25 04:09:24,268] Trial 96 finished with value: 0.4681540387832992 and parameters: {'alpha': 0.930893683629912}. Best is trial 12 with value: 0.4677875123177859.\n",
      "[I 2024-11-25 04:09:24,677] Trial 97 finished with value: 0.46791237662193036 and parameters: {'alpha': 0.975882369422996}. Best is trial 12 with value: 0.4677875123177859.\n",
      "[I 2024-11-25 04:09:25,166] Trial 98 finished with value: 0.4697765019921159 and parameters: {'alpha': 0.6721712879247919}. Best is trial 12 with value: 0.4677875123177859.\n",
      "[I 2024-11-25 04:09:25,466] Trial 99 finished with value: 0.46779755655341815 and parameters: {'alpha': 0.9979248440847016}. Best is trial 12 with value: 0.4677875123177859.\n"
     ]
    },
    {
     "name": "stdout",
     "output_type": "stream",
     "text": [
      "Time taken: 38.496162 seconds\n"
     ]
    }
   ],
   "source": [
    "# Create a study object\n",
    "study = optuna.create_study(study_name=\"basic_example\", direction=\"minimize\")\n",
    "\n",
    "start = time.perf_counter()\n",
    "study.optimize(objective, n_trials=100) # Optimize the objective function\n",
    "end = time.perf_counter()\n",
    "\n",
    "print(f\"Time taken: {end-start:.6f} seconds\")"
   ]
  },
  {
   "cell_type": "markdown",
   "id": "e72f78d1-9f2a-40cb-8ec1-6a8b366dc380",
   "metadata": {},
   "source": [
    "## Suggesting Hyperparameters\n",
    "\n",
    "***Suggest Float*** <br>\n",
    "`suggest_float(name, low, high)`: Suggests a floating-point value distributed between `low` and `high`\n",
    "\n",
    "(optional) `step`: Defines the interval between possible values\n",
    "`log` (default is `False`)\n",
    "\n",
    "***Suggest Int*** <br>\n",
    "`suggest_int(name, low, high)`: Suggests an integer value between `low` and `high`\n",
    "\n",
    "***Suggest Categorical*** <br>\n",
    "`suggest_categorical(name, choices)`: Suggests a categorical value from the given list of choices"
   ]
  },
  {
   "cell_type": "code",
   "execution_count": 42,
   "id": "ac7155af-ada1-40d8-8c25-597ea373a844",
   "metadata": {
    "execution": {
     "iopub.execute_input": "2024-11-25T04:09:25.563033Z",
     "iopub.status.busy": "2024-11-25T04:09:25.562279Z",
     "iopub.status.idle": "2024-11-25T04:09:25.661043Z",
     "shell.execute_reply": "2024-11-25T04:09:25.659969Z",
     "shell.execute_reply.started": "2024-11-25T04:09:25.562976Z"
    }
   },
   "outputs": [],
   "source": [
    "# Define the objective function\n",
    "\n",
    "def objective(trial):\n",
    "    X, y = df.drop(\"injury_classification\", axis=1), df.injury_classification\n",
    "    X_train, X_test, y_train, y_test = train_test_split(X, y, test_size=0.3, random_state=42)\n",
    "\n",
    "    # Suggest hyperparameters\n",
    "    n_estimators = trial.suggest_int(\"n_estimators\", 10, 200)\n",
    "\n",
    "    model = RandomForestClassifier(n_estimators=n_estimators)\n",
    "    model.fit(X_train, y_train)\n",
    "\n",
    "    y_pred = model.predict(X_test)\n",
    "    score = mean_squared_error(y_test, y_pred)\n",
    "    return score"
   ]
  },
  {
   "cell_type": "code",
   "execution_count": 43,
   "id": "156ed7ab-4237-4f58-a56b-8972616714ab",
   "metadata": {
    "execution": {
     "iopub.execute_input": "2024-11-25T04:09:25.662412Z",
     "iopub.status.busy": "2024-11-25T04:09:25.662127Z",
     "iopub.status.idle": "2024-11-25T04:09:29.081636Z",
     "shell.execute_reply": "2024-11-25T04:09:29.080743Z",
     "shell.execute_reply.started": "2024-11-25T04:09:25.662381Z"
    }
   },
   "outputs": [
    {
     "name": "stderr",
     "output_type": "stream",
     "text": [
      "[I 2024-11-25 04:09:25,665] A new study created in memory with name: int_rf_example\n",
      "[I 2024-11-25 04:09:25,816] Trial 0 finished with value: 0.6274509803921569 and parameters: {'n_estimators': 40}. Best is trial 0 with value: 0.6274509803921569.\n",
      "[I 2024-11-25 04:09:25,958] Trial 1 finished with value: 0.5163398692810458 and parameters: {'n_estimators': 40}. Best is trial 1 with value: 0.5163398692810458.\n",
      "[I 2024-11-25 04:09:26,572] Trial 2 finished with value: 0.6666666666666666 and parameters: {'n_estimators': 160}. Best is trial 1 with value: 0.5163398692810458.\n",
      "[I 2024-11-25 04:09:26,683] Trial 3 finished with value: 0.673202614379085 and parameters: {'n_estimators': 41}. Best is trial 1 with value: 0.5163398692810458.\n",
      "[I 2024-11-25 04:09:27,261] Trial 4 finished with value: 0.6666666666666666 and parameters: {'n_estimators': 176}. Best is trial 1 with value: 0.5163398692810458.\n",
      "[I 2024-11-25 04:09:27,669] Trial 5 finished with value: 0.6797385620915033 and parameters: {'n_estimators': 165}. Best is trial 1 with value: 0.5163398692810458.\n",
      "[I 2024-11-25 04:09:28,147] Trial 6 finished with value: 0.6797385620915033 and parameters: {'n_estimators': 194}. Best is trial 1 with value: 0.5163398692810458.\n",
      "[I 2024-11-25 04:09:28,469] Trial 7 finished with value: 0.6339869281045751 and parameters: {'n_estimators': 126}. Best is trial 1 with value: 0.5163398692810458.\n",
      "[I 2024-11-25 04:09:28,779] Trial 8 finished with value: 0.6372549019607843 and parameters: {'n_estimators': 44}. Best is trial 1 with value: 0.5163398692810458.\n",
      "[I 2024-11-25 04:09:29,076] Trial 9 finished with value: 0.6666666666666666 and parameters: {'n_estimators': 118}. Best is trial 1 with value: 0.5163398692810458.\n"
     ]
    },
    {
     "name": "stdout",
     "output_type": "stream",
     "text": [
      "Time taken: 3.410679 seconds\n"
     ]
    }
   ],
   "source": [
    "# Create a study object\n",
    "study = optuna.create_study(study_name=\"int_rf_example\", direction=\"minimize\")\n",
    "\n",
    "start = time.perf_counter()\n",
    "study.optimize(objective, n_trials=10) # Optimize the objective function\n",
    "end = time.perf_counter()\n",
    "\n",
    "print(f\"Time taken: {end-start:.6f} seconds\")"
   ]
  },
  {
   "cell_type": "code",
   "execution_count": 44,
   "id": "093a46cd-1d30-4c68-8963-6e1c90e8d17c",
   "metadata": {
    "execution": {
     "iopub.execute_input": "2024-11-25T04:09:29.083763Z",
     "iopub.status.busy": "2024-11-25T04:09:29.083506Z",
     "iopub.status.idle": "2024-11-25T04:09:29.088020Z",
     "shell.execute_reply": "2024-11-25T04:09:29.087380Z",
     "shell.execute_reply.started": "2024-11-25T04:09:29.083742Z"
    }
   },
   "outputs": [
    {
     "name": "stdout",
     "output_type": "stream",
     "text": [
      "Best hyperparameters: {'n_estimators': 40}\n",
      "Best value: 0.5163398692810458\n"
     ]
    }
   ],
   "source": [
    "print(\"Best hyperparameters:\", study.best_params)\n",
    "print(\"Best value:\", study.best_value)"
   ]
  },
  {
   "cell_type": "markdown",
   "id": "cdd4cabf-6149-41bb-aff8-56b0513bf799",
   "metadata": {},
   "source": [
    "## Hyperparameter tuning comparison using GridSearch vs Optuna"
   ]
  },
  {
   "cell_type": "code",
   "execution_count": 45,
   "id": "0a149849-4b95-48df-906b-44ae929153f0",
   "metadata": {
    "execution": {
     "iopub.execute_input": "2024-11-25T04:09:29.089009Z",
     "iopub.status.busy": "2024-11-25T04:09:29.088771Z",
     "iopub.status.idle": "2024-11-25T04:09:31.347569Z",
     "shell.execute_reply": "2024-11-25T04:09:31.346552Z",
     "shell.execute_reply.started": "2024-11-25T04:09:29.088986Z"
    }
   },
   "outputs": [
    {
     "name": "stderr",
     "output_type": "stream",
     "text": [
      "/tmp/ipykernel_36219/834794539.py:2: FutureWarning:\n",
      "\n",
      "The 'delim_whitespace' keyword in pd.read_csv is deprecated and will be removed in a future version. Use ``sep='\\s+'`` instead\n",
      "\n"
     ]
    }
   ],
   "source": [
    "# Load Boston Housing dataset from external source\n",
    "df = pd.read_csv(\n",
    "    filepath_or_buffer=\"http://lib.stat.cmu.edu/datasets/boston\",\n",
    "    delim_whitespace=True,\n",
    "    skiprows=21,\n",
    "    header=None,\n",
    ")\n",
    "\n",
    "columns = [\n",
    "    'CRIM', 'ZN', 'INDUS', 'CHAS', 'NOX', 'RM', 'AGE', 'DIS', 'RAD', 'TAX', 'PTRATIO', 'B', 'LSTAT', 'MEDV',\n",
    "]\n",
    "\n",
    "# Flatten all the values into a single long list and remove the nulls\n",
    "values_w_nulls = df.values.flatten()\n",
    "all_values = values_w_nulls[~np.isnan(values_w_nulls)]\n",
    "\n",
    "# Reshape the values to have 14 columns and make a new df out of them\n",
    "df = pd.DataFrame(\n",
    "    data=all_values.reshape(-1, len(columns)),\n",
    "    columns=columns,\n",
    ")\n",
    "df1 = df\n",
    "boston = df"
   ]
  },
  {
   "cell_type": "code",
   "execution_count": 46,
   "id": "032f4041-588c-40f9-9e94-0aa2d04c18c9",
   "metadata": {
    "execution": {
     "iopub.execute_input": "2024-11-25T04:09:31.348919Z",
     "iopub.status.busy": "2024-11-25T04:09:31.348649Z",
     "iopub.status.idle": "2024-11-25T04:09:31.356591Z",
     "shell.execute_reply": "2024-11-25T04:09:31.355902Z",
     "shell.execute_reply.started": "2024-11-25T04:09:31.348894Z"
    }
   },
   "outputs": [],
   "source": [
    "# Split data into features and target\n",
    "X = boston.drop(columns=['MEDV'])\n",
    "y = boston['MEDV']\n",
    "\n",
    "# Split data into training and testing sets\n",
    "X_train, X_test, y_train, y_test = train_test_split(X, y, test_size=0.2, random_state=42)"
   ]
  },
  {
   "cell_type": "code",
   "execution_count": 47,
   "id": "a75f90b8-cc38-4df5-829e-e44f00784275",
   "metadata": {
    "execution": {
     "iopub.execute_input": "2024-11-25T04:09:31.357820Z",
     "iopub.status.busy": "2024-11-25T04:09:31.357562Z",
     "iopub.status.idle": "2024-11-25T04:09:31.364130Z",
     "shell.execute_reply": "2024-11-25T04:09:31.363456Z",
     "shell.execute_reply.started": "2024-11-25T04:09:31.357796Z"
    }
   },
   "outputs": [],
   "source": [
    "# Define models and parameter grids\n",
    "models = {\n",
    "    'RandomForest': (RandomForestRegressor(), {\n",
    "        'n_estimators': [50, 100],\n",
    "        'max_depth': [3, 5, 10]\n",
    "    }),\n",
    "    'GradientBoosting': (GradientBoostingRegressor(), {\n",
    "        'n_estimators': [50, 100],\n",
    "        'learning_rate': [0.01, 0.1],\n",
    "        'max_depth': [3, 5]\n",
    "    }),\n",
    "    'XGBoost': (XGBRegressor(objective='reg:squarederror'), {\n",
    "        'n_estimators': [50, 100],\n",
    "        'learning_rate': [0.01, 0.1],\n",
    "        'max_depth': [3, 5]\n",
    "    }),\n",
    "    'SVR': (SVR(), {\n",
    "        'C': [0.1, 1, 10],\n",
    "        'kernel': ['linear', 'rbf']\n",
    "    })\n",
    "}"
   ]
  },
  {
   "cell_type": "code",
   "execution_count": 48,
   "id": "d61ac66c-be5b-454a-8ec3-30b3c3f1d7ec",
   "metadata": {
    "execution": {
     "iopub.execute_input": "2024-11-25T04:09:31.365317Z",
     "iopub.status.busy": "2024-11-25T04:09:31.365062Z",
     "iopub.status.idle": "2024-11-25T04:10:53.890841Z",
     "shell.execute_reply": "2024-11-25T04:10:53.889485Z",
     "shell.execute_reply.started": "2024-11-25T04:09:31.365293Z"
    }
   },
   "outputs": [
    {
     "name": "stdout",
     "output_type": "stream",
     "text": [
      "{'Dataset': 'Original', 'Method': 'GridSearch', 'Model': 'XGBoost', 'Best Parameters': {'learning_rate': 0.1, 'max_depth': 3, 'n_estimators': 100}, 'Total Runtime (s)': 82.51377177238464}\n"
     ]
    }
   ],
   "source": [
    "# Perform GridSearch with cross-validation for each model and store only the best result\n",
    "results = []\n",
    "total_start_time = time.time()\n",
    "\n",
    "best_model_overall = None\n",
    "best_mse_overall = float('inf')\n",
    "best_model_name = None\n",
    "best_params_overall = None\n",
    "\n",
    "for model_name, (model, param_grid) in models.items():\n",
    "    # print(f\"Running GridSearchCV for {model_name}...\")\n",
    "    start_time = time.time()\n",
    "    grid_search = GridSearchCV(model, param_grid, cv=5, n_jobs=-1, scoring='neg_mean_squared_error')\n",
    "    grid_search.fit(X_train, y_train)\n",
    "    end_time = time.time()\n",
    "\n",
    "    best_model = grid_search.best_estimator_\n",
    "    best_params = grid_search.best_params_\n",
    "\n",
    "    # Calculate MSE on the test set\n",
    "    y_pred = best_model.predict(X_test)\n",
    "    mse = mean_squared_error(y_test, y_pred)\n",
    "\n",
    "    # Store the best model if it has the lowest MSE\n",
    "    if mse < best_mse_overall:\n",
    "        best_mse_overall = mse\n",
    "        best_model_overall = best_model\n",
    "        best_model_name = model_name\n",
    "        best_params_overall = best_params\n",
    "\n",
    "# Store the total runtime for GridSearch\n",
    "total_end_time = time.time()\n",
    "gridsearch_total_time = total_end_time - total_start_time\n",
    "\n",
    "# Store the best GridSearch result\n",
    "result = {\n",
    "    'Dataset': 'Original',\n",
    "    'Method': 'GridSearch',\n",
    "    'Model': best_model_name,\n",
    "    'Best Parameters': best_params_overall,\n",
    "    'Total Runtime (s)': gridsearch_total_time\n",
    "}\n",
    "\n",
    "results.append(result)\n",
    "\n",
    "print(result)"
   ]
  },
  {
   "cell_type": "markdown",
   "id": "b0735c9b-6aeb-42fe-bb17-e093c94d2dee",
   "metadata": {},
   "source": [
    "## Optuna Trial"
   ]
  },
  {
   "cell_type": "code",
   "execution_count": 49,
   "id": "81868cc9-7914-4b55-a652-cbfaefec821a",
   "metadata": {
    "execution": {
     "iopub.execute_input": "2024-11-25T04:10:53.892991Z",
     "iopub.status.busy": "2024-11-25T04:10:53.892684Z",
     "iopub.status.idle": "2024-11-25T04:10:53.902292Z",
     "shell.execute_reply": "2024-11-25T04:10:53.901715Z",
     "shell.execute_reply.started": "2024-11-25T04:10:53.892960Z"
    }
   },
   "outputs": [],
   "source": [
    "# Define the objective function for Optuna\n",
    "def objective(trial):\n",
    "    model_name = trial.suggest_categorical('model', ['RandomForest', 'GradientBoosting', 'XGBoost', 'SVR'])\n",
    "    \n",
    "    if model_name == 'RandomForest':\n",
    "        n_estimators = trial.suggest_int('n_estimators', 50, 200)\n",
    "        max_depth = trial.suggest_int('max_depth', 3, 10)\n",
    "        model = RandomForestRegressor(n_estimators=n_estimators, max_depth=max_depth)\n",
    "    elif model_name == 'GradientBoosting':\n",
    "        n_estimators = trial.suggest_int('n_estimators', 50, 200)\n",
    "        learning_rate = trial.suggest_float('learning_rate', 0.01, 0.2)\n",
    "        max_depth = trial.suggest_int('max_depth', 3, 10)\n",
    "        model = GradientBoostingRegressor(n_estimators=n_estimators, learning_rate=learning_rate, max_depth=max_depth)\n",
    "    elif model_name == 'XGBoost':\n",
    "        n_estimators = trial.suggest_int('n_estimators', 50, 200)\n",
    "        learning_rate = trial.suggest_float('learning_rate', 0.01, 0.2)\n",
    "        max_depth = trial.suggest_int('max_depth', 3, 10)\n",
    "        model = XGBRegressor(n_estimators=n_estimators, learning_rate=learning_rate, max_depth=max_depth, objective='reg:squarederror')\n",
    "    elif model_name == 'SVR':\n",
    "        C = trial.suggest_float('C', 0.1, 10)\n",
    "        kernel = trial.suggest_categorical('kernel', ['linear', 'rbf'])\n",
    "        model = SVR(C=C, kernel=kernel)\n",
    "    \n",
    "    model.fit(X_train, y_train)\n",
    "    y_pred = model.predict(X_test)\n",
    "    mse = mean_squared_error(y_test, y_pred)\n",
    "    return mse"
   ]
  },
  {
   "cell_type": "code",
   "execution_count": 50,
   "id": "ce4dc80f-eaf5-4849-8f9f-46f0ffb1e475",
   "metadata": {
    "execution": {
     "iopub.execute_input": "2024-11-25T04:10:53.904976Z",
     "iopub.status.busy": "2024-11-25T04:10:53.904723Z",
     "iopub.status.idle": "2024-11-25T04:11:39.936880Z",
     "shell.execute_reply": "2024-11-25T04:11:39.935806Z",
     "shell.execute_reply.started": "2024-11-25T04:10:53.904952Z"
    }
   },
   "outputs": [
    {
     "name": "stderr",
     "output_type": "stream",
     "text": [
      "[I 2024-11-25 04:10:53,908] A new study created in memory with name: no-name-37f434c9-c6fc-440a-bab8-31166240d296\n",
      "[I 2024-11-25 04:10:54,172] Trial 0 finished with value: 8.784184603075868 and parameters: {'model': 'XGBoost', 'n_estimators': 131, 'learning_rate': 0.18780072912907836, 'max_depth': 8}. Best is trial 0 with value: 8.784184603075868.\n",
      "[I 2024-11-25 04:10:54,657] Trial 1 finished with value: 9.025951939632327 and parameters: {'model': 'RandomForest', 'n_estimators': 96, 'max_depth': 6}. Best is trial 0 with value: 8.784184603075868.\n",
      "[I 2024-11-25 04:10:54,675] Trial 2 finished with value: 45.06615448524173 and parameters: {'model': 'SVR', 'C': 8.670160084460276, 'kernel': 'rbf'}. Best is trial 0 with value: 8.784184603075868.\n",
      "[I 2024-11-25 04:10:54,892] Trial 3 finished with value: 4.478796501926919 and parameters: {'model': 'GradientBoosting', 'n_estimators': 80, 'learning_rate': 0.09041086360539885, 'max_depth': 6}. Best is trial 3 with value: 4.478796501926919.\n",
      "[I 2024-11-25 04:10:55,160] Trial 4 finished with value: 7.07840633554221 and parameters: {'model': 'GradientBoosting', 'n_estimators': 116, 'learning_rate': 0.0196847467761223, 'max_depth': 5}. Best is trial 3 with value: 4.478796501926919.\n",
      "[I 2024-11-25 04:10:55,464] Trial 5 finished with value: 10.07740241881381 and parameters: {'model': 'GradientBoosting', 'n_estimators': 75, 'learning_rate': 0.15417331091563052, 'max_depth': 10}. Best is trial 3 with value: 4.478796501926919.\n",
      "[I 2024-11-25 04:10:55,480] Trial 6 finished with value: 54.30845090390131 and parameters: {'model': 'SVR', 'C': 0.556588013752745, 'kernel': 'rbf'}. Best is trial 3 with value: 4.478796501926919.\n",
      "[I 2024-11-25 04:10:55,932] Trial 7 finished with value: 8.457547223170593 and parameters: {'model': 'RandomForest', 'n_estimators': 160, 'max_depth': 8}. Best is trial 3 with value: 4.478796501926919.\n",
      "[I 2024-11-25 04:10:56,115] Trial 8 finished with value: 10.591905922643218 and parameters: {'model': 'RandomForest', 'n_estimators': 68, 'max_depth': 7}. Best is trial 3 with value: 4.478796501926919.\n",
      "[I 2024-11-25 04:11:16,826] Trial 9 finished with value: 31.352967210721722 and parameters: {'model': 'SVR', 'C': 6.457296977377607, 'kernel': 'linear'}. Best is trial 3 with value: 4.478796501926919.\n",
      "[I 2024-11-25 04:11:16,925] Trial 10 finished with value: 9.509487130728564 and parameters: {'model': 'GradientBoosting', 'n_estimators': 50, 'learning_rate': 0.057747503785771905, 'max_depth': 3}. Best is trial 3 with value: 4.478796501926919.\n",
      "[I 2024-11-25 04:11:17,155] Trial 11 finished with value: 10.912302163481257 and parameters: {'model': 'GradientBoosting', 'n_estimators': 113, 'learning_rate': 0.014994227974583135, 'max_depth': 4}. Best is trial 3 with value: 4.478796501926919.\n",
      "[I 2024-11-25 04:11:17,605] Trial 12 finished with value: 5.059325865417725 and parameters: {'model': 'GradientBoosting', 'n_estimators': 195, 'learning_rate': 0.10068765680220106, 'max_depth': 5}. Best is trial 3 with value: 4.478796501926919.\n",
      "[I 2024-11-25 04:11:18,227] Trial 13 finished with value: 5.224221727203375 and parameters: {'model': 'GradientBoosting', 'n_estimators': 196, 'learning_rate': 0.10145184148846148, 'max_depth': 5}. Best is trial 3 with value: 4.478796501926919.\n",
      "[I 2024-11-25 04:11:18,459] Trial 14 finished with value: 6.646122092140529 and parameters: {'model': 'XGBoost', 'n_estimators': 199, 'learning_rate': 0.10371402616121277, 'max_depth': 6}. Best is trial 3 with value: 4.478796501926919.\n",
      "[I 2024-11-25 04:11:18,773] Trial 15 finished with value: 6.803106744887023 and parameters: {'model': 'GradientBoosting', 'n_estimators': 147, 'learning_rate': 0.06968296991142994, 'max_depth': 3}. Best is trial 3 with value: 4.478796501926919.\n",
      "[I 2024-11-25 04:11:19,163] Trial 16 finished with value: 5.166841750947252 and parameters: {'model': 'GradientBoosting', 'n_estimators': 164, 'learning_rate': 0.13789868212695353, 'max_depth': 5}. Best is trial 3 with value: 4.478796501926919.\n",
      "[I 2024-11-25 04:11:19,459] Trial 17 finished with value: 5.189731374066881 and parameters: {'model': 'GradientBoosting', 'n_estimators': 93, 'learning_rate': 0.07253115886322259, 'max_depth': 7}. Best is trial 3 with value: 4.478796501926919.\n",
      "[I 2024-11-25 04:11:19,785] Trial 18 finished with value: 8.219892701579505 and parameters: {'model': 'XGBoost', 'n_estimators': 180, 'learning_rate': 0.14109298177632465, 'max_depth': 10}. Best is trial 3 with value: 4.478796501926919.\n",
      "[I 2024-11-25 04:11:20,127] Trial 19 finished with value: 5.295334807023008 and parameters: {'model': 'GradientBoosting', 'n_estimators': 136, 'learning_rate': 0.11782358754213618, 'max_depth': 4}. Best is trial 3 with value: 4.478796501926919.\n",
      "[I 2024-11-25 04:11:20,699] Trial 20 finished with value: 5.875375810223127 and parameters: {'model': 'GradientBoosting', 'n_estimators': 96, 'learning_rate': 0.051001176806616005, 'max_depth': 8}. Best is trial 3 with value: 4.478796501926919.\n",
      "[I 2024-11-25 04:11:21,104] Trial 21 finished with value: 4.82735835762193 and parameters: {'model': 'GradientBoosting', 'n_estimators': 170, 'learning_rate': 0.13330255297313914, 'max_depth': 5}. Best is trial 3 with value: 4.478796501926919.\n",
      "[I 2024-11-25 04:11:21,774] Trial 22 finished with value: 4.6938080313168875 and parameters: {'model': 'GradientBoosting', 'n_estimators': 180, 'learning_rate': 0.11633208870269934, 'max_depth': 6}. Best is trial 3 with value: 4.478796501926919.\n",
      "[I 2024-11-25 04:11:22,329] Trial 23 finished with value: 6.043806588228969 and parameters: {'model': 'GradientBoosting', 'n_estimators': 173, 'learning_rate': 0.17253388030101946, 'max_depth': 6}. Best is trial 3 with value: 4.478796501926919.\n",
      "[I 2024-11-25 04:11:22,803] Trial 24 finished with value: 4.801908900414285 and parameters: {'model': 'GradientBoosting', 'n_estimators': 147, 'learning_rate': 0.12260537373618446, 'max_depth': 7}. Best is trial 3 with value: 4.478796501926919.\n",
      "[I 2024-11-25 04:11:23,270] Trial 25 finished with value: 4.65970615057678 and parameters: {'model': 'GradientBoosting', 'n_estimators': 149, 'learning_rate': 0.08660961550246797, 'max_depth': 7}. Best is trial 3 with value: 4.478796501926919.\n",
      "[I 2024-11-25 04:11:25,178] Trial 26 finished with value: 29.23804820278595 and parameters: {'model': 'SVR', 'C': 0.6850251065183741, 'kernel': 'linear'}. Best is trial 3 with value: 4.478796501926919.\n",
      "[I 2024-11-25 04:11:25,650] Trial 27 finished with value: 9.04552306367401 and parameters: {'model': 'RandomForest', 'n_estimators': 150, 'max_depth': 9}. Best is trial 3 with value: 4.478796501926919.\n",
      "[I 2024-11-25 04:11:25,822] Trial 28 finished with value: 7.614417693402744 and parameters: {'model': 'XGBoost', 'n_estimators': 117, 'learning_rate': 0.08453906235285027, 'max_depth': 7}. Best is trial 3 with value: 4.478796501926919.\n",
      "[I 2024-11-25 04:11:26,059] Trial 29 finished with value: 6.856541567810774 and parameters: {'model': 'XGBoost', 'n_estimators': 187, 'learning_rate': 0.08676752476001426, 'max_depth': 6}. Best is trial 3 with value: 4.478796501926919.\n",
      "[I 2024-11-25 04:11:26,729] Trial 30 finished with value: 6.379561799897746 and parameters: {'model': 'GradientBoosting', 'n_estimators': 157, 'learning_rate': 0.04491506259670524, 'max_depth': 9}. Best is trial 3 with value: 4.478796501926919.\n",
      "[I 2024-11-25 04:11:27,177] Trial 31 finished with value: 5.055599671111777 and parameters: {'model': 'GradientBoosting', 'n_estimators': 141, 'learning_rate': 0.12313299795444686, 'max_depth': 7}. Best is trial 3 with value: 4.478796501926919.\n",
      "[I 2024-11-25 04:11:27,829] Trial 32 finished with value: 4.935082795646192 and parameters: {'model': 'GradientBoosting', 'n_estimators': 125, 'learning_rate': 0.11939245954808103, 'max_depth': 7}. Best is trial 3 with value: 4.478796501926919.\n",
      "[I 2024-11-25 04:11:28,234] Trial 33 finished with value: 4.278634907088648 and parameters: {'model': 'GradientBoosting', 'n_estimators': 149, 'learning_rate': 0.08598656148573766, 'max_depth': 6}. Best is trial 33 with value: 4.278634907088648.\n",
      "[I 2024-11-25 04:11:28,777] Trial 34 finished with value: 4.642928489745515 and parameters: {'model': 'GradientBoosting', 'n_estimators': 130, 'learning_rate': 0.08668074738685509, 'max_depth': 6}. Best is trial 33 with value: 4.278634907088648.\n",
      "[I 2024-11-25 04:11:29,232] Trial 35 finished with value: 8.673515590506076 and parameters: {'model': 'RandomForest', 'n_estimators': 130, 'max_depth': 8}. Best is trial 33 with value: 4.278634907088648.\n",
      "[I 2024-11-25 04:11:35,671] Trial 36 finished with value: 30.49810075080908 and parameters: {'model': 'SVR', 'C': 4.096754751608925, 'kernel': 'linear'}. Best is trial 33 with value: 4.278634907088648.\n",
      "[I 2024-11-25 04:11:35,972] Trial 37 finished with value: 4.733314669823249 and parameters: {'model': 'GradientBoosting', 'n_estimators': 104, 'learning_rate': 0.08840771259603672, 'max_depth': 6}. Best is trial 33 with value: 4.278634907088648.\n",
      "[I 2024-11-25 04:11:36,248] Trial 38 finished with value: 6.3742574321700065 and parameters: {'model': 'GradientBoosting', 'n_estimators': 132, 'learning_rate': 0.07090878569815273, 'max_depth': 4}. Best is trial 33 with value: 4.278634907088648.\n",
      "[I 2024-11-25 04:11:36,470] Trial 39 finished with value: 9.396721240651985 and parameters: {'model': 'RandomForest', 'n_estimators': 83, 'max_depth': 6}. Best is trial 33 with value: 4.278634907088648.\n",
      "[I 2024-11-25 04:11:36,501] Trial 40 finished with value: 44.858216392390226 and parameters: {'model': 'SVR', 'C': 9.298896280263481, 'kernel': 'rbf'}. Best is trial 33 with value: 4.278634907088648.\n",
      "[I 2024-11-25 04:11:36,961] Trial 41 finished with value: 4.791013146379439 and parameters: {'model': 'GradientBoosting', 'n_estimators': 155, 'learning_rate': 0.0889028500839256, 'max_depth': 6}. Best is trial 33 with value: 4.278634907088648.\n",
      "[I 2024-11-25 04:11:37,355] Trial 42 finished with value: 5.148014809692082 and parameters: {'model': 'GradientBoosting', 'n_estimators': 141, 'learning_rate': 0.1081402669385749, 'max_depth': 6}. Best is trial 33 with value: 4.278634907088648.\n",
      "[I 2024-11-25 04:11:37,892] Trial 43 finished with value: 5.06846787102991 and parameters: {'model': 'GradientBoosting', 'n_estimators': 123, 'learning_rate': 0.07938099223664152, 'max_depth': 5}. Best is trial 33 with value: 4.278634907088648.\n",
      "[I 2024-11-25 04:11:38,229] Trial 44 finished with value: 6.066635001754285 and parameters: {'model': 'GradientBoosting', 'n_estimators': 106, 'learning_rate': 0.09818996615263836, 'max_depth': 7}. Best is trial 33 with value: 4.278634907088648.\n",
      "[I 2024-11-25 04:11:38,422] Trial 45 finished with value: 6.662356095853991 and parameters: {'model': 'GradientBoosting', 'n_estimators': 64, 'learning_rate': 0.03627161261245308, 'max_depth': 6}. Best is trial 33 with value: 4.278634907088648.\n",
      "[I 2024-11-25 04:11:39,161] Trial 46 finished with value: 5.504286829868235 and parameters: {'model': 'GradientBoosting', 'n_estimators': 166, 'learning_rate': 0.05893786762799157, 'max_depth': 8}. Best is trial 33 with value: 4.278634907088648.\n",
      "[I 2024-11-25 04:11:39,634] Trial 47 finished with value: 4.735211390864485 and parameters: {'model': 'GradientBoosting', 'n_estimators': 180, 'learning_rate': 0.11232336396653574, 'max_depth': 5}. Best is trial 33 with value: 4.278634907088648.\n",
      "[I 2024-11-25 04:11:39,810] Trial 48 finished with value: 5.85896457933702 and parameters: {'model': 'GradientBoosting', 'n_estimators': 51, 'learning_rate': 0.0645950703829014, 'max_depth': 7}. Best is trial 33 with value: 4.278634907088648.\n",
      "[I 2024-11-25 04:11:39,930] Trial 49 finished with value: 6.023199989521324 and parameters: {'model': 'XGBoost', 'n_estimators': 115, 'learning_rate': 0.09105623398302162, 'max_depth': 5}. Best is trial 33 with value: 4.278634907088648.\n"
     ]
    },
    {
     "name": "stdout",
     "output_type": "stream",
     "text": [
      "{'Dataset': 'Original', 'Method': 'Optuna', 'Model': 'GradientBoosting', 'Best Parameters': {'model': 'GradientBoosting', 'n_estimators': 149, 'learning_rate': 0.08598656148573766, 'max_depth': 6}, 'Total Runtime (s)': 46.024049282073975}\n"
     ]
    }
   ],
   "source": [
    "# Run Optuna optimization\n",
    "study_start_time = time.time()\n",
    "study = optuna.create_study(direction='minimize')\n",
    "study.optimize(objective, n_trials=50)\n",
    "study_end_time = time.time()\n",
    "\n",
    "# Adding summary of the Optuna results\n",
    "optuna_best_params = study.best_trial.params\n",
    "optuna_best_value = study.best_trial.value\n",
    "optuna_total_time = study_end_time - study_start_time\n",
    "\n",
    "result = {\n",
    "    'Dataset': 'Original',\n",
    "    'Method': 'Optuna',\n",
    "    'Model': study.best_trial.params.get('model'),\n",
    "    'Best Parameters': optuna_best_params,\n",
    "    'Total Runtime (s)': optuna_total_time\n",
    "}\n",
    "results.append(result)\n",
    "\n",
    "print(result)"
   ]
  },
  {
   "cell_type": "markdown",
   "id": "f4cfd9c7-2f23-4755-ac74-a5efa5b6fff4",
   "metadata": {},
   "source": [
    "### Using derived features"
   ]
  },
  {
   "cell_type": "markdown",
   "id": "234b22e4-a875-40d4-b852-a0e277e1369b",
   "metadata": {
    "execution": {
     "iopub.execute_input": "2024-11-17T11:48:18.219373Z",
     "iopub.status.busy": "2024-11-17T11:48:18.218889Z",
     "iopub.status.idle": "2024-11-17T11:48:18.224012Z",
     "shell.execute_reply": "2024-11-17T11:48:18.223108Z",
     "shell.execute_reply.started": "2024-11-17T11:48:18.219332Z"
    }
   },
   "source": [
    "#### GridSearch"
   ]
  },
  {
   "cell_type": "code",
   "execution_count": 51,
   "id": "cbf5b5ba-8614-4f2c-b2cc-38a9b354ad32",
   "metadata": {
    "execution": {
     "iopub.execute_input": "2024-11-25T04:11:39.957937Z",
     "iopub.status.busy": "2024-11-25T04:11:39.938436Z",
     "iopub.status.idle": "2024-11-25T04:11:40.065192Z",
     "shell.execute_reply": "2024-11-25T04:11:40.064223Z",
     "shell.execute_reply.started": "2024-11-25T04:11:39.957864Z"
    }
   },
   "outputs": [
    {
     "data": {
      "text/html": [
       "<div>\n",
       "<style scoped>\n",
       "    .dataframe tbody tr th:only-of-type {\n",
       "        vertical-align: middle;\n",
       "    }\n",
       "\n",
       "    .dataframe tbody tr th {\n",
       "        vertical-align: top;\n",
       "    }\n",
       "\n",
       "    .dataframe thead th {\n",
       "        text-align: right;\n",
       "    }\n",
       "</style>\n",
       "<table border=\"1\" class=\"dataframe\">\n",
       "  <thead>\n",
       "    <tr style=\"text-align: right;\">\n",
       "      <th></th>\n",
       "      <th>CRIM</th>\n",
       "      <th>ZN</th>\n",
       "      <th>INDUS</th>\n",
       "      <th>CHAS</th>\n",
       "      <th>NOX</th>\n",
       "      <th>RM</th>\n",
       "      <th>AGE</th>\n",
       "      <th>DIS</th>\n",
       "      <th>RAD</th>\n",
       "      <th>TAX</th>\n",
       "      <th>...</th>\n",
       "      <th>TAX_TAX</th>\n",
       "      <th>TAX_PTRATIO</th>\n",
       "      <th>TAX_B</th>\n",
       "      <th>TAX_LSTAT</th>\n",
       "      <th>PTRATIO_PTRATIO</th>\n",
       "      <th>PTRATIO_B</th>\n",
       "      <th>PTRATIO_LSTAT</th>\n",
       "      <th>B_B</th>\n",
       "      <th>B_LSTAT</th>\n",
       "      <th>LSTAT_LSTAT</th>\n",
       "    </tr>\n",
       "  </thead>\n",
       "  <tbody>\n",
       "    <tr>\n",
       "      <th>0</th>\n",
       "      <td>0.00632</td>\n",
       "      <td>18.0</td>\n",
       "      <td>2.31</td>\n",
       "      <td>0.0</td>\n",
       "      <td>0.538</td>\n",
       "      <td>6.575</td>\n",
       "      <td>65.2</td>\n",
       "      <td>4.0900</td>\n",
       "      <td>1.0</td>\n",
       "      <td>296.0</td>\n",
       "      <td>...</td>\n",
       "      <td>87616.0</td>\n",
       "      <td>4528.8</td>\n",
       "      <td>117482.40</td>\n",
       "      <td>1474.08</td>\n",
       "      <td>234.09</td>\n",
       "      <td>6072.570</td>\n",
       "      <td>76.194</td>\n",
       "      <td>157529.6100</td>\n",
       "      <td>1976.5620</td>\n",
       "      <td>24.8004</td>\n",
       "    </tr>\n",
       "    <tr>\n",
       "      <th>1</th>\n",
       "      <td>0.02731</td>\n",
       "      <td>0.0</td>\n",
       "      <td>7.07</td>\n",
       "      <td>0.0</td>\n",
       "      <td>0.469</td>\n",
       "      <td>6.421</td>\n",
       "      <td>78.9</td>\n",
       "      <td>4.9671</td>\n",
       "      <td>2.0</td>\n",
       "      <td>242.0</td>\n",
       "      <td>...</td>\n",
       "      <td>58564.0</td>\n",
       "      <td>4307.6</td>\n",
       "      <td>96049.80</td>\n",
       "      <td>2211.88</td>\n",
       "      <td>316.84</td>\n",
       "      <td>7064.820</td>\n",
       "      <td>162.692</td>\n",
       "      <td>157529.6100</td>\n",
       "      <td>3627.6660</td>\n",
       "      <td>83.5396</td>\n",
       "    </tr>\n",
       "    <tr>\n",
       "      <th>2</th>\n",
       "      <td>0.02729</td>\n",
       "      <td>0.0</td>\n",
       "      <td>7.07</td>\n",
       "      <td>0.0</td>\n",
       "      <td>0.469</td>\n",
       "      <td>7.185</td>\n",
       "      <td>61.1</td>\n",
       "      <td>4.9671</td>\n",
       "      <td>2.0</td>\n",
       "      <td>242.0</td>\n",
       "      <td>...</td>\n",
       "      <td>58564.0</td>\n",
       "      <td>4307.6</td>\n",
       "      <td>95064.86</td>\n",
       "      <td>975.26</td>\n",
       "      <td>316.84</td>\n",
       "      <td>6992.374</td>\n",
       "      <td>71.734</td>\n",
       "      <td>154315.4089</td>\n",
       "      <td>1583.1049</td>\n",
       "      <td>16.2409</td>\n",
       "    </tr>\n",
       "    <tr>\n",
       "      <th>3</th>\n",
       "      <td>0.03237</td>\n",
       "      <td>0.0</td>\n",
       "      <td>2.18</td>\n",
       "      <td>0.0</td>\n",
       "      <td>0.458</td>\n",
       "      <td>6.998</td>\n",
       "      <td>45.8</td>\n",
       "      <td>6.0622</td>\n",
       "      <td>3.0</td>\n",
       "      <td>222.0</td>\n",
       "      <td>...</td>\n",
       "      <td>49284.0</td>\n",
       "      <td>4151.4</td>\n",
       "      <td>87607.86</td>\n",
       "      <td>652.68</td>\n",
       "      <td>349.69</td>\n",
       "      <td>7379.581</td>\n",
       "      <td>54.978</td>\n",
       "      <td>155732.8369</td>\n",
       "      <td>1160.2122</td>\n",
       "      <td>8.6436</td>\n",
       "    </tr>\n",
       "    <tr>\n",
       "      <th>4</th>\n",
       "      <td>0.06905</td>\n",
       "      <td>0.0</td>\n",
       "      <td>2.18</td>\n",
       "      <td>0.0</td>\n",
       "      <td>0.458</td>\n",
       "      <td>7.147</td>\n",
       "      <td>54.2</td>\n",
       "      <td>6.0622</td>\n",
       "      <td>3.0</td>\n",
       "      <td>222.0</td>\n",
       "      <td>...</td>\n",
       "      <td>49284.0</td>\n",
       "      <td>4151.4</td>\n",
       "      <td>88111.80</td>\n",
       "      <td>1183.26</td>\n",
       "      <td>349.69</td>\n",
       "      <td>7422.030</td>\n",
       "      <td>99.671</td>\n",
       "      <td>157529.6100</td>\n",
       "      <td>2115.4770</td>\n",
       "      <td>28.4089</td>\n",
       "    </tr>\n",
       "  </tbody>\n",
       "</table>\n",
       "<p>5 rows × 104 columns</p>\n",
       "</div>"
      ],
      "text/plain": [
       "      CRIM    ZN  INDUS  CHAS    NOX     RM   AGE     DIS  RAD    TAX  ...  \\\n",
       "0  0.00632  18.0   2.31   0.0  0.538  6.575  65.2  4.0900  1.0  296.0  ...   \n",
       "1  0.02731   0.0   7.07   0.0  0.469  6.421  78.9  4.9671  2.0  242.0  ...   \n",
       "2  0.02729   0.0   7.07   0.0  0.469  7.185  61.1  4.9671  2.0  242.0  ...   \n",
       "3  0.03237   0.0   2.18   0.0  0.458  6.998  45.8  6.0622  3.0  222.0  ...   \n",
       "4  0.06905   0.0   2.18   0.0  0.458  7.147  54.2  6.0622  3.0  222.0  ...   \n",
       "\n",
       "   TAX_TAX  TAX_PTRATIO      TAX_B  TAX_LSTAT  PTRATIO_PTRATIO  PTRATIO_B  \\\n",
       "0  87616.0       4528.8  117482.40    1474.08           234.09   6072.570   \n",
       "1  58564.0       4307.6   96049.80    2211.88           316.84   7064.820   \n",
       "2  58564.0       4307.6   95064.86     975.26           316.84   6992.374   \n",
       "3  49284.0       4151.4   87607.86     652.68           349.69   7379.581   \n",
       "4  49284.0       4151.4   88111.80    1183.26           349.69   7422.030   \n",
       "\n",
       "   PTRATIO_LSTAT          B_B    B_LSTAT  LSTAT_LSTAT  \n",
       "0         76.194  157529.6100  1976.5620      24.8004  \n",
       "1        162.692  157529.6100  3627.6660      83.5396  \n",
       "2         71.734  154315.4089  1583.1049      16.2409  \n",
       "3         54.978  155732.8369  1160.2122       8.6436  \n",
       "4         99.671  157529.6100  2115.4770      28.4089  \n",
       "\n",
       "[5 rows x 104 columns]"
      ]
     },
     "execution_count": 51,
     "metadata": {},
     "output_type": "execute_result"
    }
   ],
   "source": [
    "# Create new columns by multiplying each column with every other column\n",
    "\n",
    "for i in range(len(X.columns)):\n",
    "    for j in range(i, len(X.columns)):\n",
    "        col1 = X.columns[i]\n",
    "        col2 = X.columns[j]\n",
    "        new_col_name = f\"{col1}_{col2}\"\n",
    "        df1[new_col_name] = X[col1] * X[col2]\n",
    "\n",
    "# Display the updated DataFrame\n",
    "#print(df_extended)\n",
    "\n",
    "X_der=df1.drop('MEDV', axis=1) #Remove the target column X\n",
    "y_der=df1['MEDV']\n",
    "len(X_der)\n",
    "X_der.head(5)"
   ]
  },
  {
   "cell_type": "code",
   "execution_count": 52,
   "id": "d715ee77-1b33-4535-940f-e884a1317f9e",
   "metadata": {
    "execution": {
     "iopub.execute_input": "2024-11-25T04:11:40.066786Z",
     "iopub.status.busy": "2024-11-25T04:11:40.066420Z",
     "iopub.status.idle": "2024-11-25T04:11:40.076476Z",
     "shell.execute_reply": "2024-11-25T04:11:40.075678Z",
     "shell.execute_reply.started": "2024-11-25T04:11:40.066755Z"
    }
   },
   "outputs": [],
   "source": [
    "X_train_der, X_test_der, y_train_der, y_test_der = train_test_split(X_der, y_der, test_size=0.2, random_state=42)"
   ]
  },
  {
   "cell_type": "code",
   "execution_count": 53,
   "id": "2f1e7888-0266-44f1-826b-6ec2915d8c1b",
   "metadata": {
    "execution": {
     "iopub.execute_input": "2024-11-25T04:11:40.077616Z",
     "iopub.status.busy": "2024-11-25T04:11:40.077396Z",
     "iopub.status.idle": "2024-11-25T04:11:40.082631Z",
     "shell.execute_reply": "2024-11-25T04:11:40.081986Z",
     "shell.execute_reply.started": "2024-11-25T04:11:40.077595Z"
    }
   },
   "outputs": [],
   "source": [
    "# Define models and parameter grids\n",
    "models = {\n",
    "    'RandomForest': (RandomForestRegressor(), {\n",
    "        'n_estimators': [50, 100],\n",
    "        'max_depth': [3, 5, 10]\n",
    "    }),\n",
    "    'GradientBoosting': (GradientBoostingRegressor(), {\n",
    "        'n_estimators': [50, 100],\n",
    "        'learning_rate': [0.01, 0.1],\n",
    "        'max_depth': [3, 5]\n",
    "    }),\n",
    "    'XGBoost': (XGBRegressor(objective='reg:squarederror'), {\n",
    "        'n_estimators': [50, 100],\n",
    "        'learning_rate': [0.01, 0.1],\n",
    "        'max_depth': [3, 5]\n",
    "    }),\n",
    "    'SVR': (SVR(), {\n",
    "        'C': [0.1, 1, 10],\n",
    "        'kernel': ['linear', 'rbf']\n",
    "    })\n",
    "}"
   ]
  },
  {
   "cell_type": "code",
   "execution_count": 54,
   "id": "6d49bfa6-aaf3-42e9-a4f3-d4538fadbc03",
   "metadata": {
    "execution": {
     "iopub.execute_input": "2024-11-25T04:11:55.964293Z",
     "iopub.status.busy": "2024-11-25T04:11:55.963285Z",
     "iopub.status.idle": "2024-11-25T04:53:39.516080Z",
     "shell.execute_reply": "2024-11-25T04:53:39.514947Z",
     "shell.execute_reply.started": "2024-11-25T04:11:55.964234Z"
    }
   },
   "outputs": [
    {
     "name": "stdout",
     "output_type": "stream",
     "text": [
      "{'Dataset': 'Modified', 'Method': 'GridSearch', 'Model': 'XGBoost', 'Best Parameters': {'learning_rate': 0.1, 'max_depth': 3, 'n_estimators': 100}, 'Total Runtime (s)': 2503.5394566059113}\n"
     ]
    }
   ],
   "source": [
    "# Perform GridSearch with cross-validation for each model and store only the best result\n",
    "results_mod = []\n",
    "total_start_time = time.time()\n",
    "\n",
    "best_model_overall = None\n",
    "best_mse_overall = float('inf')\n",
    "best_model_name = None\n",
    "best_params_overall = None\n",
    "\n",
    "for model_name, (model, param_grid) in models.items():\n",
    "    # print(f\"Running GridSearchCV for {model_name}...\")\n",
    "    start_time = time.time()\n",
    "    grid_search = GridSearchCV(model, param_grid, cv=5, n_jobs=-1, scoring='neg_mean_squared_error')\n",
    "    grid_search.fit(X_train_der, y_train_der)\n",
    "    end_time = time.time()\n",
    "\n",
    "    best_model = grid_search.best_estimator_\n",
    "    best_params = grid_search.best_params_\n",
    "\n",
    "    # Calculate MSE on the test set\n",
    "    y_pred_der = best_model.predict(X_test_der)\n",
    "    mse = mean_squared_error(y_test_der, y_pred_der)\n",
    "\n",
    "    # Store the best model if it has the lowest MSE\n",
    "    if mse < best_mse_overall:\n",
    "        best_mse_overall = mse\n",
    "        best_model_overall = best_model\n",
    "        best_model_name = model_name\n",
    "        best_params_overall = best_params\n",
    "\n",
    "# Store the total runtime for GridSearch\n",
    "total_end_time = time.time()\n",
    "gridsearch_total_time = total_end_time - total_start_time\n",
    "\n",
    "# Store the best GridSearch result\n",
    "result = {\n",
    "    'Dataset': 'Modified',\n",
    "    'Method': 'GridSearch',\n",
    "    'Model': best_model_name,\n",
    "    'Best Parameters': best_params_overall,\n",
    "    'Total Runtime (s)': gridsearch_total_time\n",
    "}\n",
    "results_mod.append(result)\n",
    "\n",
    "print(result)"
   ]
  },
  {
   "cell_type": "markdown",
   "id": "d97f15d8-45d6-4dc6-87a5-88d2ba6f3b5c",
   "metadata": {},
   "source": [
    "#### Optuna"
   ]
  },
  {
   "cell_type": "code",
   "execution_count": 55,
   "id": "b71eddc9-2d42-43ba-9d14-619b95ecf95b",
   "metadata": {
    "execution": {
     "iopub.execute_input": "2024-11-25T04:53:39.518455Z",
     "iopub.status.busy": "2024-11-25T04:53:39.518143Z",
     "iopub.status.idle": "2024-11-25T04:53:39.527490Z",
     "shell.execute_reply": "2024-11-25T04:53:39.526820Z",
     "shell.execute_reply.started": "2024-11-25T04:53:39.518429Z"
    }
   },
   "outputs": [],
   "source": [
    "# Define the objective function for Optuna\n",
    "def objective(trial):\n",
    "    model_name = trial.suggest_categorical('model', ['RandomForest', 'GradientBoosting', 'XGBoost', 'SVR'])\n",
    "    \n",
    "    if model_name == 'RandomForest':\n",
    "        n_estimators = trial.suggest_int('n_estimators', 50, 200)\n",
    "        max_depth = trial.suggest_int('max_depth', 3, 10)\n",
    "        model = RandomForestRegressor(n_estimators=n_estimators, max_depth=max_depth)\n",
    "    elif model_name == 'GradientBoosting':\n",
    "        n_estimators = trial.suggest_int('n_estimators', 50, 200)\n",
    "        learning_rate = trial.suggest_float('learning_rate', 0.01, 0.2)\n",
    "        max_depth = trial.suggest_int('max_depth', 3, 10)\n",
    "        model = GradientBoostingRegressor(n_estimators=n_estimators, learning_rate=learning_rate, max_depth=max_depth)\n",
    "    elif model_name == 'XGBoost':\n",
    "        n_estimators = trial.suggest_int('n_estimators', 50, 200)\n",
    "        learning_rate = trial.suggest_float('learning_rate', 0.01, 0.2)\n",
    "        max_depth = trial.suggest_int('max_depth', 3, 10)\n",
    "        model = XGBRegressor(n_estimators=n_estimators, learning_rate=learning_rate, max_depth=max_depth, objective='reg:squarederror')\n",
    "    elif model_name == 'SVR':\n",
    "        C = trial.suggest_float('C', 0.1, 10)\n",
    "        kernel = trial.suggest_categorical('kernel', ['linear', 'rbf'])\n",
    "        model = SVR(C=C, kernel=kernel)\n",
    "    \n",
    "    model.fit(X_train_der, y_train_der)\n",
    "    y_pred_der = model.predict(X_test_der)\n",
    "    mse = mean_squared_error(y_test_der, y_pred_der)\n",
    "    return mse\n"
   ]
  },
  {
   "cell_type": "code",
   "execution_count": 56,
   "id": "a216e74e-c416-4753-bf7b-7160d663eb87",
   "metadata": {
    "execution": {
     "iopub.execute_input": "2024-11-25T04:53:39.528742Z",
     "iopub.status.busy": "2024-11-25T04:53:39.528491Z",
     "iopub.status.idle": "2024-11-25T05:26:10.252143Z",
     "shell.execute_reply": "2024-11-25T05:26:10.251373Z",
     "shell.execute_reply.started": "2024-11-25T04:53:39.528717Z"
    }
   },
   "outputs": [
    {
     "name": "stderr",
     "output_type": "stream",
     "text": [
      "[I 2024-11-25 04:53:39,534] A new study created in memory with name: no-name-67842dd2-95e8-4f68-866c-fa8c3a7355db\n",
      "[I 2024-11-25 04:53:39,573] Trial 0 finished with value: 48.89202523271117 and parameters: {'model': 'SVR', 'C': 5.761070525125833, 'kernel': 'rbf'}. Best is trial 0 with value: 48.89202523271117.\n",
      "[I 2024-11-25 04:53:41,462] Trial 1 finished with value: 6.553072347759385 and parameters: {'model': 'GradientBoosting', 'n_estimators': 85, 'learning_rate': 0.06993799284043839, 'max_depth': 6}. Best is trial 1 with value: 6.553072347759385.\n",
      "[I 2024-11-25 04:53:42,233] Trial 2 finished with value: 12.931574050713468 and parameters: {'model': 'RandomForest', 'n_estimators': 87, 'max_depth': 3}. Best is trial 1 with value: 6.553072347759385.\n",
      "[I 2024-11-25 04:53:46,158] Trial 3 finished with value: 9.419679101200838 and parameters: {'model': 'GradientBoosting', 'n_estimators': 123, 'learning_rate': 0.17720937727997854, 'max_depth': 10}. Best is trial 1 with value: 6.553072347759385.\n",
      "[I 2024-11-25 04:53:47,445] Trial 4 finished with value: 9.16129890949446 and parameters: {'model': 'RandomForest', 'n_estimators': 73, 'max_depth': 10}. Best is trial 1 with value: 6.553072347759385.\n",
      "[I 2024-11-25 04:53:47,471] Trial 5 finished with value: 47.10886676165589 and parameters: {'model': 'SVR', 'C': 8.172826632146773, 'kernel': 'rbf'}. Best is trial 1 with value: 6.553072347759385.\n",
      "[I 2024-11-25 04:53:49,288] Trial 6 finished with value: 6.0367869035001895 and parameters: {'model': 'XGBoost', 'n_estimators': 129, 'learning_rate': 0.13751990932647074, 'max_depth': 8}. Best is trial 6 with value: 6.0367869035001895.\n",
      "[I 2024-11-25 04:53:49,785] Trial 7 finished with value: 8.371348348250493 and parameters: {'model': 'XGBoost', 'n_estimators': 53, 'learning_rate': 0.16007345108070067, 'max_depth': 5}. Best is trial 6 with value: 6.0367869035001895.\n",
      "[I 2024-11-25 04:59:42,262] Trial 8 finished with value: 2397986072.0070796 and parameters: {'model': 'SVR', 'C': 1.6070678303913946, 'kernel': 'linear'}. Best is trial 6 with value: 6.0367869035001895.\n",
      "[I 2024-11-25 04:59:42,460] Trial 9 finished with value: 6.937259425770139 and parameters: {'model': 'XGBoost', 'n_estimators': 83, 'learning_rate': 0.16871358330223837, 'max_depth': 3}. Best is trial 6 with value: 6.0367869035001895.\n",
      "[I 2024-11-25 04:59:45,705] Trial 10 finished with value: 7.350526339036897 and parameters: {'model': 'XGBoost', 'n_estimators': 189, 'learning_rate': 0.017384158659359036, 'max_depth': 8}. Best is trial 6 with value: 6.0367869035001895.\n",
      "[I 2024-11-25 04:59:49,013] Trial 11 finished with value: 7.265897461477358 and parameters: {'model': 'GradientBoosting', 'n_estimators': 135, 'learning_rate': 0.07620112784814503, 'max_depth': 7}. Best is trial 6 with value: 6.0367869035001895.\n",
      "[I 2024-11-25 04:59:51,683] Trial 12 finished with value: 7.103461307095333 and parameters: {'model': 'GradientBoosting', 'n_estimators': 129, 'learning_rate': 0.100486318568175, 'max_depth': 6}. Best is trial 6 with value: 6.0367869035001895.\n",
      "[I 2024-11-25 04:59:56,217] Trial 13 finished with value: 8.309753093487082 and parameters: {'model': 'GradientBoosting', 'n_estimators': 166, 'learning_rate': 0.054223647811059, 'max_depth': 8}. Best is trial 6 with value: 6.0367869035001895.\n",
      "[I 2024-11-25 04:59:56,712] Trial 14 finished with value: 8.114554990258195 and parameters: {'model': 'XGBoost', 'n_estimators': 112, 'learning_rate': 0.12816269543535258, 'max_depth': 5}. Best is trial 6 with value: 6.0367869035001895.\n",
      "[I 2024-11-25 05:00:00,876] Trial 15 finished with value: 11.139423165379174 and parameters: {'model': 'GradientBoosting', 'n_estimators': 153, 'learning_rate': 0.12520072225679954, 'max_depth': 8}. Best is trial 6 with value: 6.0367869035001895.\n",
      "[I 2024-11-25 05:00:01,886] Trial 16 finished with value: 7.834213454312747 and parameters: {'model': 'XGBoost', 'n_estimators': 104, 'learning_rate': 0.05584208603596633, 'max_depth': 6}. Best is trial 6 with value: 6.0367869035001895.\n",
      "[I 2024-11-25 05:00:02,976] Trial 17 finished with value: 8.762986545465335 and parameters: {'model': 'RandomForest', 'n_estimators': 52, 'max_depth': 9}. Best is trial 6 with value: 6.0367869035001895.\n",
      "[I 2024-11-25 05:00:03,614] Trial 18 finished with value: 9.091790523120723 and parameters: {'model': 'XGBoost', 'n_estimators': 151, 'learning_rate': 0.0965037779789508, 'max_depth': 5}. Best is trial 6 with value: 6.0367869035001895.\n",
      "[I 2024-11-25 05:00:05,987] Trial 19 finished with value: 7.042526358976966 and parameters: {'model': 'GradientBoosting', 'n_estimators': 100, 'learning_rate': 0.14577219983375672, 'max_depth': 7}. Best is trial 6 with value: 6.0367869035001895.\n",
      "[I 2024-11-25 05:00:08,948] Trial 20 finished with value: 6.763917077303509 and parameters: {'model': 'GradientBoosting', 'n_estimators': 197, 'learning_rate': 0.19362907288042996, 'max_depth': 4}. Best is trial 6 with value: 6.0367869035001895.\n",
      "[I 2024-11-25 05:00:11,891] Trial 21 finished with value: 6.26767658796385 and parameters: {'model': 'GradientBoosting', 'n_estimators': 197, 'learning_rate': 0.1885890088410032, 'max_depth': 4}. Best is trial 6 with value: 6.0367869035001895.\n",
      "[I 2024-11-25 05:00:14,692] Trial 22 finished with value: 7.331267900853899 and parameters: {'model': 'GradientBoosting', 'n_estimators': 180, 'learning_rate': 0.19444714054381368, 'max_depth': 4}. Best is trial 6 with value: 6.0367869035001895.\n",
      "[I 2024-11-25 05:00:18,988] Trial 23 finished with value: 8.865014883886884 and parameters: {'model': 'GradientBoosting', 'n_estimators': 170, 'learning_rate': 0.12959884471704633, 'max_depth': 7}. Best is trial 6 with value: 6.0367869035001895.\n",
      "[I 2024-11-25 05:00:23,150] Trial 24 finished with value: 7.731715544503693 and parameters: {'model': 'GradientBoosting', 'n_estimators': 144, 'learning_rate': 0.07654761972188734, 'max_depth': 9}. Best is trial 6 with value: 6.0367869035001895.\n",
      "[I 2024-11-25 05:00:23,733] Trial 25 finished with value: 19.28688448205638 and parameters: {'model': 'XGBoost', 'n_estimators': 71, 'learning_rate': 0.015253433055921368, 'max_depth': 4}. Best is trial 6 with value: 6.0367869035001895.\n",
      "[I 2024-11-25 05:00:25,214] Trial 26 finished with value: 9.896610089641163 and parameters: {'model': 'RandomForest', 'n_estimators': 114, 'max_depth': 6}. Best is trial 6 with value: 6.0367869035001895.\n",
      "[I 2024-11-25 05:09:40,996] Trial 27 finished with value: 97149731.9262389 and parameters: {'model': 'SVR', 'C': 0.40066655191632883, 'kernel': 'linear'}. Best is trial 6 with value: 6.0367869035001895.\n",
      "[I 2024-11-25 05:09:47,046] Trial 28 finished with value: 8.538091389937462 and parameters: {'model': 'GradientBoosting', 'n_estimators': 200, 'learning_rate': 0.14887557698588072, 'max_depth': 9}. Best is trial 6 with value: 6.0367869035001895.\n",
      "[I 2024-11-25 05:09:47,092] Trial 29 finished with value: 46.26263425262471 and parameters: {'model': 'SVR', 'C': 9.890255184203772, 'kernel': 'rbf'}. Best is trial 6 with value: 6.0367869035001895.\n",
      "[I 2024-11-25 05:09:47,986] Trial 30 finished with value: 8.820789419260576 and parameters: {'model': 'XGBoost', 'n_estimators': 94, 'learning_rate': 0.03752854557890975, 'max_depth': 5}. Best is trial 6 with value: 6.0367869035001895.\n",
      "[I 2024-11-25 05:09:50,964] Trial 31 finished with value: 7.22709506931596 and parameters: {'model': 'GradientBoosting', 'n_estimators': 199, 'learning_rate': 0.18909403875074055, 'max_depth': 4}. Best is trial 6 with value: 6.0367869035001895.\n",
      "[I 2024-11-25 05:09:53,618] Trial 32 finished with value: 8.56026519321822 and parameters: {'model': 'GradientBoosting', 'n_estimators': 183, 'learning_rate': 0.1993503585223225, 'max_depth': 4}. Best is trial 6 with value: 6.0367869035001895.\n",
      "[I 2024-11-25 05:09:55,435] Trial 33 finished with value: 7.301949975029608 and parameters: {'model': 'GradientBoosting', 'n_estimators': 171, 'learning_rate': 0.1791832698422034, 'max_depth': 3}. Best is trial 6 with value: 6.0367869035001895.\n",
      "[I 2024-11-25 05:09:58,212] Trial 34 finished with value: 10.233996656932485 and parameters: {'model': 'GradientBoosting', 'n_estimators': 191, 'learning_rate': 0.1567012828330911, 'max_depth': 4}. Best is trial 6 with value: 6.0367869035001895.\n",
      "[I 2024-11-25 05:09:59,274] Trial 35 finished with value: 14.142732460832105 and parameters: {'model': 'RandomForest', 'n_estimators': 158, 'max_depth': 3}. Best is trial 6 with value: 6.0367869035001895.\n",
      "[I 2024-11-25 05:10:00,636] Trial 36 finished with value: 6.7150859608163564 and parameters: {'model': 'GradientBoosting', 'n_estimators': 64, 'learning_rate': 0.07772876541674405, 'max_depth': 6}. Best is trial 6 with value: 6.0367869035001895.\n",
      "[I 2024-11-25 05:10:02,007] Trial 37 finished with value: 6.4646788293462345 and parameters: {'model': 'GradientBoosting', 'n_estimators': 65, 'learning_rate': 0.08573632183345688, 'max_depth': 6}. Best is trial 6 with value: 6.0367869035001895.\n",
      "[I 2024-11-25 05:25:53,972] Trial 38 finished with value: 9970966873.801704 and parameters: {'model': 'SVR', 'C': 3.837519063086221, 'kernel': 'linear'}. Best is trial 6 with value: 6.0367869035001895.\n",
      "[I 2024-11-25 05:25:55,293] Trial 39 finished with value: 9.890407048810955 and parameters: {'model': 'RandomForest', 'n_estimators': 82, 'max_depth': 7}. Best is trial 6 with value: 6.0367869035001895.\n",
      "[I 2024-11-25 05:25:56,433] Trial 40 finished with value: 7.8677186261008885 and parameters: {'model': 'XGBoost', 'n_estimators': 64, 'learning_rate': 0.09067296494460843, 'max_depth': 8}. Best is trial 6 with value: 6.0367869035001895.\n",
      "[I 2024-11-25 05:25:57,766] Trial 41 finished with value: 6.781516421191637 and parameters: {'model': 'GradientBoosting', 'n_estimators': 68, 'learning_rate': 0.07494384038547502, 'max_depth': 6}. Best is trial 6 with value: 6.0367869035001895.\n",
      "[I 2024-11-25 05:25:59,141] Trial 42 finished with value: 7.15702728187194 and parameters: {'model': 'GradientBoosting', 'n_estimators': 61, 'learning_rate': 0.11358888215191024, 'max_depth': 6}. Best is trial 6 with value: 6.0367869035001895.\n",
      "[I 2024-11-25 05:26:00,616] Trial 43 finished with value: 6.453451818852503 and parameters: {'model': 'GradientBoosting', 'n_estimators': 80, 'learning_rate': 0.05817788704912949, 'max_depth': 5}. Best is trial 6 with value: 6.0367869035001895.\n",
      "[I 2024-11-25 05:26:02,138] Trial 44 finished with value: 6.498581599095426 and parameters: {'model': 'GradientBoosting', 'n_estimators': 81, 'learning_rate': 0.05798923088145171, 'max_depth': 5}. Best is trial 6 with value: 6.0367869035001895.\n",
      "[I 2024-11-25 05:26:03,575] Trial 45 finished with value: 7.371021741111228 and parameters: {'model': 'GradientBoosting', 'n_estimators': 81, 'learning_rate': 0.06014087236316734, 'max_depth': 5}. Best is trial 6 with value: 6.0367869035001895.\n",
      "[I 2024-11-25 05:26:04,927] Trial 46 finished with value: 6.742149945343508 and parameters: {'model': 'GradientBoosting', 'n_estimators': 79, 'learning_rate': 0.03959683082757197, 'max_depth': 5}. Best is trial 6 with value: 6.0367869035001895.\n",
      "[I 2024-11-25 05:26:06,855] Trial 47 finished with value: 7.2555275314926035 and parameters: {'model': 'GradientBoosting', 'n_estimators': 88, 'learning_rate': 0.04170543399831689, 'max_depth': 5}. Best is trial 6 with value: 6.0367869035001895.\n",
      "[I 2024-11-25 05:26:07,207] Trial 48 finished with value: 8.950937216429693 and parameters: {'model': 'XGBoost', 'n_estimators': 74, 'learning_rate': 0.09088985981307861, 'max_depth': 5}. Best is trial 6 with value: 6.0367869035001895.\n",
      "[I 2024-11-25 05:26:10,247] Trial 49 finished with value: 7.878446253306313 and parameters: {'model': 'GradientBoosting', 'n_estimators': 93, 'learning_rate': 0.06513454707648733, 'max_depth': 10}. Best is trial 6 with value: 6.0367869035001895.\n"
     ]
    },
    {
     "name": "stdout",
     "output_type": "stream",
     "text": [
      "{'Dataset': 'Modified', 'Method': 'Optuna', 'Model': 'XGBoost', 'Best Parameters': {'model': 'XGBoost', 'n_estimators': 129, 'learning_rate': 0.13751990932647074, 'max_depth': 8}, 'Total Runtime (s)': 1950.7139365673065}\n"
     ]
    }
   ],
   "source": [
    "# Run Optuna optimization\n",
    "study_start_time = time.time()\n",
    "study = optuna.create_study(direction='minimize')\n",
    "study.optimize(objective, n_trials=50)\n",
    "study_end_time = time.time()\n",
    "\n",
    "# Adding summary of the Optuna results\n",
    "optuna_best_params = study.best_trial.params\n",
    "optuna_best_value = study.best_trial.value\n",
    "optuna_total_time = study_end_time - study_start_time\n",
    "\n",
    "result = {\n",
    "    'Dataset': 'Modified',\n",
    "    'Method': 'Optuna',\n",
    "    'Model': study.best_trial.params.get('model'),\n",
    "    'Best Parameters': optuna_best_params,\n",
    "    'Total Runtime (s)': optuna_total_time\n",
    "}\n",
    "results_mod.append(result)\n",
    "\n",
    "print(result)"
   ]
  },
  {
   "cell_type": "code",
   "execution_count": 57,
   "id": "6cda63d2-8603-47bc-87f0-eee6e142fba3",
   "metadata": {
    "execution": {
     "iopub.execute_input": "2024-11-25T05:44:13.604020Z",
     "iopub.status.busy": "2024-11-25T05:44:13.603457Z",
     "iopub.status.idle": "2024-11-25T05:44:13.620348Z",
     "shell.execute_reply": "2024-11-25T05:44:13.619470Z",
     "shell.execute_reply.started": "2024-11-25T05:44:13.603971Z"
    }
   },
   "outputs": [
    {
     "data": {
      "text/html": [
       "<table border=\"1\" class=\"dataframe\">\n",
       "  <thead>\n",
       "    <tr style=\"text-align: right;\">\n",
       "      <th></th>\n",
       "      <th>Dataset</th>\n",
       "      <th>Method</th>\n",
       "      <th>Model</th>\n",
       "      <th>Best Parameters</th>\n",
       "      <th>Total Runtime (s)</th>\n",
       "    </tr>\n",
       "  </thead>\n",
       "  <tbody>\n",
       "    <tr>\n",
       "      <th>0</th>\n",
       "      <td>Original</td>\n",
       "      <td>GridSearch</td>\n",
       "      <td>XGBoost</td>\n",
       "      <td>{'learning_rate': 0.1, 'max_depth': 3, 'n_estimators': 100}</td>\n",
       "      <td>82.513772</td>\n",
       "    </tr>\n",
       "    <tr>\n",
       "      <th>1</th>\n",
       "      <td>Original</td>\n",
       "      <td>Optuna</td>\n",
       "      <td>GradientBoosting</td>\n",
       "      <td>{'model': 'GradientBoosting', 'n_estimators': 149, 'learning_rate': 0.08598656148573766, 'max_depth': 6}</td>\n",
       "      <td>46.024049</td>\n",
       "    </tr>\n",
       "    <tr>\n",
       "      <th>2</th>\n",
       "      <td>Modified</td>\n",
       "      <td>GridSearch</td>\n",
       "      <td>XGBoost</td>\n",
       "      <td>{'learning_rate': 0.1, 'max_depth': 3, 'n_estimators': 100}</td>\n",
       "      <td>2503.539457</td>\n",
       "    </tr>\n",
       "    <tr>\n",
       "      <th>3</th>\n",
       "      <td>Modified</td>\n",
       "      <td>Optuna</td>\n",
       "      <td>XGBoost</td>\n",
       "      <td>{'model': 'XGBoost', 'n_estimators': 129, 'learning_rate': 0.13751990932647074, 'max_depth': 8}</td>\n",
       "      <td>1950.713937</td>\n",
       "    </tr>\n",
       "  </tbody>\n",
       "</table>"
      ],
      "text/plain": [
       "<IPython.core.display.HTML object>"
      ]
     },
     "metadata": {},
     "output_type": "display_data"
    }
   ],
   "source": [
    "# Create a summary dataframe by concatenating the original and modified results\n",
    "results_df = pd.DataFrame(results)\n",
    "results_mod_df = pd.DataFrame(results_mod)\n",
    "\n",
    "summary = pd.concat([results_df, results_mod_df], ignore_index=True)\n",
    "\n",
    "# Convert to an HTML table and display\n",
    "html_table = summary.to_html()\n",
    "display(HTML(html_table))"
   ]
  },
  {
   "cell_type": "code",
   "execution_count": 58,
   "id": "a2abfb49-e71a-4511-884e-2508176f816e",
   "metadata": {
    "execution": {
     "iopub.execute_input": "2024-11-25T05:44:26.772118Z",
     "iopub.status.busy": "2024-11-25T05:44:26.771616Z",
     "iopub.status.idle": "2024-11-25T05:44:27.187136Z",
     "shell.execute_reply": "2024-11-25T05:44:27.186244Z",
     "shell.execute_reply.started": "2024-11-25T05:44:26.772075Z"
    }
   },
   "outputs": [
    {
     "data": {
      "image/png": "[encoded data removed]",
      "text/plain": [
       "<Figure size 1000x600 with 1 Axes>"
      ]
     },
     "metadata": {},
     "output_type": "display_data"
    }
   ],
   "source": [
    "# Assuming 'summary' is the DataFrame that combines both results\n",
    "# Melt the DataFrame to make it suitable for plotting with seaborn\n",
    "import matplotlib.pyplot as plt\n",
    "import seaborn as sns\n",
    "\n",
    "summary_melted = summary.melt(id_vars=['Dataset', 'Method'], value_vars=['Total Runtime (s)'],\n",
    "                              var_name='Metric', value_name='Value')\n",
    "# Create a horizontal grouped bar plot\n",
    "plt.figure(figsize=(10, 6))\n",
    "sns.barplot(x='Value', y='Dataset', hue='Method', data=summary_melted, palette = 'muted')\n",
    "plt.xlabel('Total Runtime (s)')\n",
    "plt.ylabel('Dataset')\n",
    "plt.title('Comparison of Total Runtime for GridSearch and Optuna')\n",
    "plt.legend(title='Method')\n",
    "plt.show()"
   ]
  },
  {
   "cell_type": "markdown",
   "id": "12e3808b-7237-4060-bdc5-f32545a6ec17",
   "metadata": {
    "execution": {
     "iopub.execute_input": "2024-11-25T03:57:22.400393Z",
     "iopub.status.busy": "2024-11-25T03:57:22.398852Z",
     "iopub.status.idle": "2024-11-25T03:57:22.407860Z",
     "shell.execute_reply": "2024-11-25T03:57:22.406968Z",
     "shell.execute_reply.started": "2024-11-25T03:57:22.400336Z"
    }
   },
   "source": [
    "### Time budget and Error Tolerance\n",
    "\n",
    "_study.optimize(objective, timeout=600, catch=(ValueError,), n_trials=100)_\n",
    "\n",
    "`timeout=600`: This parameter sets a maximum time limit (in seconds) for the optimization process. Optuna ensures that the study stops after 600 seconds, regardless of the number of trials completed. Note that the current trial must finish before the timeout is enforced.\n",
    "\n",
    "`catch=(ValueError,)`: This parameter specifies exceptions that Optuna should catch during optimization. If a trial raises a ValueError (e.g., due to invalid hyperparameter combinations or other issues), Optuna gracefully skips the trial and continues optimization without crashing."
   ]
  },
  {
   "cell_type": "code",
   "execution_count": 73,
   "id": "5c7311f9-6b54-431f-bf66-8a149a8b60f0",
   "metadata": {
    "execution": {
     "iopub.execute_input": "2024-11-25T07:35:43.209763Z",
     "iopub.status.busy": "2024-11-25T07:35:43.209250Z",
     "iopub.status.idle": "2024-11-25T07:35:43.222655Z",
     "shell.execute_reply": "2024-11-25T07:35:43.221915Z",
     "shell.execute_reply.started": "2024-11-25T07:35:43.209722Z"
    }
   },
   "outputs": [],
   "source": [
    "# Define the objective function for Optuna\n",
    "def objective(trial):\n",
    "    model_name = trial.suggest_categorical('model', ['RandomForest', 'GradientBoosting', 'XGBoost', 'SVR'])\n",
    "    \n",
    "    if model_name == 'RandomForest':\n",
    "        n_estimators = trial.suggest_int('n_estimators', 50, 200)\n",
    "        max_depth = trial.suggest_int('max_depth', 3, 10)\n",
    "        model = RandomForestRegressor(n_estimators=n_estimators, max_depth=max_depth)\n",
    "    elif model_name == 'GradientBoosting':\n",
    "        n_estimators = trial.suggest_int('n_estimators', 50, 200)\n",
    "        learning_rate = trial.suggest_float('learning_rate', 0.01, 0.2)\n",
    "        max_depth = trial.suggest_int('max_depth', 3, 10)\n",
    "        model = GradientBoostingRegressor(n_estimators=n_estimators, learning_rate=learning_rate, max_depth=max_depth)\n",
    "    elif model_name == 'XGBoost':\n",
    "        n_estimators = trial.suggest_int('n_estimators', 50, 200)\n",
    "        learning_rate = trial.suggest_float('learning_rate', 0.01, 0.2)\n",
    "        max_depth = trial.suggest_int('max_depth', 3, 10)\n",
    "        model = XGBRegressor(n_estimators=n_estimators, learning_rate=learning_rate, max_depth=max_depth, objective='reg:squarederror')\n",
    "    elif model_name == 'SVR':\n",
    "        C = trial.suggest_float('C', 0.1, 10)\n",
    "        kernel = trial.suggest_categorical('kernel', ['linear', 'rbf'])\n",
    "        model = SVR(C=C, kernel=kernel)\n",
    "    \n",
    "    model.fit(X_train_der, y_train_der)\n",
    "    y_pred_der = model.predict(X_test_der)\n",
    "    mse = mean_squared_error(y_test_der, y_pred_der)\n",
    "    return mse"
   ]
  },
  {
   "cell_type": "code",
   "execution_count": 75,
   "id": "a7bf3ab9-2191-463d-9fd2-f22d8180c4ee",
   "metadata": {
    "execution": {
     "iopub.execute_input": "2024-11-25T07:51:22.959291Z",
     "iopub.status.busy": "2024-11-25T07:51:22.958749Z",
     "iopub.status.idle": "2024-11-25T08:01:42.861253Z",
     "shell.execute_reply": "2024-11-25T08:01:42.860280Z",
     "shell.execute_reply.started": "2024-11-25T07:51:22.959249Z"
    }
   },
   "outputs": [
    {
     "name": "stderr",
     "output_type": "stream",
     "text": [
      "[I 2024-11-25 07:51:22,965] A new study created in memory with name: no-name-a1570b71-4edf-48e0-a5d5-b6395b368db0\n",
      "[I 2024-11-25 07:51:25,153] Trial 0 finished with value: 9.752626259049702 and parameters: {'model': 'GradientBoosting', 'n_estimators': 144, 'learning_rate': 0.01484047249171977, 'max_depth': 4}. Best is trial 0 with value: 9.752626259049702.\n",
      "[I 2024-11-25 07:51:26,761] Trial 1 finished with value: 6.775376286955814 and parameters: {'model': 'XGBoost', 'n_estimators': 121, 'learning_rate': 0.13816660133477457, 'max_depth': 9}. Best is trial 1 with value: 6.775376286955814.\n",
      "[I 2024-11-25 07:51:27,084] Trial 2 finished with value: 6.3414369499112055 and parameters: {'model': 'XGBoost', 'n_estimators': 108, 'learning_rate': 0.14555060229322095, 'max_depth': 4}. Best is trial 2 with value: 6.3414369499112055.\n",
      "[I 2024-11-25 07:51:28,872] Trial 3 finished with value: 8.273985596512079 and parameters: {'model': 'XGBoost', 'n_estimators': 177, 'learning_rate': 0.08102579363498731, 'max_depth': 7}. Best is trial 2 with value: 6.3414369499112055.\n",
      "[I 2024-11-25 07:51:29,883] Trial 4 finished with value: 9.104170198000464 and parameters: {'model': 'XGBoost', 'n_estimators': 107, 'learning_rate': 0.18810213188134078, 'max_depth': 7}. Best is trial 2 with value: 6.3414369499112055.\n",
      "[I 2024-11-25 07:51:31,562] Trial 5 finished with value: 8.698204308277795 and parameters: {'model': 'RandomForest', 'n_estimators': 108, 'max_depth': 8}. Best is trial 2 with value: 6.3414369499112055.\n",
      "[I 2024-11-25 08:01:42,853] Trial 6 finished with value: 482125540.5918149 and parameters: {'model': 'SVR', 'C': 0.8321242893810284, 'kernel': 'linear'}. Best is trial 2 with value: 6.3414369499112055.\n"
     ]
    },
    {
     "name": "stdout",
     "output_type": "stream",
     "text": [
      "Best Parameters: XGBoost {'model': 'XGBoost', 'n_estimators': 108, 'learning_rate': 0.14555060229322095, 'max_depth': 4}\n",
      "Best MSE: 6.3414369499112055\n",
      "Number of completed trials within the time budget: 7\n"
     ]
    }
   ],
   "source": [
    "# We will run the Optuna studay again with time budget and Error Tolerance\n",
    "study_start_time = time.time()\n",
    "study = optuna.create_study(direction='minimize')\n",
    "study.optimize(objective, timeout=600, catch=(ValueError,), n_trials=100) # Set the time to 600 secs and 100 trials\n",
    "study_end_time = time.time()\n",
    "\n",
    "print(\"Best Parameters:\", study.best_trial.params.get('model'), study.best_params)\n",
    "print(\"Best MSE:\", study.best_value)\n",
    "print(f\"Number of completed trials within the time budget: {len(study.trials)}\")\n",
    "# print(f\"Best trial completed: {study.best_trial}\")"
   ]
  },
  {
   "cell_type": "markdown",
   "id": "4084892d-ba2a-4a5e-9684-1c2ab23670ad",
   "metadata": {},
   "source": [
    "_So even if we set 100 trials, the model stops after 10 minutes (600 seconds) and provides the best parameters from the completed trials._"
   ]
  },
  {
   "cell_type": "markdown",
   "id": "eeb59d32-9b3b-464f-9fef-5f4e854c0c36",
   "metadata": {},
   "source": [
    "## Other Optuna features"
   ]
  },
  {
   "cell_type": "markdown",
   "id": "a083c3b5-7aac-4085-a5ac-8098ec9f96c3",
   "metadata": {},
   "source": [
    "### Performing Multi-objective Optimization and Visualizations\n",
    "\n",
    "Multi-objective optimization in Optuna involves finding a set of trade-off solutions that balance multiple conflicting objectives, and its visualization tools, such as Pareto front and optimization history plots, help analyze these trade-offs and the optimization process effectively."
   ]
  },
  {
   "cell_type": "code",
   "execution_count": 76,
   "id": "5733a13d-866f-49d5-9599-66928fc877ef",
   "metadata": {
    "execution": {
     "iopub.execute_input": "2024-11-25T08:06:01.826487Z",
     "iopub.status.busy": "2024-11-25T08:06:01.825953Z",
     "iopub.status.idle": "2024-11-25T08:06:01.866350Z",
     "shell.execute_reply": "2024-11-25T08:06:01.865456Z",
     "shell.execute_reply.started": "2024-11-25T08:06:01.826444Z"
    }
   },
   "outputs": [
    {
     "data": {
      "text/html": [
       "<div>\n",
       "<style scoped>\n",
       "    .dataframe tbody tr th:only-of-type {\n",
       "        vertical-align: middle;\n",
       "    }\n",
       "\n",
       "    .dataframe tbody tr th {\n",
       "        vertical-align: top;\n",
       "    }\n",
       "\n",
       "    .dataframe thead th {\n",
       "        text-align: right;\n",
       "    }\n",
       "</style>\n",
       "<table border=\"1\" class=\"dataframe\">\n",
       "  <thead>\n",
       "    <tr style=\"text-align: right;\">\n",
       "      <th></th>\n",
       "      <th>mean radius</th>\n",
       "      <th>mean texture</th>\n",
       "      <th>mean perimeter</th>\n",
       "      <th>mean area</th>\n",
       "      <th>mean smoothness</th>\n",
       "      <th>mean compactness</th>\n",
       "      <th>mean concavity</th>\n",
       "      <th>mean concave points</th>\n",
       "      <th>mean symmetry</th>\n",
       "      <th>mean fractal dimension</th>\n",
       "      <th>...</th>\n",
       "      <th>worst texture</th>\n",
       "      <th>worst perimeter</th>\n",
       "      <th>worst area</th>\n",
       "      <th>worst smoothness</th>\n",
       "      <th>worst compactness</th>\n",
       "      <th>worst concavity</th>\n",
       "      <th>worst concave points</th>\n",
       "      <th>worst symmetry</th>\n",
       "      <th>worst fractal dimension</th>\n",
       "      <th>target</th>\n",
       "    </tr>\n",
       "  </thead>\n",
       "  <tbody>\n",
       "    <tr>\n",
       "      <th>0</th>\n",
       "      <td>17.99</td>\n",
       "      <td>10.38</td>\n",
       "      <td>122.80</td>\n",
       "      <td>1001.0</td>\n",
       "      <td>0.11840</td>\n",
       "      <td>0.27760</td>\n",
       "      <td>0.3001</td>\n",
       "      <td>0.14710</td>\n",
       "      <td>0.2419</td>\n",
       "      <td>0.07871</td>\n",
       "      <td>...</td>\n",
       "      <td>17.33</td>\n",
       "      <td>184.60</td>\n",
       "      <td>2019.0</td>\n",
       "      <td>0.1622</td>\n",
       "      <td>0.6656</td>\n",
       "      <td>0.7119</td>\n",
       "      <td>0.2654</td>\n",
       "      <td>0.4601</td>\n",
       "      <td>0.11890</td>\n",
       "      <td>0</td>\n",
       "    </tr>\n",
       "    <tr>\n",
       "      <th>1</th>\n",
       "      <td>20.57</td>\n",
       "      <td>17.77</td>\n",
       "      <td>132.90</td>\n",
       "      <td>1326.0</td>\n",
       "      <td>0.08474</td>\n",
       "      <td>0.07864</td>\n",
       "      <td>0.0869</td>\n",
       "      <td>0.07017</td>\n",
       "      <td>0.1812</td>\n",
       "      <td>0.05667</td>\n",
       "      <td>...</td>\n",
       "      <td>23.41</td>\n",
       "      <td>158.80</td>\n",
       "      <td>1956.0</td>\n",
       "      <td>0.1238</td>\n",
       "      <td>0.1866</td>\n",
       "      <td>0.2416</td>\n",
       "      <td>0.1860</td>\n",
       "      <td>0.2750</td>\n",
       "      <td>0.08902</td>\n",
       "      <td>0</td>\n",
       "    </tr>\n",
       "    <tr>\n",
       "      <th>2</th>\n",
       "      <td>19.69</td>\n",
       "      <td>21.25</td>\n",
       "      <td>130.00</td>\n",
       "      <td>1203.0</td>\n",
       "      <td>0.10960</td>\n",
       "      <td>0.15990</td>\n",
       "      <td>0.1974</td>\n",
       "      <td>0.12790</td>\n",
       "      <td>0.2069</td>\n",
       "      <td>0.05999</td>\n",
       "      <td>...</td>\n",
       "      <td>25.53</td>\n",
       "      <td>152.50</td>\n",
       "      <td>1709.0</td>\n",
       "      <td>0.1444</td>\n",
       "      <td>0.4245</td>\n",
       "      <td>0.4504</td>\n",
       "      <td>0.2430</td>\n",
       "      <td>0.3613</td>\n",
       "      <td>0.08758</td>\n",
       "      <td>0</td>\n",
       "    </tr>\n",
       "    <tr>\n",
       "      <th>3</th>\n",
       "      <td>11.42</td>\n",
       "      <td>20.38</td>\n",
       "      <td>77.58</td>\n",
       "      <td>386.1</td>\n",
       "      <td>0.14250</td>\n",
       "      <td>0.28390</td>\n",
       "      <td>0.2414</td>\n",
       "      <td>0.10520</td>\n",
       "      <td>0.2597</td>\n",
       "      <td>0.09744</td>\n",
       "      <td>...</td>\n",
       "      <td>26.50</td>\n",
       "      <td>98.87</td>\n",
       "      <td>567.7</td>\n",
       "      <td>0.2098</td>\n",
       "      <td>0.8663</td>\n",
       "      <td>0.6869</td>\n",
       "      <td>0.2575</td>\n",
       "      <td>0.6638</td>\n",
       "      <td>0.17300</td>\n",
       "      <td>0</td>\n",
       "    </tr>\n",
       "    <tr>\n",
       "      <th>4</th>\n",
       "      <td>20.29</td>\n",
       "      <td>14.34</td>\n",
       "      <td>135.10</td>\n",
       "      <td>1297.0</td>\n",
       "      <td>0.10030</td>\n",
       "      <td>0.13280</td>\n",
       "      <td>0.1980</td>\n",
       "      <td>0.10430</td>\n",
       "      <td>0.1809</td>\n",
       "      <td>0.05883</td>\n",
       "      <td>...</td>\n",
       "      <td>16.67</td>\n",
       "      <td>152.20</td>\n",
       "      <td>1575.0</td>\n",
       "      <td>0.1374</td>\n",
       "      <td>0.2050</td>\n",
       "      <td>0.4000</td>\n",
       "      <td>0.1625</td>\n",
       "      <td>0.2364</td>\n",
       "      <td>0.07678</td>\n",
       "      <td>0</td>\n",
       "    </tr>\n",
       "  </tbody>\n",
       "</table>\n",
       "<p>5 rows × 31 columns</p>\n",
       "</div>"
      ],
      "text/plain": [
       "   mean radius  mean texture  mean perimeter  mean area  mean smoothness  \\\n",
       "0        17.99         10.38          122.80     1001.0          0.11840   \n",
       "1        20.57         17.77          132.90     1326.0          0.08474   \n",
       "2        19.69         21.25          130.00     1203.0          0.10960   \n",
       "3        11.42         20.38           77.58      386.1          0.14250   \n",
       "4        20.29         14.34          135.10     1297.0          0.10030   \n",
       "\n",
       "   mean compactness  mean concavity  mean concave points  mean symmetry  \\\n",
       "0           0.27760          0.3001              0.14710         0.2419   \n",
       "1           0.07864          0.0869              0.07017         0.1812   \n",
       "2           0.15990          0.1974              0.12790         0.2069   \n",
       "3           0.28390          0.2414              0.10520         0.2597   \n",
       "4           0.13280          0.1980              0.10430         0.1809   \n",
       "\n",
       "   mean fractal dimension  ...  worst texture  worst perimeter  worst area  \\\n",
       "0                 0.07871  ...          17.33           184.60      2019.0   \n",
       "1                 0.05667  ...          23.41           158.80      1956.0   \n",
       "2                 0.05999  ...          25.53           152.50      1709.0   \n",
       "3                 0.09744  ...          26.50            98.87       567.7   \n",
       "4                 0.05883  ...          16.67           152.20      1575.0   \n",
       "\n",
       "   worst smoothness  worst compactness  worst concavity  worst concave points  \\\n",
       "0            0.1622             0.6656           0.7119                0.2654   \n",
       "1            0.1238             0.1866           0.2416                0.1860   \n",
       "2            0.1444             0.4245           0.4504                0.2430   \n",
       "3            0.2098             0.8663           0.6869                0.2575   \n",
       "4            0.1374             0.2050           0.4000                0.1625   \n",
       "\n",
       "   worst symmetry  worst fractal dimension  target  \n",
       "0          0.4601                  0.11890       0  \n",
       "1          0.2750                  0.08902       0  \n",
       "2          0.3613                  0.08758       0  \n",
       "3          0.6638                  0.17300       0  \n",
       "4          0.2364                  0.07678       0  \n",
       "\n",
       "[5 rows x 31 columns]"
      ]
     },
     "execution_count": 76,
     "metadata": {},
     "output_type": "execute_result"
    }
   ],
   "source": [
    "# Let us use the Boston Cancer dataset for this example.\n",
    "from sklearn.datasets import load_breast_cancer\n",
    "\n",
    "cancer_dataset = load_breast_cancer()\n",
    "cancer_df = pd.DataFrame(data=cancer_dataset['data'], \n",
    "                         columns=cancer_dataset['feature_names'])\n",
    "cancer_df['target'] = cancer_dataset['target']\n",
    "cancer_df.head()"
   ]
  },
  {
   "cell_type": "code",
   "execution_count": 77,
   "id": "b27ca575-b42d-4a59-93fe-243d40390776",
   "metadata": {
    "execution": {
     "iopub.execute_input": "2024-11-25T08:06:02.658648Z",
     "iopub.status.busy": "2024-11-25T08:06:02.658135Z",
     "iopub.status.idle": "2024-11-25T08:06:02.670791Z",
     "shell.execute_reply": "2024-11-25T08:06:02.669954Z",
     "shell.execute_reply.started": "2024-11-25T08:06:02.658605Z"
    }
   },
   "outputs": [],
   "source": [
    "# Split the data into training and test sets.\n",
    "X = cancer_df.drop('target', axis=1)\n",
    "y = cancer_df['target']\n",
    "X_train, X_test, y_train, y_test = train_test_split(X, y, \n",
    "                                                    stratify=y, \n",
    "                                                    random_state=1)"
   ]
  },
  {
   "cell_type": "code",
   "execution_count": 78,
   "id": "21ff7c20-ce7b-4daf-bf03-d5188f32f21d",
   "metadata": {
    "execution": {
     "iopub.execute_input": "2024-11-25T08:06:03.169983Z",
     "iopub.status.busy": "2024-11-25T08:06:03.169546Z",
     "iopub.status.idle": "2024-11-25T08:06:03.179253Z",
     "shell.execute_reply": "2024-11-25T08:06:03.178492Z",
     "shell.execute_reply.started": "2024-11-25T08:06:03.169940Z"
    }
   },
   "outputs": [],
   "source": [
    "# Define the objective function.\n",
    "def objective(trial):\n",
    "    # Define the hyperparameters to be optimized.\n",
    "    n_neighbors = trial.suggest_int('n_neighbors', 1, 50)\n",
    "    weights = trial.suggest_categorical('weights', ['uniform', 'distance'])\n",
    "    metric = trial.suggest_categorical('metric', ['euclidean', 'manhattan', \n",
    "                                                  'chebyshev', 'minkowski'])\n",
    "    if metric == 'minkowski':\n",
    "        p = trial.suggest_int('p', 3, 5)\n",
    "    else:\n",
    "        p = None\n",
    "\n",
    "    model = KNeighborsClassifier(n_neighbors=n_neighbors, weights=weights, \n",
    "                                 metric=metric, p=p)\n",
    "\n",
    "    start_time = time.perf_counter()\n",
    "    model.fit(X_train, y_train)\n",
    "    end_time = time.perf_counter()\n",
    "\n",
    "    # Use accuracy score and training time to evaluate the model's performance.\n",
    "    accuracy_score = model.score(X_test, y_test)\n",
    "    training_time = end_time - start_time\n",
    "    \n",
    "    return accuracy_score, training_time"
   ]
  },
  {
   "cell_type": "code",
   "execution_count": 79,
   "id": "e2b8d8a3-852f-42ec-8901-3eb318226b18",
   "metadata": {
    "execution": {
     "iopub.execute_input": "2024-11-25T08:06:03.933942Z",
     "iopub.status.busy": "2024-11-25T08:06:03.933487Z",
     "iopub.status.idle": "2024-11-25T08:06:04.605570Z",
     "shell.execute_reply": "2024-11-25T08:06:04.604718Z",
     "shell.execute_reply.started": "2024-11-25T08:06:03.933901Z"
    }
   },
   "outputs": [
    {
     "name": "stderr",
     "output_type": "stream",
     "text": [
      "[I 2024-11-25 08:06:03,936] A new study created in memory with name: int_categorical_knn_example\n",
      "[I 2024-11-25 08:06:03,960] Trial 0 finished with values: [0.9230769230769231, 0.0028596632182598114] and parameters: {'n_neighbors': 23, 'weights': 'uniform', 'metric': 'manhattan'}.\n",
      "[I 2024-11-25 08:06:04,005] Trial 1 finished with values: [0.9300699300699301, 0.001764439046382904] and parameters: {'n_neighbors': 19, 'weights': 'distance', 'metric': 'minkowski', 'p': 4}.\n",
      "[I 2024-11-25 08:06:04,015] Trial 2 finished with values: [0.9370629370629371, 0.002009507268667221] and parameters: {'n_neighbors': 32, 'weights': 'distance', 'metric': 'chebyshev'}.\n",
      "[I 2024-11-25 08:06:04,024] Trial 3 finished with values: [0.9300699300699301, 0.002010207623243332] and parameters: {'n_neighbors': 22, 'weights': 'distance', 'metric': 'chebyshev'}.\n",
      "[I 2024-11-25 08:06:04,069] Trial 4 finished with values: [0.9230769230769231, 0.0020155981183052063] and parameters: {'n_neighbors': 37, 'weights': 'uniform', 'metric': 'minkowski', 'p': 3}.\n",
      "[I 2024-11-25 08:06:04,077] Trial 5 finished with values: [0.9230769230769231, 0.0014492720365524292] and parameters: {'n_neighbors': 36, 'weights': 'distance', 'metric': 'manhattan'}.\n",
      "[I 2024-11-25 08:06:04,084] Trial 6 finished with values: [0.9300699300699301, 0.0014578066766262054] and parameters: {'n_neighbors': 10, 'weights': 'distance', 'metric': 'manhattan'}.\n",
      "[I 2024-11-25 08:06:04,122] Trial 7 finished with values: [0.9230769230769231, 0.0017289631068706512] and parameters: {'n_neighbors': 45, 'weights': 'distance', 'metric': 'minkowski', 'p': 4}.\n",
      "[I 2024-11-25 08:06:04,154] Trial 8 finished with values: [0.9300699300699301, 0.001586630940437317] and parameters: {'n_neighbors': 7, 'weights': 'distance', 'metric': 'minkowski', 'p': 3}.\n",
      "[I 2024-11-25 08:06:04,169] Trial 9 finished with values: [0.9440559440559441, 0.001468811184167862] and parameters: {'n_neighbors': 18, 'weights': 'uniform', 'metric': 'manhattan'}.\n",
      "[I 2024-11-25 08:06:04,201] Trial 10 finished with values: [0.9300699300699301, 0.0014223381876945496] and parameters: {'n_neighbors': 4, 'weights': 'distance', 'metric': 'minkowski', 'p': 5}.\n",
      "[I 2024-11-25 08:06:04,361] Trial 11 finished with values: [0.9230769230769231, 0.0014823898673057556] and parameters: {'n_neighbors': 37, 'weights': 'distance', 'metric': 'euclidean'}.\n",
      "[I 2024-11-25 08:06:04,368] Trial 12 finished with values: [0.9300699300699301, 0.0017588064074516296] and parameters: {'n_neighbors': 7, 'weights': 'distance', 'metric': 'euclidean'}.\n",
      "[I 2024-11-25 08:06:04,381] Trial 13 finished with values: [0.9300699300699301, 0.0020911023020744324] and parameters: {'n_neighbors': 33, 'weights': 'distance', 'metric': 'chebyshev'}.\n",
      "[I 2024-11-25 08:06:04,467] Trial 14 finished with values: [0.9440559440559441, 0.0019624195992946625] and parameters: {'n_neighbors': 9, 'weights': 'uniform', 'metric': 'chebyshev'}.\n",
      "[I 2024-11-25 08:06:04,475] Trial 15 finished with values: [0.951048951048951, 0.002151079475879669] and parameters: {'n_neighbors': 10, 'weights': 'distance', 'metric': 'euclidean'}.\n",
      "[I 2024-11-25 08:06:04,486] Trial 16 finished with values: [0.9440559440559441, 0.0020125992596149445] and parameters: {'n_neighbors': 18, 'weights': 'distance', 'metric': 'manhattan'}.\n",
      "[I 2024-11-25 08:06:04,495] Trial 17 finished with values: [0.951048951048951, 0.0021082162857055664] and parameters: {'n_neighbors': 10, 'weights': 'distance', 'metric': 'euclidean'}.\n",
      "[I 2024-11-25 08:06:04,589] Trial 18 finished with values: [0.9370629370629371, 0.0017136186361312866] and parameters: {'n_neighbors': 10, 'weights': 'distance', 'metric': 'minkowski', 'p': 5}.\n",
      "[I 2024-11-25 08:06:04,602] Trial 19 finished with values: [0.9230769230769231, 0.0019614100456237793] and parameters: {'n_neighbors': 44, 'weights': 'distance', 'metric': 'chebyshev'}.\n"
     ]
    }
   ],
   "source": [
    "# Define a study for hyperparameter optimization.\n",
    "# Notice the parameter directions=['maximize', 'minimize'] (PLURAL)\n",
    "# This means we want to find the hyperparameters \n",
    "# that maximize accuracy score and mimimize build time.\n",
    "study = optuna.create_study(study_name='int_categorical_knn_example', \n",
    "                            directions=['maximize', 'minimize'])\n",
    "study.optimize(objective, n_trials=20)"
   ]
  },
  {
   "cell_type": "code",
   "execution_count": 80,
   "id": "b9c05007-d5a2-4595-839c-ab49216ccb0f",
   "metadata": {
    "execution": {
     "iopub.execute_input": "2024-11-25T08:06:14.231144Z",
     "iopub.status.busy": "2024-11-25T08:06:14.230650Z",
     "iopub.status.idle": "2024-11-25T08:06:14.241378Z",
     "shell.execute_reply": "2024-11-25T08:06:14.240607Z",
     "shell.execute_reply.started": "2024-11-25T08:06:14.231105Z"
    }
   },
   "outputs": [
    {
     "name": "stdout",
     "output_type": "stream",
     "text": [
      "---Best Trials---\n",
      "\n",
      "Trial No. 9\n",
      "Accuracy: 94.41% | Training Time: 0.0014688112 seconds\n",
      "Parameters: {'n_neighbors': 18, 'weights': 'uniform', 'metric': 'manhattan'}\n",
      "\n",
      "Trial No. 10\n",
      "Accuracy: 93.01% | Training Time: 0.0014223382 seconds\n",
      "Parameters: {'n_neighbors': 4, 'weights': 'distance', 'metric': 'minkowski', 'p': 5}\n",
      "\n",
      "Trial No. 17\n",
      "Accuracy: 95.10% | Training Time: 0.0021082163 seconds\n",
      "Parameters: {'n_neighbors': 10, 'weights': 'distance', 'metric': 'euclidean'}\n"
     ]
    }
   ],
   "source": [
    "# Show the trials with the best accuracies and/or training times.\n",
    "print('---Best Trials---')\n",
    "for trial in study.best_trials:\n",
    "    print(f'\\nTrial No. {trial.number}')\n",
    "    print(f'Accuracy: {trial.values[0] * 100:.2f}% | Training Time: {trial.values[1]:.10f} seconds')\n",
    "    print(f'Parameters: {trial.params}')"
   ]
  },
  {
   "cell_type": "code",
   "execution_count": 81,
   "id": "39506f9d-0f05-48e4-b3d6-aacfa6a483e2",
   "metadata": {
    "execution": {
     "iopub.execute_input": "2024-11-25T08:06:16.458179Z",
     "iopub.status.busy": "2024-11-25T08:06:16.457639Z",
     "iopub.status.idle": "2024-11-25T08:06:16.477292Z",
     "shell.execute_reply": "2024-11-25T08:06:16.476647Z",
     "shell.execute_reply.started": "2024-11-25T08:06:16.458151Z"
    }
   },
   "outputs": [
    {
     "data": {
      "application/vnd.plotly.v1+json": {
       "config": {
        "plotlyServerURL": "https://plot.ly"
       },
       "data": [
        {
         "hovertemplate": "%{text}<extra>Trial</extra>",
         "marker": {
          "color": [
           0,
           1,
           2,
           3,
           4,
           5,
           6,
           7,
           8,
           11,
           12,
           13,
           14,
           15,
           16,
           18,
           19
          ],
          "colorbar": {
           "title": {
            "text": "Trial"
           }
          },
          "colorscale": [
           [
            0,
            "rgb(247,251,255)"
           ],
           [
            0.125,
            "rgb(222,235,247)"
           ],
           [
            0.25,
            "rgb(198,219,239)"
           ],
           [
            0.375,
            "rgb(158,202,225)"
           ],
           [
            0.5,
            "rgb(107,174,214)"
           ],
           [
            0.625,
            "rgb(66,146,198)"
           ],
           [
            0.75,
            "rgb(33,113,181)"
           ],
           [
            0.875,
            "rgb(8,81,156)"
           ],
           [
            1,
            "rgb(8,48,107)"
           ]
          ],
          "line": {
           "color": "Grey",
           "width": 0.5
          }
         },
         "mode": "markers",
         "showlegend": false,
         "text": [
          "{<br>  \"number\": 0,<br>  \"values\": [<br>    0.9230769230769231,<br>    0.0028596632182598114<br>  ],<br>  \"params\": {<br>    \"n_neighbors\": 23,<br>    \"weights\": \"uniform\",<br>    \"metric\": \"manhattan\"<br>  }<br>}",
          "{<br>  \"number\": 1,<br>  \"values\": [<br>    0.9300699300699301,<br>    0.001764439046382904<br>  ],<br>  \"params\": {<br>    \"n_neighbors\": 19,<br>    \"weights\": \"distance\",<br>    \"metric\": \"minkowski\",<br>    \"p\": 4<br>  }<br>}",
          "{<br>  \"number\": 2,<br>  \"values\": [<br>    0.9370629370629371,<br>    0.002009507268667221<br>  ],<br>  \"params\": {<br>    \"n_neighbors\": 32,<br>    \"weights\": \"distance\",<br>    \"metric\": \"chebyshev\"<br>  }<br>}",
          "{<br>  \"number\": 3,<br>  \"values\": [<br>    0.9300699300699301,<br>    0.002010207623243332<br>  ],<br>  \"params\": {<br>    \"n_neighbors\": 22,<br>    \"weights\": \"distance\",<br>    \"metric\": \"chebyshev\"<br>  }<br>}",
          "{<br>  \"number\": 4,<br>  \"values\": [<br>    0.9230769230769231,<br>    0.0020155981183052063<br>  ],<br>  \"params\": {<br>    \"n_neighbors\": 37,<br>    \"weights\": \"uniform\",<br>    \"metric\": \"minkowski\",<br>    \"p\": 3<br>  }<br>}",
          "{<br>  \"number\": 5,<br>  \"values\": [<br>    0.9230769230769231,<br>    0.0014492720365524292<br>  ],<br>  \"params\": {<br>    \"n_neighbors\": 36,<br>    \"weights\": \"distance\",<br>    \"metric\": \"manhattan\"<br>  }<br>}",
          "{<br>  \"number\": 6,<br>  \"values\": [<br>    0.9300699300699301,<br>    0.0014578066766262054<br>  ],<br>  \"params\": {<br>    \"n_neighbors\": 10,<br>    \"weights\": \"distance\",<br>    \"metric\": \"manhattan\"<br>  }<br>}",
          "{<br>  \"number\": 7,<br>  \"values\": [<br>    0.9230769230769231,<br>    0.0017289631068706512<br>  ],<br>  \"params\": {<br>    \"n_neighbors\": 45,<br>    \"weights\": \"distance\",<br>    \"metric\": \"minkowski\",<br>    \"p\": 4<br>  }<br>}",
          "{<br>  \"number\": 8,<br>  \"values\": [<br>    0.9300699300699301,<br>    0.001586630940437317<br>  ],<br>  \"params\": {<br>    \"n_neighbors\": 7,<br>    \"weights\": \"distance\",<br>    \"metric\": \"minkowski\",<br>    \"p\": 3<br>  }<br>}",
          "{<br>  \"number\": 11,<br>  \"values\": [<br>    0.9230769230769231,<br>    0.0014823898673057556<br>  ],<br>  \"params\": {<br>    \"n_neighbors\": 37,<br>    \"weights\": \"distance\",<br>    \"metric\": \"euclidean\"<br>  }<br>}",
          "{<br>  \"number\": 12,<br>  \"values\": [<br>    0.9300699300699301,<br>    0.0017588064074516296<br>  ],<br>  \"params\": {<br>    \"n_neighbors\": 7,<br>    \"weights\": \"distance\",<br>    \"metric\": \"euclidean\"<br>  }<br>}",
          "{<br>  \"number\": 13,<br>  \"values\": [<br>    0.9300699300699301,<br>    0.0020911023020744324<br>  ],<br>  \"params\": {<br>    \"n_neighbors\": 33,<br>    \"weights\": \"distance\",<br>    \"metric\": \"chebyshev\"<br>  }<br>}",
          "{<br>  \"number\": 14,<br>  \"values\": [<br>    0.9440559440559441,<br>    0.0019624195992946625<br>  ],<br>  \"params\": {<br>    \"n_neighbors\": 9,<br>    \"weights\": \"uniform\",<br>    \"metric\": \"chebyshev\"<br>  }<br>}",
          "{<br>  \"number\": 15,<br>  \"values\": [<br>    0.951048951048951,<br>    0.002151079475879669<br>  ],<br>  \"params\": {<br>    \"n_neighbors\": 10,<br>    \"weights\": \"distance\",<br>    \"metric\": \"euclidean\"<br>  }<br>}",
          "{<br>  \"number\": 16,<br>  \"values\": [<br>    0.9440559440559441,<br>    0.0020125992596149445<br>  ],<br>  \"params\": {<br>    \"n_neighbors\": 18,<br>    \"weights\": \"distance\",<br>    \"metric\": \"manhattan\"<br>  }<br>}",
          "{<br>  \"number\": 18,<br>  \"values\": [<br>    0.9370629370629371,<br>    0.0017136186361312866<br>  ],<br>  \"params\": {<br>    \"n_neighbors\": 10,<br>    \"weights\": \"distance\",<br>    \"metric\": \"minkowski\",<br>    \"p\": 5<br>  }<br>}",
          "{<br>  \"number\": 19,<br>  \"values\": [<br>    0.9230769230769231,<br>    0.0019614100456237793<br>  ],<br>  \"params\": {<br>    \"n_neighbors\": 44,<br>    \"weights\": \"distance\",<br>    \"metric\": \"chebyshev\"<br>  }<br>}"
         ],
         "type": "scatter",
         "x": [
          0.9230769230769231,
          0.9300699300699301,
          0.9370629370629371,
          0.9300699300699301,
          0.9230769230769231,
          0.9230769230769231,
          0.9300699300699301,
          0.9230769230769231,
          0.9300699300699301,
          0.9230769230769231,
          0.9300699300699301,
          0.9300699300699301,
          0.9440559440559441,
          0.951048951048951,
          0.9440559440559441,
          0.9370629370629371,
          0.9230769230769231
         ],
         "y": [
          0.0028596632182598114,
          0.001764439046382904,
          0.002009507268667221,
          0.002010207623243332,
          0.0020155981183052063,
          0.0014492720365524292,
          0.0014578066766262054,
          0.0017289631068706512,
          0.001586630940437317,
          0.0014823898673057556,
          0.0017588064074516296,
          0.0020911023020744324,
          0.0019624195992946625,
          0.002151079475879669,
          0.0020125992596149445,
          0.0017136186361312866,
          0.0019614100456237793
         ]
        },
        {
         "hovertemplate": "%{text}<extra>Best Trial</extra>",
         "marker": {
          "color": [
           9,
           10,
           17
          ],
          "colorbar": {
           "title": {
            "text": "Best Trial"
           },
           "x": 1.1,
           "xpad": 40,
           "y": 0.5
          },
          "colorscale": [
           [
            0,
            "rgb(255,245,240)"
           ],
           [
            0.125,
            "rgb(254,224,210)"
           ],
           [
            0.25,
            "rgb(252,187,161)"
           ],
           [
            0.375,
            "rgb(252,146,114)"
           ],
           [
            0.5,
            "rgb(251,106,74)"
           ],
           [
            0.625,
            "rgb(239,59,44)"
           ],
           [
            0.75,
            "rgb(203,24,29)"
           ],
           [
            0.875,
            "rgb(165,15,21)"
           ],
           [
            1,
            "rgb(103,0,13)"
           ]
          ],
          "line": {
           "color": "Grey",
           "width": 0.5
          }
         },
         "mode": "markers",
         "showlegend": false,
         "text": [
          "{<br>  \"number\": 9,<br>  \"values\": [<br>    0.9440559440559441,<br>    0.001468811184167862<br>  ],<br>  \"params\": {<br>    \"n_neighbors\": 18,<br>    \"weights\": \"uniform\",<br>    \"metric\": \"manhattan\"<br>  }<br>}",
          "{<br>  \"number\": 10,<br>  \"values\": [<br>    0.9300699300699301,<br>    0.0014223381876945496<br>  ],<br>  \"params\": {<br>    \"n_neighbors\": 4,<br>    \"weights\": \"distance\",<br>    \"metric\": \"minkowski\",<br>    \"p\": 5<br>  }<br>}",
          "{<br>  \"number\": 17,<br>  \"values\": [<br>    0.951048951048951,<br>    0.0021082162857055664<br>  ],<br>  \"params\": {<br>    \"n_neighbors\": 10,<br>    \"weights\": \"distance\",<br>    \"metric\": \"euclidean\"<br>  }<br>}"
         ],
         "type": "scatter",
         "x": [
          0.9440559440559441,
          0.9300699300699301,
          0.951048951048951
         ],
         "y": [
          0.001468811184167862,
          0.0014223381876945496,
          0.0021082162857055664
         ]
        }
       ],
       "layout": {
        "autosize": true,
        "template": {
         "data": {
          "bar": [
           {
            "error_x": {
             "color": "#2a3f5f"
            },
            "error_y": {
             "color": "#2a3f5f"
            },
            "marker": {
             "line": {
              "color": "#E5ECF6",
              "width": 0.5
             },
             "pattern": {
              "fillmode": "overlay",
              "size": 10,
              "solidity": 0.2
             }
            },
            "type": "bar"
           }
          ],
          "barpolar": [
           {
            "marker": {
             "line": {
              "color": "#E5ECF6",
              "width": 0.5
             },
             "pattern": {
              "fillmode": "overlay",
              "size": 10,
              "solidity": 0.2
             }
            },
            "type": "barpolar"
           }
          ],
          "carpet": [
           {
            "aaxis": {
             "endlinecolor": "#2a3f5f",
             "gridcolor": "white",
             "linecolor": "white",
             "minorgridcolor": "white",
             "startlinecolor": "#2a3f5f"
            },
            "baxis": {
             "endlinecolor": "#2a3f5f",
             "gridcolor": "white",
             "linecolor": "white",
             "minorgridcolor": "white",
             "startlinecolor": "#2a3f5f"
            },
            "type": "carpet"
           }
          ],
          "choropleth": [
           {
            "colorbar": {
             "outlinewidth": 0,
             "ticks": ""
            },
            "type": "choropleth"
           }
          ],
          "contour": [
           {
            "colorbar": {
             "outlinewidth": 0,
             "ticks": ""
            },
            "colorscale": [
             [
              0,
              "#0d0887"
             ],
             [
              0.1111111111111111,
              "#46039f"
             ],
             [
              0.2222222222222222,
              "#7201a8"
             ],
             [
              0.3333333333333333,
              "#9c179e"
             ],
             [
              0.4444444444444444,
              "#bd3786"
             ],
             [
              0.5555555555555556,
              "#d8576b"
             ],
             [
              0.6666666666666666,
              "#ed7953"
             ],
             [
              0.7777777777777778,
              "#fb9f3a"
             ],
             [
              0.8888888888888888,
              "#fdca26"
             ],
             [
              1,
              "#f0f921"
             ]
            ],
            "type": "contour"
           }
          ],
          "contourcarpet": [
           {
            "colorbar": {
             "outlinewidth": 0,
             "ticks": ""
            },
            "type": "contourcarpet"
           }
          ],
          "heatmap": [
           {
            "colorbar": {
             "outlinewidth": 0,
             "ticks": ""
            },
            "colorscale": [
             [
              0,
              "#0d0887"
             ],
             [
              0.1111111111111111,
              "#46039f"
             ],
             [
              0.2222222222222222,
              "#7201a8"
             ],
             [
              0.3333333333333333,
              "#9c179e"
             ],
             [
              0.4444444444444444,
              "#bd3786"
             ],
             [
              0.5555555555555556,
              "#d8576b"
             ],
             [
              0.6666666666666666,
              "#ed7953"
             ],
             [
              0.7777777777777778,
              "#fb9f3a"
             ],
             [
              0.8888888888888888,
              "#fdca26"
             ],
             [
              1,
              "#f0f921"
             ]
            ],
            "type": "heatmap"
           }
          ],
          "heatmapgl": [
           {
            "colorbar": {
             "outlinewidth": 0,
             "ticks": ""
            },
            "colorscale": [
             [
              0,
              "#0d0887"
             ],
             [
              0.1111111111111111,
              "#46039f"
             ],
             [
              0.2222222222222222,
              "#7201a8"
             ],
             [
              0.3333333333333333,
              "#9c179e"
             ],
             [
              0.4444444444444444,
              "#bd3786"
             ],
             [
              0.5555555555555556,
              "#d8576b"
             ],
             [
              0.6666666666666666,
              "#ed7953"
             ],
             [
              0.7777777777777778,
              "#fb9f3a"
             ],
             [
              0.8888888888888888,
              "#fdca26"
             ],
             [
              1,
              "#f0f921"
             ]
            ],
            "type": "heatmapgl"
           }
          ],
          "histogram": [
           {
            "marker": {
             "pattern": {
              "fillmode": "overlay",
              "size": 10,
              "solidity": 0.2
             }
            },
            "type": "histogram"
           }
          ],
          "histogram2d": [
           {
            "colorbar": {
             "outlinewidth": 0,
             "ticks": ""
            },
            "colorscale": [
             [
              0,
              "#0d0887"
             ],
             [
              0.1111111111111111,
              "#46039f"
             ],
             [
              0.2222222222222222,
              "#7201a8"
             ],
             [
              0.3333333333333333,
              "#9c179e"
             ],
             [
              0.4444444444444444,
              "#bd3786"
             ],
             [
              0.5555555555555556,
              "#d8576b"
             ],
             [
              0.6666666666666666,
              "#ed7953"
             ],
             [
              0.7777777777777778,
              "#fb9f3a"
             ],
             [
              0.8888888888888888,
              "#fdca26"
             ],
             [
              1,
              "#f0f921"
             ]
            ],
            "type": "histogram2d"
           }
          ],
          "histogram2dcontour": [
           {
            "colorbar": {
             "outlinewidth": 0,
             "ticks": ""
            },
            "colorscale": [
             [
              0,
              "#0d0887"
             ],
             [
              0.1111111111111111,
              "#46039f"
             ],
             [
              0.2222222222222222,
              "#7201a8"
             ],
             [
              0.3333333333333333,
              "#9c179e"
             ],
             [
              0.4444444444444444,
              "#bd3786"
             ],
             [
              0.5555555555555556,
              "#d8576b"
             ],
             [
              0.6666666666666666,
              "#ed7953"
             ],
             [
              0.7777777777777778,
              "#fb9f3a"
             ],
             [
              0.8888888888888888,
              "#fdca26"
             ],
             [
              1,
              "#f0f921"
             ]
            ],
            "type": "histogram2dcontour"
           }
          ],
          "mesh3d": [
           {
            "colorbar": {
             "outlinewidth": 0,
             "ticks": ""
            },
            "type": "mesh3d"
           }
          ],
          "parcoords": [
           {
            "line": {
             "colorbar": {
              "outlinewidth": 0,
              "ticks": ""
             }
            },
            "type": "parcoords"
           }
          ],
          "pie": [
           {
            "automargin": true,
            "type": "pie"
           }
          ],
          "scatter": [
           {
            "fillpattern": {
             "fillmode": "overlay",
             "size": 10,
             "solidity": 0.2
            },
            "type": "scatter"
           }
          ],
          "scatter3d": [
           {
            "line": {
             "colorbar": {
              "outlinewidth": 0,
              "ticks": ""
             }
            },
            "marker": {
             "colorbar": {
              "outlinewidth": 0,
              "ticks": ""
             }
            },
            "type": "scatter3d"
           }
          ],
          "scattercarpet": [
           {
            "marker": {
             "colorbar": {
              "outlinewidth": 0,
              "ticks": ""
             }
            },
            "type": "scattercarpet"
           }
          ],
          "scattergeo": [
           {
            "marker": {
             "colorbar": {
              "outlinewidth": 0,
              "ticks": ""
             }
            },
            "type": "scattergeo"
           }
          ],
          "scattergl": [
           {
            "marker": {
             "colorbar": {
              "outlinewidth": 0,
              "ticks": ""
             }
            },
            "type": "scattergl"
           }
          ],
          "scattermapbox": [
           {
            "marker": {
             "colorbar": {
              "outlinewidth": 0,
              "ticks": ""
             }
            },
            "type": "scattermapbox"
           }
          ],
          "scatterpolar": [
           {
            "marker": {
             "colorbar": {
              "outlinewidth": 0,
              "ticks": ""
             }
            },
            "type": "scatterpolar"
           }
          ],
          "scatterpolargl": [
           {
            "marker": {
             "colorbar": {
              "outlinewidth": 0,
              "ticks": ""
             }
            },
            "type": "scatterpolargl"
           }
          ],
          "scatterternary": [
           {
            "marker": {
             "colorbar": {
              "outlinewidth": 0,
              "ticks": ""
             }
            },
            "type": "scatterternary"
           }
          ],
          "surface": [
           {
            "colorbar": {
             "outlinewidth": 0,
             "ticks": ""
            },
            "colorscale": [
             [
              0,
              "#0d0887"
             ],
             [
              0.1111111111111111,
              "#46039f"
             ],
             [
              0.2222222222222222,
              "#7201a8"
             ],
             [
              0.3333333333333333,
              "#9c179e"
             ],
             [
              0.4444444444444444,
              "#bd3786"
             ],
             [
              0.5555555555555556,
              "#d8576b"
             ],
             [
              0.6666666666666666,
              "#ed7953"
             ],
             [
              0.7777777777777778,
              "#fb9f3a"
             ],
             [
              0.8888888888888888,
              "#fdca26"
             ],
             [
              1,
              "#f0f921"
             ]
            ],
            "type": "surface"
           }
          ],
          "table": [
           {
            "cells": {
             "fill": {
              "color": "#EBF0F8"
             },
             "line": {
              "color": "white"
             }
            },
            "header": {
             "fill": {
              "color": "#C8D4E3"
             },
             "line": {
              "color": "white"
             }
            },
            "type": "table"
           }
          ]
         },
         "layout": {
          "annotationdefaults": {
           "arrowcolor": "#2a3f5f",
           "arrowhead": 0,
           "arrowwidth": 1
          },
          "autotypenumbers": "strict",
          "coloraxis": {
           "colorbar": {
            "outlinewidth": 0,
            "ticks": ""
           }
          },
          "colorscale": {
           "diverging": [
            [
             0,
             "#8e0152"
            ],
            [
             0.1,
             "#c51b7d"
            ],
            [
             0.2,
             "#de77ae"
            ],
            [
             0.3,
             "#f1b6da"
            ],
            [
             0.4,
             "#fde0ef"
            ],
            [
             0.5,
             "#f7f7f7"
            ],
            [
             0.6,
             "#e6f5d0"
            ],
            [
             0.7,
             "#b8e186"
            ],
            [
             0.8,
             "#7fbc41"
            ],
            [
             0.9,
             "#4d9221"
            ],
            [
             1,
             "#276419"
            ]
           ],
           "sequential": [
            [
             0,
             "#0d0887"
            ],
            [
             0.1111111111111111,
             "#46039f"
            ],
            [
             0.2222222222222222,
             "#7201a8"
            ],
            [
             0.3333333333333333,
             "#9c179e"
            ],
            [
             0.4444444444444444,
             "#bd3786"
            ],
            [
             0.5555555555555556,
             "#d8576b"
            ],
            [
             0.6666666666666666,
             "#ed7953"
            ],
            [
             0.7777777777777778,
             "#fb9f3a"
            ],
            [
             0.8888888888888888,
             "#fdca26"
            ],
            [
             1,
             "#f0f921"
            ]
           ],
           "sequentialminus": [
            [
             0,
             "#0d0887"
            ],
            [
             0.1111111111111111,
             "#46039f"
            ],
            [
             0.2222222222222222,
             "#7201a8"
            ],
            [
             0.3333333333333333,
             "#9c179e"
            ],
            [
             0.4444444444444444,
             "#bd3786"
            ],
            [
             0.5555555555555556,
             "#d8576b"
            ],
            [
             0.6666666666666666,
             "#ed7953"
            ],
            [
             0.7777777777777778,
             "#fb9f3a"
            ],
            [
             0.8888888888888888,
             "#fdca26"
            ],
            [
             1,
             "#f0f921"
            ]
           ]
          },
          "colorway": [
           "#636efa",
           "#EF553B",
           "#00cc96",
           "#ab63fa",
           "#FFA15A",
           "#19d3f3",
           "#FF6692",
           "#B6E880",
           "#FF97FF",
           "#FECB52"
          ],
          "font": {
           "color": "#2a3f5f"
          },
          "geo": {
           "bgcolor": "white",
           "lakecolor": "white",
           "landcolor": "#E5ECF6",
           "showlakes": true,
           "showland": true,
           "subunitcolor": "white"
          },
          "hoverlabel": {
           "align": "left"
          },
          "hovermode": "closest",
          "mapbox": {
           "style": "light"
          },
          "paper_bgcolor": "white",
          "plot_bgcolor": "#E5ECF6",
          "polar": {
           "angularaxis": {
            "gridcolor": "white",
            "linecolor": "white",
            "ticks": ""
           },
           "bgcolor": "#E5ECF6",
           "radialaxis": {
            "gridcolor": "white",
            "linecolor": "white",
            "ticks": ""
           }
          },
          "scene": {
           "xaxis": {
            "backgroundcolor": "#E5ECF6",
            "gridcolor": "white",
            "gridwidth": 2,
            "linecolor": "white",
            "showbackground": true,
            "ticks": "",
            "zerolinecolor": "white"
           },
           "yaxis": {
            "backgroundcolor": "#E5ECF6",
            "gridcolor": "white",
            "gridwidth": 2,
            "linecolor": "white",
            "showbackground": true,
            "ticks": "",
            "zerolinecolor": "white"
           },
           "zaxis": {
            "backgroundcolor": "#E5ECF6",
            "gridcolor": "white",
            "gridwidth": 2,
            "linecolor": "white",
            "showbackground": true,
            "ticks": "",
            "zerolinecolor": "white"
           }
          },
          "shapedefaults": {
           "line": {
            "color": "#2a3f5f"
           }
          },
          "ternary": {
           "aaxis": {
            "gridcolor": "white",
            "linecolor": "white",
            "ticks": ""
           },
           "baxis": {
            "gridcolor": "white",
            "linecolor": "white",
            "ticks": ""
           },
           "bgcolor": "#E5ECF6",
           "caxis": {
            "gridcolor": "white",
            "linecolor": "white",
            "ticks": ""
           }
          },
          "title": {
           "x": 0.05
          },
          "xaxis": {
           "automargin": true,
           "gridcolor": "white",
           "linecolor": "white",
           "ticks": "",
           "title": {
            "standoff": 15
           },
           "zerolinecolor": "white",
           "zerolinewidth": 2
          },
          "yaxis": {
           "automargin": true,
           "gridcolor": "white",
           "linecolor": "white",
           "ticks": "",
           "title": {
            "standoff": 15
           },
           "zerolinecolor": "white",
           "zerolinewidth": 2
          }
         }
        },
        "title": {
         "text": "Pareto-front Plot"
        },
        "xaxis": {
         "autorange": true,
         "range": [
          0.9213862699617185,
          0.9527396041641557
         ],
         "title": {
          "text": "Objective 0"
         },
         "type": "linear"
        },
        "yaxis": {
         "autorange": true,
         "range": [
          0.0013037239861430473,
          0.0029782774198113134
         ],
         "title": {
          "text": "Objective 1"
         },
         "type": "linear"
        }
       }
      },
      "image/png": "[encoded data removed]",
      "text/html": [
       "<div>                            <div id=\"a7221218-28f5-4d73-b629-ffed19ce37f3\" class=\"plotly-graph-div\" style=\"height:525px; width:100%;\"></div>            <script type=\"text/javascript\">                require([\"plotly\"], function(Plotly) {                    window.PLOTLYENV=window.PLOTLYENV || {};                                    if (document.getElementById(\"a7221218-28f5-4d73-b629-ffed19ce37f3\")) {                    Plotly.newPlot(                        \"a7221218-28f5-4d73-b629-ffed19ce37f3\",                        [{\"hovertemplate\":\"%{text}\\u003cextra\\u003eTrial\\u003c\\u002fextra\\u003e\",\"marker\":{\"color\":[0,1,2,3,4,5,6,7,8,11,12,13,14,15,16,18,19],\"colorbar\":{\"title\":{\"text\":\"Trial\"}},\"colorscale\":[[0.0,\"rgb(247,251,255)\"],[0.125,\"rgb(222,235,247)\"],[0.25,\"rgb(198,219,239)\"],[0.375,\"rgb(158,202,225)\"],[0.5,\"rgb(107,174,214)\"],[0.625,\"rgb(66,146,198)\"],[0.75,\"rgb(33,113,181)\"],[0.875,\"rgb(8,81,156)\"],[1.0,\"rgb(8,48,107)\"]],\"line\":{\"color\":\"Grey\",\"width\":0.5}},\"mode\":\"markers\",\"showlegend\":false,\"text\":[\"{\\u003cbr\\u003e  \\\"number\\\": 0,\\u003cbr\\u003e  \\\"values\\\": [\\u003cbr\\u003e    0.9230769230769231,\\u003cbr\\u003e    0.0028596632182598114\\u003cbr\\u003e  ],\\u003cbr\\u003e  \\\"params\\\": {\\u003cbr\\u003e    \\\"n_neighbors\\\": 23,\\u003cbr\\u003e    \\\"weights\\\": \\\"uniform\\\",\\u003cbr\\u003e    \\\"metric\\\": \\\"manhattan\\\"\\u003cbr\\u003e  }\\u003cbr\\u003e}\",\"{\\u003cbr\\u003e  \\\"number\\\": 1,\\u003cbr\\u003e  \\\"values\\\": [\\u003cbr\\u003e    0.9300699300699301,\\u003cbr\\u003e    0.001764439046382904\\u003cbr\\u003e  ],\\u003cbr\\u003e  \\\"params\\\": {\\u003cbr\\u003e    \\\"n_neighbors\\\": 19,\\u003cbr\\u003e    \\\"weights\\\": \\\"distance\\\",\\u003cbr\\u003e    \\\"metric\\\": \\\"minkowski\\\",\\u003cbr\\u003e    \\\"p\\\": 4\\u003cbr\\u003e  }\\u003cbr\\u003e}\",\"{\\u003cbr\\u003e  \\\"number\\\": 2,\\u003cbr\\u003e  \\\"values\\\": [\\u003cbr\\u003e    0.9370629370629371,\\u003cbr\\u003e    0.002009507268667221\\u003cbr\\u003e  ],\\u003cbr\\u003e  \\\"params\\\": {\\u003cbr\\u003e    \\\"n_neighbors\\\": 32,\\u003cbr\\u003e    \\\"weights\\\": \\\"distance\\\",\\u003cbr\\u003e    \\\"metric\\\": \\\"chebyshev\\\"\\u003cbr\\u003e  }\\u003cbr\\u003e}\",\"{\\u003cbr\\u003e  \\\"number\\\": 3,\\u003cbr\\u003e  \\\"values\\\": [\\u003cbr\\u003e    0.9300699300699301,\\u003cbr\\u003e    0.002010207623243332\\u003cbr\\u003e  ],\\u003cbr\\u003e  \\\"params\\\": {\\u003cbr\\u003e    \\\"n_neighbors\\\": 22,\\u003cbr\\u003e    \\\"weights\\\": \\\"distance\\\",\\u003cbr\\u003e    \\\"metric\\\": \\\"chebyshev\\\"\\u003cbr\\u003e  }\\u003cbr\\u003e}\",\"{\\u003cbr\\u003e  \\\"number\\\": 4,\\u003cbr\\u003e  \\\"values\\\": [\\u003cbr\\u003e    0.9230769230769231,\\u003cbr\\u003e    0.0020155981183052063\\u003cbr\\u003e  ],\\u003cbr\\u003e  \\\"params\\\": {\\u003cbr\\u003e    \\\"n_neighbors\\\": 37,\\u003cbr\\u003e    \\\"weights\\\": \\\"uniform\\\",\\u003cbr\\u003e    \\\"metric\\\": \\\"minkowski\\\",\\u003cbr\\u003e    \\\"p\\\": 3\\u003cbr\\u003e  }\\u003cbr\\u003e}\",\"{\\u003cbr\\u003e  \\\"number\\\": 5,\\u003cbr\\u003e  \\\"values\\\": [\\u003cbr\\u003e    0.9230769230769231,\\u003cbr\\u003e    0.0014492720365524292\\u003cbr\\u003e  ],\\u003cbr\\u003e  \\\"params\\\": {\\u003cbr\\u003e    \\\"n_neighbors\\\": 36,\\u003cbr\\u003e    \\\"weights\\\": \\\"distance\\\",\\u003cbr\\u003e    \\\"metric\\\": \\\"manhattan\\\"\\u003cbr\\u003e  }\\u003cbr\\u003e}\",\"{\\u003cbr\\u003e  \\\"number\\\": 6,\\u003cbr\\u003e  \\\"values\\\": [\\u003cbr\\u003e    0.9300699300699301,\\u003cbr\\u003e    0.0014578066766262054\\u003cbr\\u003e  ],\\u003cbr\\u003e  \\\"params\\\": {\\u003cbr\\u003e    \\\"n_neighbors\\\": 10,\\u003cbr\\u003e    \\\"weights\\\": \\\"distance\\\",\\u003cbr\\u003e    \\\"metric\\\": \\\"manhattan\\\"\\u003cbr\\u003e  }\\u003cbr\\u003e}\",\"{\\u003cbr\\u003e  \\\"number\\\": 7,\\u003cbr\\u003e  \\\"values\\\": [\\u003cbr\\u003e    0.9230769230769231,\\u003cbr\\u003e    0.0017289631068706512\\u003cbr\\u003e  ],\\u003cbr\\u003e  \\\"params\\\": {\\u003cbr\\u003e    \\\"n_neighbors\\\": 45,\\u003cbr\\u003e    \\\"weights\\\": \\\"distance\\\",\\u003cbr\\u003e    \\\"metric\\\": \\\"minkowski\\\",\\u003cbr\\u003e    \\\"p\\\": 4\\u003cbr\\u003e  }\\u003cbr\\u003e}\",\"{\\u003cbr\\u003e  \\\"number\\\": 8,\\u003cbr\\u003e  \\\"values\\\": [\\u003cbr\\u003e    0.9300699300699301,\\u003cbr\\u003e    0.001586630940437317\\u003cbr\\u003e  ],\\u003cbr\\u003e  \\\"params\\\": {\\u003cbr\\u003e    \\\"n_neighbors\\\": 7,\\u003cbr\\u003e    \\\"weights\\\": \\\"distance\\\",\\u003cbr\\u003e    \\\"metric\\\": \\\"minkowski\\\",\\u003cbr\\u003e    \\\"p\\\": 3\\u003cbr\\u003e  }\\u003cbr\\u003e}\",\"{\\u003cbr\\u003e  \\\"number\\\": 11,\\u003cbr\\u003e  \\\"values\\\": [\\u003cbr\\u003e    0.9230769230769231,\\u003cbr\\u003e    0.0014823898673057556\\u003cbr\\u003e  ],\\u003cbr\\u003e  \\\"params\\\": {\\u003cbr\\u003e    \\\"n_neighbors\\\": 37,\\u003cbr\\u003e    \\\"weights\\\": \\\"distance\\\",\\u003cbr\\u003e    \\\"metric\\\": \\\"euclidean\\\"\\u003cbr\\u003e  }\\u003cbr\\u003e}\",\"{\\u003cbr\\u003e  \\\"number\\\": 12,\\u003cbr\\u003e  \\\"values\\\": [\\u003cbr\\u003e    0.9300699300699301,\\u003cbr\\u003e    0.0017588064074516296\\u003cbr\\u003e  ],\\u003cbr\\u003e  \\\"params\\\": {\\u003cbr\\u003e    \\\"n_neighbors\\\": 7,\\u003cbr\\u003e    \\\"weights\\\": \\\"distance\\\",\\u003cbr\\u003e    \\\"metric\\\": \\\"euclidean\\\"\\u003cbr\\u003e  }\\u003cbr\\u003e}\",\"{\\u003cbr\\u003e  \\\"number\\\": 13,\\u003cbr\\u003e  \\\"values\\\": [\\u003cbr\\u003e    0.9300699300699301,\\u003cbr\\u003e    0.0020911023020744324\\u003cbr\\u003e  ],\\u003cbr\\u003e  \\\"params\\\": {\\u003cbr\\u003e    \\\"n_neighbors\\\": 33,\\u003cbr\\u003e    \\\"weights\\\": \\\"distance\\\",\\u003cbr\\u003e    \\\"metric\\\": \\\"chebyshev\\\"\\u003cbr\\u003e  }\\u003cbr\\u003e}\",\"{\\u003cbr\\u003e  \\\"number\\\": 14,\\u003cbr\\u003e  \\\"values\\\": [\\u003cbr\\u003e    0.9440559440559441,\\u003cbr\\u003e    0.0019624195992946625\\u003cbr\\u003e  ],\\u003cbr\\u003e  \\\"params\\\": {\\u003cbr\\u003e    \\\"n_neighbors\\\": 9,\\u003cbr\\u003e    \\\"weights\\\": \\\"uniform\\\",\\u003cbr\\u003e    \\\"metric\\\": \\\"chebyshev\\\"\\u003cbr\\u003e  }\\u003cbr\\u003e}\",\"{\\u003cbr\\u003e  \\\"number\\\": 15,\\u003cbr\\u003e  \\\"values\\\": [\\u003cbr\\u003e    0.951048951048951,\\u003cbr\\u003e    0.002151079475879669\\u003cbr\\u003e  ],\\u003cbr\\u003e  \\\"params\\\": {\\u003cbr\\u003e    \\\"n_neighbors\\\": 10,\\u003cbr\\u003e    \\\"weights\\\": \\\"distance\\\",\\u003cbr\\u003e    \\\"metric\\\": \\\"euclidean\\\"\\u003cbr\\u003e  }\\u003cbr\\u003e}\",\"{\\u003cbr\\u003e  \\\"number\\\": 16,\\u003cbr\\u003e  \\\"values\\\": [\\u003cbr\\u003e    0.9440559440559441,\\u003cbr\\u003e    0.0020125992596149445\\u003cbr\\u003e  ],\\u003cbr\\u003e  \\\"params\\\": {\\u003cbr\\u003e    \\\"n_neighbors\\\": 18,\\u003cbr\\u003e    \\\"weights\\\": \\\"distance\\\",\\u003cbr\\u003e    \\\"metric\\\": \\\"manhattan\\\"\\u003cbr\\u003e  }\\u003cbr\\u003e}\",\"{\\u003cbr\\u003e  \\\"number\\\": 18,\\u003cbr\\u003e  \\\"values\\\": [\\u003cbr\\u003e    0.9370629370629371,\\u003cbr\\u003e    0.0017136186361312866\\u003cbr\\u003e  ],\\u003cbr\\u003e  \\\"params\\\": {\\u003cbr\\u003e    \\\"n_neighbors\\\": 10,\\u003cbr\\u003e    \\\"weights\\\": \\\"distance\\\",\\u003cbr\\u003e    \\\"metric\\\": \\\"minkowski\\\",\\u003cbr\\u003e    \\\"p\\\": 5\\u003cbr\\u003e  }\\u003cbr\\u003e}\",\"{\\u003cbr\\u003e  \\\"number\\\": 19,\\u003cbr\\u003e  \\\"values\\\": [\\u003cbr\\u003e    0.9230769230769231,\\u003cbr\\u003e    0.0019614100456237793\\u003cbr\\u003e  ],\\u003cbr\\u003e  \\\"params\\\": {\\u003cbr\\u003e    \\\"n_neighbors\\\": 44,\\u003cbr\\u003e    \\\"weights\\\": \\\"distance\\\",\\u003cbr\\u003e    \\\"metric\\\": \\\"chebyshev\\\"\\u003cbr\\u003e  }\\u003cbr\\u003e}\"],\"x\":[0.9230769230769231,0.9300699300699301,0.9370629370629371,0.9300699300699301,0.9230769230769231,0.9230769230769231,0.9300699300699301,0.9230769230769231,0.9300699300699301,0.9230769230769231,0.9300699300699301,0.9300699300699301,0.9440559440559441,0.951048951048951,0.9440559440559441,0.9370629370629371,0.9230769230769231],\"y\":[0.0028596632182598114,0.001764439046382904,0.002009507268667221,0.002010207623243332,0.0020155981183052063,0.0014492720365524292,0.0014578066766262054,0.0017289631068706512,0.001586630940437317,0.0014823898673057556,0.0017588064074516296,0.0020911023020744324,0.0019624195992946625,0.002151079475879669,0.0020125992596149445,0.0017136186361312866,0.0019614100456237793],\"type\":\"scatter\"},{\"hovertemplate\":\"%{text}\\u003cextra\\u003eBest Trial\\u003c\\u002fextra\\u003e\",\"marker\":{\"color\":[9,10,17],\"colorbar\":{\"title\":{\"text\":\"Best Trial\"},\"x\":1.1,\"xpad\":40},\"colorscale\":[[0.0,\"rgb(255,245,240)\"],[0.125,\"rgb(254,224,210)\"],[0.25,\"rgb(252,187,161)\"],[0.375,\"rgb(252,146,114)\"],[0.5,\"rgb(251,106,74)\"],[0.625,\"rgb(239,59,44)\"],[0.75,\"rgb(203,24,29)\"],[0.875,\"rgb(165,15,21)\"],[1.0,\"rgb(103,0,13)\"]],\"line\":{\"color\":\"Grey\",\"width\":0.5}},\"mode\":\"markers\",\"showlegend\":false,\"text\":[\"{\\u003cbr\\u003e  \\\"number\\\": 9,\\u003cbr\\u003e  \\\"values\\\": [\\u003cbr\\u003e    0.9440559440559441,\\u003cbr\\u003e    0.001468811184167862\\u003cbr\\u003e  ],\\u003cbr\\u003e  \\\"params\\\": {\\u003cbr\\u003e    \\\"n_neighbors\\\": 18,\\u003cbr\\u003e    \\\"weights\\\": \\\"uniform\\\",\\u003cbr\\u003e    \\\"metric\\\": \\\"manhattan\\\"\\u003cbr\\u003e  }\\u003cbr\\u003e}\",\"{\\u003cbr\\u003e  \\\"number\\\": 10,\\u003cbr\\u003e  \\\"values\\\": [\\u003cbr\\u003e    0.9300699300699301,\\u003cbr\\u003e    0.0014223381876945496\\u003cbr\\u003e  ],\\u003cbr\\u003e  \\\"params\\\": {\\u003cbr\\u003e    \\\"n_neighbors\\\": 4,\\u003cbr\\u003e    \\\"weights\\\": \\\"distance\\\",\\u003cbr\\u003e    \\\"metric\\\": \\\"minkowski\\\",\\u003cbr\\u003e    \\\"p\\\": 5\\u003cbr\\u003e  }\\u003cbr\\u003e}\",\"{\\u003cbr\\u003e  \\\"number\\\": 17,\\u003cbr\\u003e  \\\"values\\\": [\\u003cbr\\u003e    0.951048951048951,\\u003cbr\\u003e    0.0021082162857055664\\u003cbr\\u003e  ],\\u003cbr\\u003e  \\\"params\\\": {\\u003cbr\\u003e    \\\"n_neighbors\\\": 10,\\u003cbr\\u003e    \\\"weights\\\": \\\"distance\\\",\\u003cbr\\u003e    \\\"metric\\\": \\\"euclidean\\\"\\u003cbr\\u003e  }\\u003cbr\\u003e}\"],\"x\":[0.9440559440559441,0.9300699300699301,0.951048951048951],\"y\":[0.001468811184167862,0.0014223381876945496,0.0021082162857055664],\"type\":\"scatter\"}],                        {\"title\":{\"text\":\"Pareto-front Plot\"},\"xaxis\":{\"title\":{\"text\":\"Objective 0\"}},\"yaxis\":{\"title\":{\"text\":\"Objective 1\"}},\"template\":{\"data\":{\"histogram2dcontour\":[{\"type\":\"histogram2dcontour\",\"colorbar\":{\"outlinewidth\":0,\"ticks\":\"\"},\"colorscale\":[[0.0,\"#0d0887\"],[0.1111111111111111,\"#46039f\"],[0.2222222222222222,\"#7201a8\"],[0.3333333333333333,\"#9c179e\"],[0.4444444444444444,\"#bd3786\"],[0.5555555555555556,\"#d8576b\"],[0.6666666666666666,\"#ed7953\"],[0.7777777777777778,\"#fb9f3a\"],[0.8888888888888888,\"#fdca26\"],[1.0,\"#f0f921\"]]}],\"choropleth\":[{\"type\":\"choropleth\",\"colorbar\":{\"outlinewidth\":0,\"ticks\":\"\"}}],\"histogram2d\":[{\"type\":\"histogram2d\",\"colorbar\":{\"outlinewidth\":0,\"ticks\":\"\"},\"colorscale\":[[0.0,\"#0d0887\"],[0.1111111111111111,\"#46039f\"],[0.2222222222222222,\"#7201a8\"],[0.3333333333333333,\"#9c179e\"],[0.4444444444444444,\"#bd3786\"],[0.5555555555555556,\"#d8576b\"],[0.6666666666666666,\"#ed7953\"],[0.7777777777777778,\"#fb9f3a\"],[0.8888888888888888,\"#fdca26\"],[1.0,\"#f0f921\"]]}],\"heatmap\":[{\"type\":\"heatmap\",\"colorbar\":{\"outlinewidth\":0,\"ticks\":\"\"},\"colorscale\":[[0.0,\"#0d0887\"],[0.1111111111111111,\"#46039f\"],[0.2222222222222222,\"#7201a8\"],[0.3333333333333333,\"#9c179e\"],[0.4444444444444444,\"#bd3786\"],[0.5555555555555556,\"#d8576b\"],[0.6666666666666666,\"#ed7953\"],[0.7777777777777778,\"#fb9f3a\"],[0.8888888888888888,\"#fdca26\"],[1.0,\"#f0f921\"]]}],\"heatmapgl\":[{\"type\":\"heatmapgl\",\"colorbar\":{\"outlinewidth\":0,\"ticks\":\"\"},\"colorscale\":[[0.0,\"#0d0887\"],[0.1111111111111111,\"#46039f\"],[0.2222222222222222,\"#7201a8\"],[0.3333333333333333,\"#9c179e\"],[0.4444444444444444,\"#bd3786\"],[0.5555555555555556,\"#d8576b\"],[0.6666666666666666,\"#ed7953\"],[0.7777777777777778,\"#fb9f3a\"],[0.8888888888888888,\"#fdca26\"],[1.0,\"#f0f921\"]]}],\"contourcarpet\":[{\"type\":\"contourcarpet\",\"colorbar\":{\"outlinewidth\":0,\"ticks\":\"\"}}],\"contour\":[{\"type\":\"contour\",\"colorbar\":{\"outlinewidth\":0,\"ticks\":\"\"},\"colorscale\":[[0.0,\"#0d0887\"],[0.1111111111111111,\"#46039f\"],[0.2222222222222222,\"#7201a8\"],[0.3333333333333333,\"#9c179e\"],[0.4444444444444444,\"#bd3786\"],[0.5555555555555556,\"#d8576b\"],[0.6666666666666666,\"#ed7953\"],[0.7777777777777778,\"#fb9f3a\"],[0.8888888888888888,\"#fdca26\"],[1.0,\"#f0f921\"]]}],\"surface\":[{\"type\":\"surface\",\"colorbar\":{\"outlinewidth\":0,\"ticks\":\"\"},\"colorscale\":[[0.0,\"#0d0887\"],[0.1111111111111111,\"#46039f\"],[0.2222222222222222,\"#7201a8\"],[0.3333333333333333,\"#9c179e\"],[0.4444444444444444,\"#bd3786\"],[0.5555555555555556,\"#d8576b\"],[0.6666666666666666,\"#ed7953\"],[0.7777777777777778,\"#fb9f3a\"],[0.8888888888888888,\"#fdca26\"],[1.0,\"#f0f921\"]]}],\"mesh3d\":[{\"type\":\"mesh3d\",\"colorbar\":{\"outlinewidth\":0,\"ticks\":\"\"}}],\"scatter\":[{\"fillpattern\":{\"fillmode\":\"overlay\",\"size\":10,\"solidity\":0.2},\"type\":\"scatter\"}],\"parcoords\":[{\"type\":\"parcoords\",\"line\":{\"colorbar\":{\"outlinewidth\":0,\"ticks\":\"\"}}}],\"scatterpolargl\":[{\"type\":\"scatterpolargl\",\"marker\":{\"colorbar\":{\"outlinewidth\":0,\"ticks\":\"\"}}}],\"bar\":[{\"error_x\":{\"color\":\"#2a3f5f\"},\"error_y\":{\"color\":\"#2a3f5f\"},\"marker\":{\"line\":{\"color\":\"#E5ECF6\",\"width\":0.5},\"pattern\":{\"fillmode\":\"overlay\",\"size\":10,\"solidity\":0.2}},\"type\":\"bar\"}],\"scattergeo\":[{\"type\":\"scattergeo\",\"marker\":{\"colorbar\":{\"outlinewidth\":0,\"ticks\":\"\"}}}],\"scatterpolar\":[{\"type\":\"scatterpolar\",\"marker\":{\"colorbar\":{\"outlinewidth\":0,\"ticks\":\"\"}}}],\"histogram\":[{\"marker\":{\"pattern\":{\"fillmode\":\"overlay\",\"size\":10,\"solidity\":0.2}},\"type\":\"histogram\"}],\"scattergl\":[{\"type\":\"scattergl\",\"marker\":{\"colorbar\":{\"outlinewidth\":0,\"ticks\":\"\"}}}],\"scatter3d\":[{\"type\":\"scatter3d\",\"line\":{\"colorbar\":{\"outlinewidth\":0,\"ticks\":\"\"}},\"marker\":{\"colorbar\":{\"outlinewidth\":0,\"ticks\":\"\"}}}],\"scattermapbox\":[{\"type\":\"scattermapbox\",\"marker\":{\"colorbar\":{\"outlinewidth\":0,\"ticks\":\"\"}}}],\"scatterternary\":[{\"type\":\"scatterternary\",\"marker\":{\"colorbar\":{\"outlinewidth\":0,\"ticks\":\"\"}}}],\"scattercarpet\":[{\"type\":\"scattercarpet\",\"marker\":{\"colorbar\":{\"outlinewidth\":0,\"ticks\":\"\"}}}],\"carpet\":[{\"aaxis\":{\"endlinecolor\":\"#2a3f5f\",\"gridcolor\":\"white\",\"linecolor\":\"white\",\"minorgridcolor\":\"white\",\"startlinecolor\":\"#2a3f5f\"},\"baxis\":{\"endlinecolor\":\"#2a3f5f\",\"gridcolor\":\"white\",\"linecolor\":\"white\",\"minorgridcolor\":\"white\",\"startlinecolor\":\"#2a3f5f\"},\"type\":\"carpet\"}],\"table\":[{\"cells\":{\"fill\":{\"color\":\"#EBF0F8\"},\"line\":{\"color\":\"white\"}},\"header\":{\"fill\":{\"color\":\"#C8D4E3\"},\"line\":{\"color\":\"white\"}},\"type\":\"table\"}],\"barpolar\":[{\"marker\":{\"line\":{\"color\":\"#E5ECF6\",\"width\":0.5},\"pattern\":{\"fillmode\":\"overlay\",\"size\":10,\"solidity\":0.2}},\"type\":\"barpolar\"}],\"pie\":[{\"automargin\":true,\"type\":\"pie\"}]},\"layout\":{\"autotypenumbers\":\"strict\",\"colorway\":[\"#636efa\",\"#EF553B\",\"#00cc96\",\"#ab63fa\",\"#FFA15A\",\"#19d3f3\",\"#FF6692\",\"#B6E880\",\"#FF97FF\",\"#FECB52\"],\"font\":{\"color\":\"#2a3f5f\"},\"hovermode\":\"closest\",\"hoverlabel\":{\"align\":\"left\"},\"paper_bgcolor\":\"white\",\"plot_bgcolor\":\"#E5ECF6\",\"polar\":{\"bgcolor\":\"#E5ECF6\",\"angularaxis\":{\"gridcolor\":\"white\",\"linecolor\":\"white\",\"ticks\":\"\"},\"radialaxis\":{\"gridcolor\":\"white\",\"linecolor\":\"white\",\"ticks\":\"\"}},\"ternary\":{\"bgcolor\":\"#E5ECF6\",\"aaxis\":{\"gridcolor\":\"white\",\"linecolor\":\"white\",\"ticks\":\"\"},\"baxis\":{\"gridcolor\":\"white\",\"linecolor\":\"white\",\"ticks\":\"\"},\"caxis\":{\"gridcolor\":\"white\",\"linecolor\":\"white\",\"ticks\":\"\"}},\"coloraxis\":{\"colorbar\":{\"outlinewidth\":0,\"ticks\":\"\"}},\"colorscale\":{\"sequential\":[[0.0,\"#0d0887\"],[0.1111111111111111,\"#46039f\"],[0.2222222222222222,\"#7201a8\"],[0.3333333333333333,\"#9c179e\"],[0.4444444444444444,\"#bd3786\"],[0.5555555555555556,\"#d8576b\"],[0.6666666666666666,\"#ed7953\"],[0.7777777777777778,\"#fb9f3a\"],[0.8888888888888888,\"#fdca26\"],[1.0,\"#f0f921\"]],\"sequentialminus\":[[0.0,\"#0d0887\"],[0.1111111111111111,\"#46039f\"],[0.2222222222222222,\"#7201a8\"],[0.3333333333333333,\"#9c179e\"],[0.4444444444444444,\"#bd3786\"],[0.5555555555555556,\"#d8576b\"],[0.6666666666666666,\"#ed7953\"],[0.7777777777777778,\"#fb9f3a\"],[0.8888888888888888,\"#fdca26\"],[1.0,\"#f0f921\"]],\"diverging\":[[0,\"#8e0152\"],[0.1,\"#c51b7d\"],[0.2,\"#de77ae\"],[0.3,\"#f1b6da\"],[0.4,\"#fde0ef\"],[0.5,\"#f7f7f7\"],[0.6,\"#e6f5d0\"],[0.7,\"#b8e186\"],[0.8,\"#7fbc41\"],[0.9,\"#4d9221\"],[1,\"#276419\"]]},\"xaxis\":{\"gridcolor\":\"white\",\"linecolor\":\"white\",\"ticks\":\"\",\"title\":{\"standoff\":15},\"zerolinecolor\":\"white\",\"automargin\":true,\"zerolinewidth\":2},\"yaxis\":{\"gridcolor\":\"white\",\"linecolor\":\"white\",\"ticks\":\"\",\"title\":{\"standoff\":15},\"zerolinecolor\":\"white\",\"automargin\":true,\"zerolinewidth\":2},\"scene\":{\"xaxis\":{\"backgroundcolor\":\"#E5ECF6\",\"gridcolor\":\"white\",\"linecolor\":\"white\",\"showbackground\":true,\"ticks\":\"\",\"zerolinecolor\":\"white\",\"gridwidth\":2},\"yaxis\":{\"backgroundcolor\":\"#E5ECF6\",\"gridcolor\":\"white\",\"linecolor\":\"white\",\"showbackground\":true,\"ticks\":\"\",\"zerolinecolor\":\"white\",\"gridwidth\":2},\"zaxis\":{\"backgroundcolor\":\"#E5ECF6\",\"gridcolor\":\"white\",\"linecolor\":\"white\",\"showbackground\":true,\"ticks\":\"\",\"zerolinecolor\":\"white\",\"gridwidth\":2}},\"shapedefaults\":{\"line\":{\"color\":\"#2a3f5f\"}},\"annotationdefaults\":{\"arrowcolor\":\"#2a3f5f\",\"arrowhead\":0,\"arrowwidth\":1},\"geo\":{\"bgcolor\":\"white\",\"landcolor\":\"#E5ECF6\",\"subunitcolor\":\"white\",\"showland\":true,\"showlakes\":true,\"lakecolor\":\"white\"},\"title\":{\"x\":0.05},\"mapbox\":{\"style\":\"light\"}}}},                        {\"responsive\": true}                    ).then(function(){\n",
       "                            \n",
       "var gd = document.getElementById('a7221218-28f5-4d73-b629-ffed19ce37f3');\n",
       "var x = new MutationObserver(function (mutations, observer) {{\n",
       "        var display = window.getComputedStyle(gd).display;\n",
       "        if (!display || display === 'none') {{\n",
       "            console.log([gd, 'removed!']);\n",
       "            Plotly.purge(gd);\n",
       "            observer.disconnect();\n",
       "        }}\n",
       "}});\n",
       "\n",
       "// Listen for the removal of the full notebook cells\n",
       "var notebookContainer = gd.closest('#notebook-container');\n",
       "if (notebookContainer) {{\n",
       "    x.observe(notebookContainer, {childList: true});\n",
       "}}\n",
       "\n",
       "// Listen for the clearing of the current output cell\n",
       "var outputEl = gd.closest('.output');\n",
       "if (outputEl) {{\n",
       "    x.observe(outputEl, {childList: true});\n",
       "}}\n",
       "\n",
       "                        })                };                });            </script>        </div>"
      ]
     },
     "metadata": {},
     "output_type": "display_data"
    }
   ],
   "source": [
    "# Use the Pareto Front to Pareto Front show the trade-offs between conflicting objectives, \n",
    "# highlighting the set of optimal solutions where improving one objective would worsen another.\n",
    "optuna.visualization.plot_pareto_front(study)"
   ]
  },
  {
   "cell_type": "code",
   "execution_count": 82,
   "id": "78877939-2679-4470-876a-c9f1e792dc3e",
   "metadata": {
    "execution": {
     "iopub.execute_input": "2024-11-25T08:06:17.616467Z",
     "iopub.status.busy": "2024-11-25T08:06:17.615978Z",
     "iopub.status.idle": "2024-11-25T08:06:18.111279Z",
     "shell.execute_reply": "2024-11-25T08:06:18.110309Z",
     "shell.execute_reply.started": "2024-11-25T08:06:17.616423Z"
    }
   },
   "outputs": [
    {
     "data": {
      "application/vnd.plotly.v1+json": {
       "config": {
        "plotlyServerURL": "https://plot.ly"
       },
       "data": [
        {
         "cliponaxis": false,
         "hovertemplate": [
          "weights (CategoricalDistribution): 0.012351973245081502<extra></extra>",
          "metric (CategoricalDistribution): 0.2061584493456534<extra></extra>",
          "n_neighbors (IntDistribution): 0.7814895774092652<extra></extra>"
         ],
         "name": "Objective Value 0",
         "orientation": "h",
         "text": [
          "0.01",
          "0.21",
          "0.78"
         ],
         "textposition": "outside",
         "type": "bar",
         "x": [
          0.012351973245081502,
          0.2061584493456534,
          0.7814895774092652
         ],
         "y": [
          "weights",
          "metric",
          "n_neighbors"
         ]
        },
        {
         "cliponaxis": false,
         "hovertemplate": [
          "weights (CategoricalDistribution): 0.23151405610231143<extra></extra>",
          "n_neighbors (IntDistribution): 0.31823575942134336<extra></extra>",
          "metric (CategoricalDistribution): 0.4502501844763451<extra></extra>"
         ],
         "name": "Objective Value 1",
         "orientation": "h",
         "text": [
          "0.23",
          "0.32",
          "0.45"
         ],
         "textposition": "outside",
         "type": "bar",
         "x": [
          0.23151405610231143,
          0.31823575942134336,
          0.4502501844763451
         ],
         "y": [
          "weights",
          "n_neighbors",
          "metric"
         ]
        }
       ],
       "layout": {
        "autosize": true,
        "template": {
         "data": {
          "bar": [
           {
            "error_x": {
             "color": "#2a3f5f"
            },
            "error_y": {
             "color": "#2a3f5f"
            },
            "marker": {
             "line": {
              "color": "#E5ECF6",
              "width": 0.5
             },
             "pattern": {
              "fillmode": "overlay",
              "size": 10,
              "solidity": 0.2
             }
            },
            "type": "bar"
           }
          ],
          "barpolar": [
           {
            "marker": {
             "line": {
              "color": "#E5ECF6",
              "width": 0.5
             },
             "pattern": {
              "fillmode": "overlay",
              "size": 10,
              "solidity": 0.2
             }
            },
            "type": "barpolar"
           }
          ],
          "carpet": [
           {
            "aaxis": {
             "endlinecolor": "#2a3f5f",
             "gridcolor": "white",
             "linecolor": "white",
             "minorgridcolor": "white",
             "startlinecolor": "#2a3f5f"
            },
            "baxis": {
             "endlinecolor": "#2a3f5f",
             "gridcolor": "white",
             "linecolor": "white",
             "minorgridcolor": "white",
             "startlinecolor": "#2a3f5f"
            },
            "type": "carpet"
           }
          ],
          "choropleth": [
           {
            "colorbar": {
             "outlinewidth": 0,
             "ticks": ""
            },
            "type": "choropleth"
           }
          ],
          "contour": [
           {
            "colorbar": {
             "outlinewidth": 0,
             "ticks": ""
            },
            "colorscale": [
             [
              0,
              "#0d0887"
             ],
             [
              0.1111111111111111,
              "#46039f"
             ],
             [
              0.2222222222222222,
              "#7201a8"
             ],
             [
              0.3333333333333333,
              "#9c179e"
             ],
             [
              0.4444444444444444,
              "#bd3786"
             ],
             [
              0.5555555555555556,
              "#d8576b"
             ],
             [
              0.6666666666666666,
              "#ed7953"
             ],
             [
              0.7777777777777778,
              "#fb9f3a"
             ],
             [
              0.8888888888888888,
              "#fdca26"
             ],
             [
              1,
              "#f0f921"
             ]
            ],
            "type": "contour"
           }
          ],
          "contourcarpet": [
           {
            "colorbar": {
             "outlinewidth": 0,
             "ticks": ""
            },
            "type": "contourcarpet"
           }
          ],
          "heatmap": [
           {
            "colorbar": {
             "outlinewidth": 0,
             "ticks": ""
            },
            "colorscale": [
             [
              0,
              "#0d0887"
             ],
             [
              0.1111111111111111,
              "#46039f"
             ],
             [
              0.2222222222222222,
              "#7201a8"
             ],
             [
              0.3333333333333333,
              "#9c179e"
             ],
             [
              0.4444444444444444,
              "#bd3786"
             ],
             [
              0.5555555555555556,
              "#d8576b"
             ],
             [
              0.6666666666666666,
              "#ed7953"
             ],
             [
              0.7777777777777778,
              "#fb9f3a"
             ],
             [
              0.8888888888888888,
              "#fdca26"
             ],
             [
              1,
              "#f0f921"
             ]
            ],
            "type": "heatmap"
           }
          ],
          "heatmapgl": [
           {
            "colorbar": {
             "outlinewidth": 0,
             "ticks": ""
            },
            "colorscale": [
             [
              0,
              "#0d0887"
             ],
             [
              0.1111111111111111,
              "#46039f"
             ],
             [
              0.2222222222222222,
              "#7201a8"
             ],
             [
              0.3333333333333333,
              "#9c179e"
             ],
             [
              0.4444444444444444,
              "#bd3786"
             ],
             [
              0.5555555555555556,
              "#d8576b"
             ],
             [
              0.6666666666666666,
              "#ed7953"
             ],
             [
              0.7777777777777778,
              "#fb9f3a"
             ],
             [
              0.8888888888888888,
              "#fdca26"
             ],
             [
              1,
              "#f0f921"
             ]
            ],
            "type": "heatmapgl"
           }
          ],
          "histogram": [
           {
            "marker": {
             "pattern": {
              "fillmode": "overlay",
              "size": 10,
              "solidity": 0.2
             }
            },
            "type": "histogram"
           }
          ],
          "histogram2d": [
           {
            "colorbar": {
             "outlinewidth": 0,
             "ticks": ""
            },
            "colorscale": [
             [
              0,
              "#0d0887"
             ],
             [
              0.1111111111111111,
              "#46039f"
             ],
             [
              0.2222222222222222,
              "#7201a8"
             ],
             [
              0.3333333333333333,
              "#9c179e"
             ],
             [
              0.4444444444444444,
              "#bd3786"
             ],
             [
              0.5555555555555556,
              "#d8576b"
             ],
             [
              0.6666666666666666,
              "#ed7953"
             ],
             [
              0.7777777777777778,
              "#fb9f3a"
             ],
             [
              0.8888888888888888,
              "#fdca26"
             ],
             [
              1,
              "#f0f921"
             ]
            ],
            "type": "histogram2d"
           }
          ],
          "histogram2dcontour": [
           {
            "colorbar": {
             "outlinewidth": 0,
             "ticks": ""
            },
            "colorscale": [
             [
              0,
              "#0d0887"
             ],
             [
              0.1111111111111111,
              "#46039f"
             ],
             [
              0.2222222222222222,
              "#7201a8"
             ],
             [
              0.3333333333333333,
              "#9c179e"
             ],
             [
              0.4444444444444444,
              "#bd3786"
             ],
             [
              0.5555555555555556,
              "#d8576b"
             ],
             [
              0.6666666666666666,
              "#ed7953"
             ],
             [
              0.7777777777777778,
              "#fb9f3a"
             ],
             [
              0.8888888888888888,
              "#fdca26"
             ],
             [
              1,
              "#f0f921"
             ]
            ],
            "type": "histogram2dcontour"
           }
          ],
          "mesh3d": [
           {
            "colorbar": {
             "outlinewidth": 0,
             "ticks": ""
            },
            "type": "mesh3d"
           }
          ],
          "parcoords": [
           {
            "line": {
             "colorbar": {
              "outlinewidth": 0,
              "ticks": ""
             }
            },
            "type": "parcoords"
           }
          ],
          "pie": [
           {
            "automargin": true,
            "type": "pie"
           }
          ],
          "scatter": [
           {
            "fillpattern": {
             "fillmode": "overlay",
             "size": 10,
             "solidity": 0.2
            },
            "type": "scatter"
           }
          ],
          "scatter3d": [
           {
            "line": {
             "colorbar": {
              "outlinewidth": 0,
              "ticks": ""
             }
            },
            "marker": {
             "colorbar": {
              "outlinewidth": 0,
              "ticks": ""
             }
            },
            "type": "scatter3d"
           }
          ],
          "scattercarpet": [
           {
            "marker": {
             "colorbar": {
              "outlinewidth": 0,
              "ticks": ""
             }
            },
            "type": "scattercarpet"
           }
          ],
          "scattergeo": [
           {
            "marker": {
             "colorbar": {
              "outlinewidth": 0,
              "ticks": ""
             }
            },
            "type": "scattergeo"
           }
          ],
          "scattergl": [
           {
            "marker": {
             "colorbar": {
              "outlinewidth": 0,
              "ticks": ""
             }
            },
            "type": "scattergl"
           }
          ],
          "scattermapbox": [
           {
            "marker": {
             "colorbar": {
              "outlinewidth": 0,
              "ticks": ""
             }
            },
            "type": "scattermapbox"
           }
          ],
          "scatterpolar": [
           {
            "marker": {
             "colorbar": {
              "outlinewidth": 0,
              "ticks": ""
             }
            },
            "type": "scatterpolar"
           }
          ],
          "scatterpolargl": [
           {
            "marker": {
             "colorbar": {
              "outlinewidth": 0,
              "ticks": ""
             }
            },
            "type": "scatterpolargl"
           }
          ],
          "scatterternary": [
           {
            "marker": {
             "colorbar": {
              "outlinewidth": 0,
              "ticks": ""
             }
            },
            "type": "scatterternary"
           }
          ],
          "surface": [
           {
            "colorbar": {
             "outlinewidth": 0,
             "ticks": ""
            },
            "colorscale": [
             [
              0,
              "#0d0887"
             ],
             [
              0.1111111111111111,
              "#46039f"
             ],
             [
              0.2222222222222222,
              "#7201a8"
             ],
             [
              0.3333333333333333,
              "#9c179e"
             ],
             [
              0.4444444444444444,
              "#bd3786"
             ],
             [
              0.5555555555555556,
              "#d8576b"
             ],
             [
              0.6666666666666666,
              "#ed7953"
             ],
             [
              0.7777777777777778,
              "#fb9f3a"
             ],
             [
              0.8888888888888888,
              "#fdca26"
             ],
             [
              1,
              "#f0f921"
             ]
            ],
            "type": "surface"
           }
          ],
          "table": [
           {
            "cells": {
             "fill": {
              "color": "#EBF0F8"
             },
             "line": {
              "color": "white"
             }
            },
            "header": {
             "fill": {
              "color": "#C8D4E3"
             },
             "line": {
              "color": "white"
             }
            },
            "type": "table"
           }
          ]
         },
         "layout": {
          "annotationdefaults": {
           "arrowcolor": "#2a3f5f",
           "arrowhead": 0,
           "arrowwidth": 1
          },
          "autotypenumbers": "strict",
          "coloraxis": {
           "colorbar": {
            "outlinewidth": 0,
            "ticks": ""
           }
          },
          "colorscale": {
           "diverging": [
            [
             0,
             "#8e0152"
            ],
            [
             0.1,
             "#c51b7d"
            ],
            [
             0.2,
             "#de77ae"
            ],
            [
             0.3,
             "#f1b6da"
            ],
            [
             0.4,
             "#fde0ef"
            ],
            [
             0.5,
             "#f7f7f7"
            ],
            [
             0.6,
             "#e6f5d0"
            ],
            [
             0.7,
             "#b8e186"
            ],
            [
             0.8,
             "#7fbc41"
            ],
            [
             0.9,
             "#4d9221"
            ],
            [
             1,
             "#276419"
            ]
           ],
           "sequential": [
            [
             0,
             "#0d0887"
            ],
            [
             0.1111111111111111,
             "#46039f"
            ],
            [
             0.2222222222222222,
             "#7201a8"
            ],
            [
             0.3333333333333333,
             "#9c179e"
            ],
            [
             0.4444444444444444,
             "#bd3786"
            ],
            [
             0.5555555555555556,
             "#d8576b"
            ],
            [
             0.6666666666666666,
             "#ed7953"
            ],
            [
             0.7777777777777778,
             "#fb9f3a"
            ],
            [
             0.8888888888888888,
             "#fdca26"
            ],
            [
             1,
             "#f0f921"
            ]
           ],
           "sequentialminus": [
            [
             0,
             "#0d0887"
            ],
            [
             0.1111111111111111,
             "#46039f"
            ],
            [
             0.2222222222222222,
             "#7201a8"
            ],
            [
             0.3333333333333333,
             "#9c179e"
            ],
            [
             0.4444444444444444,
             "#bd3786"
            ],
            [
             0.5555555555555556,
             "#d8576b"
            ],
            [
             0.6666666666666666,
             "#ed7953"
            ],
            [
             0.7777777777777778,
             "#fb9f3a"
            ],
            [
             0.8888888888888888,
             "#fdca26"
            ],
            [
             1,
             "#f0f921"
            ]
           ]
          },
          "colorway": [
           "#636efa",
           "#EF553B",
           "#00cc96",
           "#ab63fa",
           "#FFA15A",
           "#19d3f3",
           "#FF6692",
           "#B6E880",
           "#FF97FF",
           "#FECB52"
          ],
          "font": {
           "color": "#2a3f5f"
          },
          "geo": {
           "bgcolor": "white",
           "lakecolor": "white",
           "landcolor": "#E5ECF6",
           "showlakes": true,
           "showland": true,
           "subunitcolor": "white"
          },
          "hoverlabel": {
           "align": "left"
          },
          "hovermode": "closest",
          "mapbox": {
           "style": "light"
          },
          "paper_bgcolor": "white",
          "plot_bgcolor": "#E5ECF6",
          "polar": {
           "angularaxis": {
            "gridcolor": "white",
            "linecolor": "white",
            "ticks": ""
           },
           "bgcolor": "#E5ECF6",
           "radialaxis": {
            "gridcolor": "white",
            "linecolor": "white",
            "ticks": ""
           }
          },
          "scene": {
           "xaxis": {
            "backgroundcolor": "#E5ECF6",
            "gridcolor": "white",
            "gridwidth": 2,
            "linecolor": "white",
            "showbackground": true,
            "ticks": "",
            "zerolinecolor": "white"
           },
           "yaxis": {
            "backgroundcolor": "#E5ECF6",
            "gridcolor": "white",
            "gridwidth": 2,
            "linecolor": "white",
            "showbackground": true,
            "ticks": "",
            "zerolinecolor": "white"
           },
           "zaxis": {
            "backgroundcolor": "#E5ECF6",
            "gridcolor": "white",
            "gridwidth": 2,
            "linecolor": "white",
            "showbackground": true,
            "ticks": "",
            "zerolinecolor": "white"
           }
          },
          "shapedefaults": {
           "line": {
            "color": "#2a3f5f"
           }
          },
          "ternary": {
           "aaxis": {
            "gridcolor": "white",
            "linecolor": "white",
            "ticks": ""
           },
           "baxis": {
            "gridcolor": "white",
            "linecolor": "white",
            "ticks": ""
           },
           "bgcolor": "#E5ECF6",
           "caxis": {
            "gridcolor": "white",
            "linecolor": "white",
            "ticks": ""
           }
          },
          "title": {
           "x": 0.05
          },
          "xaxis": {
           "automargin": true,
           "gridcolor": "white",
           "linecolor": "white",
           "ticks": "",
           "title": {
            "standoff": 15
           },
           "zerolinecolor": "white",
           "zerolinewidth": 2
          },
          "yaxis": {
           "automargin": true,
           "gridcolor": "white",
           "linecolor": "white",
           "ticks": "",
           "title": {
            "standoff": 15
           },
           "zerolinecolor": "white",
           "zerolinewidth": 2
          }
         }
        },
        "title": {
         "text": "Hyperparameter Importances"
        },
        "xaxis": {
         "autorange": true,
         "range": [
          0,
          0.8226206077992265
         ],
         "title": {
          "text": "Hyperparameter Importance"
         },
         "type": "linear"
        },
        "yaxis": {
         "autorange": true,
         "range": [
          -0.5,
          2.5
         ],
         "title": {
          "text": "Hyperparameter"
         },
         "type": "category"
        }
       }
      },
      "image/png": "[encoded data removed]",
      "text/html": [
       "<div>                            <div id=\"2cd0da81-89f0-476c-a79c-92ecf2cd84be\" class=\"plotly-graph-div\" style=\"height:525px; width:100%;\"></div>            <script type=\"text/javascript\">                require([\"plotly\"], function(Plotly) {                    window.PLOTLYENV=window.PLOTLYENV || {};                                    if (document.getElementById(\"2cd0da81-89f0-476c-a79c-92ecf2cd84be\")) {                    Plotly.newPlot(                        \"2cd0da81-89f0-476c-a79c-92ecf2cd84be\",                        [{\"cliponaxis\":false,\"hovertemplate\":[\"weights (CategoricalDistribution): 0.012351973245081502\\u003cextra\\u003e\\u003c\\u002fextra\\u003e\",\"metric (CategoricalDistribution): 0.2061584493456534\\u003cextra\\u003e\\u003c\\u002fextra\\u003e\",\"n_neighbors (IntDistribution): 0.7814895774092652\\u003cextra\\u003e\\u003c\\u002fextra\\u003e\"],\"name\":\"Objective Value 0\",\"orientation\":\"h\",\"text\":[\"0.01\",\"0.21\",\"0.78\"],\"textposition\":\"outside\",\"x\":[0.012351973245081502,0.2061584493456534,0.7814895774092652],\"y\":[\"weights\",\"metric\",\"n_neighbors\"],\"type\":\"bar\"},{\"cliponaxis\":false,\"hovertemplate\":[\"weights (CategoricalDistribution): 0.23151405610231143\\u003cextra\\u003e\\u003c\\u002fextra\\u003e\",\"n_neighbors (IntDistribution): 0.31823575942134336\\u003cextra\\u003e\\u003c\\u002fextra\\u003e\",\"metric (CategoricalDistribution): 0.4502501844763451\\u003cextra\\u003e\\u003c\\u002fextra\\u003e\"],\"name\":\"Objective Value 1\",\"orientation\":\"h\",\"text\":[\"0.23\",\"0.32\",\"0.45\"],\"textposition\":\"outside\",\"x\":[0.23151405610231143,0.31823575942134336,0.4502501844763451],\"y\":[\"weights\",\"n_neighbors\",\"metric\"],\"type\":\"bar\"}],                        {\"title\":{\"text\":\"Hyperparameter Importances\"},\"xaxis\":{\"title\":{\"text\":\"Hyperparameter Importance\"}},\"yaxis\":{\"title\":{\"text\":\"Hyperparameter\"}},\"template\":{\"data\":{\"histogram2dcontour\":[{\"type\":\"histogram2dcontour\",\"colorbar\":{\"outlinewidth\":0,\"ticks\":\"\"},\"colorscale\":[[0.0,\"#0d0887\"],[0.1111111111111111,\"#46039f\"],[0.2222222222222222,\"#7201a8\"],[0.3333333333333333,\"#9c179e\"],[0.4444444444444444,\"#bd3786\"],[0.5555555555555556,\"#d8576b\"],[0.6666666666666666,\"#ed7953\"],[0.7777777777777778,\"#fb9f3a\"],[0.8888888888888888,\"#fdca26\"],[1.0,\"#f0f921\"]]}],\"choropleth\":[{\"type\":\"choropleth\",\"colorbar\":{\"outlinewidth\":0,\"ticks\":\"\"}}],\"histogram2d\":[{\"type\":\"histogram2d\",\"colorbar\":{\"outlinewidth\":0,\"ticks\":\"\"},\"colorscale\":[[0.0,\"#0d0887\"],[0.1111111111111111,\"#46039f\"],[0.2222222222222222,\"#7201a8\"],[0.3333333333333333,\"#9c179e\"],[0.4444444444444444,\"#bd3786\"],[0.5555555555555556,\"#d8576b\"],[0.6666666666666666,\"#ed7953\"],[0.7777777777777778,\"#fb9f3a\"],[0.8888888888888888,\"#fdca26\"],[1.0,\"#f0f921\"]]}],\"heatmap\":[{\"type\":\"heatmap\",\"colorbar\":{\"outlinewidth\":0,\"ticks\":\"\"},\"colorscale\":[[0.0,\"#0d0887\"],[0.1111111111111111,\"#46039f\"],[0.2222222222222222,\"#7201a8\"],[0.3333333333333333,\"#9c179e\"],[0.4444444444444444,\"#bd3786\"],[0.5555555555555556,\"#d8576b\"],[0.6666666666666666,\"#ed7953\"],[0.7777777777777778,\"#fb9f3a\"],[0.8888888888888888,\"#fdca26\"],[1.0,\"#f0f921\"]]}],\"heatmapgl\":[{\"type\":\"heatmapgl\",\"colorbar\":{\"outlinewidth\":0,\"ticks\":\"\"},\"colorscale\":[[0.0,\"#0d0887\"],[0.1111111111111111,\"#46039f\"],[0.2222222222222222,\"#7201a8\"],[0.3333333333333333,\"#9c179e\"],[0.4444444444444444,\"#bd3786\"],[0.5555555555555556,\"#d8576b\"],[0.6666666666666666,\"#ed7953\"],[0.7777777777777778,\"#fb9f3a\"],[0.8888888888888888,\"#fdca26\"],[1.0,\"#f0f921\"]]}],\"contourcarpet\":[{\"type\":\"contourcarpet\",\"colorbar\":{\"outlinewidth\":0,\"ticks\":\"\"}}],\"contour\":[{\"type\":\"contour\",\"colorbar\":{\"outlinewidth\":0,\"ticks\":\"\"},\"colorscale\":[[0.0,\"#0d0887\"],[0.1111111111111111,\"#46039f\"],[0.2222222222222222,\"#7201a8\"],[0.3333333333333333,\"#9c179e\"],[0.4444444444444444,\"#bd3786\"],[0.5555555555555556,\"#d8576b\"],[0.6666666666666666,\"#ed7953\"],[0.7777777777777778,\"#fb9f3a\"],[0.8888888888888888,\"#fdca26\"],[1.0,\"#f0f921\"]]}],\"surface\":[{\"type\":\"surface\",\"colorbar\":{\"outlinewidth\":0,\"ticks\":\"\"},\"colorscale\":[[0.0,\"#0d0887\"],[0.1111111111111111,\"#46039f\"],[0.2222222222222222,\"#7201a8\"],[0.3333333333333333,\"#9c179e\"],[0.4444444444444444,\"#bd3786\"],[0.5555555555555556,\"#d8576b\"],[0.6666666666666666,\"#ed7953\"],[0.7777777777777778,\"#fb9f3a\"],[0.8888888888888888,\"#fdca26\"],[1.0,\"#f0f921\"]]}],\"mesh3d\":[{\"type\":\"mesh3d\",\"colorbar\":{\"outlinewidth\":0,\"ticks\":\"\"}}],\"scatter\":[{\"fillpattern\":{\"fillmode\":\"overlay\",\"size\":10,\"solidity\":0.2},\"type\":\"scatter\"}],\"parcoords\":[{\"type\":\"parcoords\",\"line\":{\"colorbar\":{\"outlinewidth\":0,\"ticks\":\"\"}}}],\"scatterpolargl\":[{\"type\":\"scatterpolargl\",\"marker\":{\"colorbar\":{\"outlinewidth\":0,\"ticks\":\"\"}}}],\"bar\":[{\"error_x\":{\"color\":\"#2a3f5f\"},\"error_y\":{\"color\":\"#2a3f5f\"},\"marker\":{\"line\":{\"color\":\"#E5ECF6\",\"width\":0.5},\"pattern\":{\"fillmode\":\"overlay\",\"size\":10,\"solidity\":0.2}},\"type\":\"bar\"}],\"scattergeo\":[{\"type\":\"scattergeo\",\"marker\":{\"colorbar\":{\"outlinewidth\":0,\"ticks\":\"\"}}}],\"scatterpolar\":[{\"type\":\"scatterpolar\",\"marker\":{\"colorbar\":{\"outlinewidth\":0,\"ticks\":\"\"}}}],\"histogram\":[{\"marker\":{\"pattern\":{\"fillmode\":\"overlay\",\"size\":10,\"solidity\":0.2}},\"type\":\"histogram\"}],\"scattergl\":[{\"type\":\"scattergl\",\"marker\":{\"colorbar\":{\"outlinewidth\":0,\"ticks\":\"\"}}}],\"scatter3d\":[{\"type\":\"scatter3d\",\"line\":{\"colorbar\":{\"outlinewidth\":0,\"ticks\":\"\"}},\"marker\":{\"colorbar\":{\"outlinewidth\":0,\"ticks\":\"\"}}}],\"scattermapbox\":[{\"type\":\"scattermapbox\",\"marker\":{\"colorbar\":{\"outlinewidth\":0,\"ticks\":\"\"}}}],\"scatterternary\":[{\"type\":\"scatterternary\",\"marker\":{\"colorbar\":{\"outlinewidth\":0,\"ticks\":\"\"}}}],\"scattercarpet\":[{\"type\":\"scattercarpet\",\"marker\":{\"colorbar\":{\"outlinewidth\":0,\"ticks\":\"\"}}}],\"carpet\":[{\"aaxis\":{\"endlinecolor\":\"#2a3f5f\",\"gridcolor\":\"white\",\"linecolor\":\"white\",\"minorgridcolor\":\"white\",\"startlinecolor\":\"#2a3f5f\"},\"baxis\":{\"endlinecolor\":\"#2a3f5f\",\"gridcolor\":\"white\",\"linecolor\":\"white\",\"minorgridcolor\":\"white\",\"startlinecolor\":\"#2a3f5f\"},\"type\":\"carpet\"}],\"table\":[{\"cells\":{\"fill\":{\"color\":\"#EBF0F8\"},\"line\":{\"color\":\"white\"}},\"header\":{\"fill\":{\"color\":\"#C8D4E3\"},\"line\":{\"color\":\"white\"}},\"type\":\"table\"}],\"barpolar\":[{\"marker\":{\"line\":{\"color\":\"#E5ECF6\",\"width\":0.5},\"pattern\":{\"fillmode\":\"overlay\",\"size\":10,\"solidity\":0.2}},\"type\":\"barpolar\"}],\"pie\":[{\"automargin\":true,\"type\":\"pie\"}]},\"layout\":{\"autotypenumbers\":\"strict\",\"colorway\":[\"#636efa\",\"#EF553B\",\"#00cc96\",\"#ab63fa\",\"#FFA15A\",\"#19d3f3\",\"#FF6692\",\"#B6E880\",\"#FF97FF\",\"#FECB52\"],\"font\":{\"color\":\"#2a3f5f\"},\"hovermode\":\"closest\",\"hoverlabel\":{\"align\":\"left\"},\"paper_bgcolor\":\"white\",\"plot_bgcolor\":\"#E5ECF6\",\"polar\":{\"bgcolor\":\"#E5ECF6\",\"angularaxis\":{\"gridcolor\":\"white\",\"linecolor\":\"white\",\"ticks\":\"\"},\"radialaxis\":{\"gridcolor\":\"white\",\"linecolor\":\"white\",\"ticks\":\"\"}},\"ternary\":{\"bgcolor\":\"#E5ECF6\",\"aaxis\":{\"gridcolor\":\"white\",\"linecolor\":\"white\",\"ticks\":\"\"},\"baxis\":{\"gridcolor\":\"white\",\"linecolor\":\"white\",\"ticks\":\"\"},\"caxis\":{\"gridcolor\":\"white\",\"linecolor\":\"white\",\"ticks\":\"\"}},\"coloraxis\":{\"colorbar\":{\"outlinewidth\":0,\"ticks\":\"\"}},\"colorscale\":{\"sequential\":[[0.0,\"#0d0887\"],[0.1111111111111111,\"#46039f\"],[0.2222222222222222,\"#7201a8\"],[0.3333333333333333,\"#9c179e\"],[0.4444444444444444,\"#bd3786\"],[0.5555555555555556,\"#d8576b\"],[0.6666666666666666,\"#ed7953\"],[0.7777777777777778,\"#fb9f3a\"],[0.8888888888888888,\"#fdca26\"],[1.0,\"#f0f921\"]],\"sequentialminus\":[[0.0,\"#0d0887\"],[0.1111111111111111,\"#46039f\"],[0.2222222222222222,\"#7201a8\"],[0.3333333333333333,\"#9c179e\"],[0.4444444444444444,\"#bd3786\"],[0.5555555555555556,\"#d8576b\"],[0.6666666666666666,\"#ed7953\"],[0.7777777777777778,\"#fb9f3a\"],[0.8888888888888888,\"#fdca26\"],[1.0,\"#f0f921\"]],\"diverging\":[[0,\"#8e0152\"],[0.1,\"#c51b7d\"],[0.2,\"#de77ae\"],[0.3,\"#f1b6da\"],[0.4,\"#fde0ef\"],[0.5,\"#f7f7f7\"],[0.6,\"#e6f5d0\"],[0.7,\"#b8e186\"],[0.8,\"#7fbc41\"],[0.9,\"#4d9221\"],[1,\"#276419\"]]},\"xaxis\":{\"gridcolor\":\"white\",\"linecolor\":\"white\",\"ticks\":\"\",\"title\":{\"standoff\":15},\"zerolinecolor\":\"white\",\"automargin\":true,\"zerolinewidth\":2},\"yaxis\":{\"gridcolor\":\"white\",\"linecolor\":\"white\",\"ticks\":\"\",\"title\":{\"standoff\":15},\"zerolinecolor\":\"white\",\"automargin\":true,\"zerolinewidth\":2},\"scene\":{\"xaxis\":{\"backgroundcolor\":\"#E5ECF6\",\"gridcolor\":\"white\",\"linecolor\":\"white\",\"showbackground\":true,\"ticks\":\"\",\"zerolinecolor\":\"white\",\"gridwidth\":2},\"yaxis\":{\"backgroundcolor\":\"#E5ECF6\",\"gridcolor\":\"white\",\"linecolor\":\"white\",\"showbackground\":true,\"ticks\":\"\",\"zerolinecolor\":\"white\",\"gridwidth\":2},\"zaxis\":{\"backgroundcolor\":\"#E5ECF6\",\"gridcolor\":\"white\",\"linecolor\":\"white\",\"showbackground\":true,\"ticks\":\"\",\"zerolinecolor\":\"white\",\"gridwidth\":2}},\"shapedefaults\":{\"line\":{\"color\":\"#2a3f5f\"}},\"annotationdefaults\":{\"arrowcolor\":\"#2a3f5f\",\"arrowhead\":0,\"arrowwidth\":1},\"geo\":{\"bgcolor\":\"white\",\"landcolor\":\"#E5ECF6\",\"subunitcolor\":\"white\",\"showland\":true,\"showlakes\":true,\"lakecolor\":\"white\"},\"title\":{\"x\":0.05},\"mapbox\":{\"style\":\"light\"}}}},                        {\"responsive\": true}                    ).then(function(){\n",
       "                            \n",
       "var gd = document.getElementById('2cd0da81-89f0-476c-a79c-92ecf2cd84be');\n",
       "var x = new MutationObserver(function (mutations, observer) {{\n",
       "        var display = window.getComputedStyle(gd).display;\n",
       "        if (!display || display === 'none') {{\n",
       "            console.log([gd, 'removed!']);\n",
       "            Plotly.purge(gd);\n",
       "            observer.disconnect();\n",
       "        }}\n",
       "}});\n",
       "\n",
       "// Listen for the removal of the full notebook cells\n",
       "var notebookContainer = gd.closest('#notebook-container');\n",
       "if (notebookContainer) {{\n",
       "    x.observe(notebookContainer, {childList: true});\n",
       "}}\n",
       "\n",
       "// Listen for the clearing of the current output cell\n",
       "var outputEl = gd.closest('.output');\n",
       "if (outputEl) {{\n",
       "    x.observe(outputEl, {childList: true});\n",
       "}}\n",
       "\n",
       "                        })                };                });            </script>        </div>"
      ]
     },
     "metadata": {},
     "output_type": "display_data"
    }
   ],
   "source": [
    "# Use the Parameter Importance plot to visualize the relative influence of each hyperparameter \n",
    "# on the objectives, helping to identify which parameters have the most significant impact.\n",
    "optuna.visualization.plot_param_importances(study)"
   ]
  },
  {
   "cell_type": "code",
   "execution_count": 83,
   "id": "ad9f35b4-b34d-471c-8487-ebbdf056c274",
   "metadata": {
    "execution": {
     "iopub.execute_input": "2024-11-25T08:06:22.337323Z",
     "iopub.status.busy": "2024-11-25T08:06:22.336837Z",
     "iopub.status.idle": "2024-11-25T08:06:22.359704Z",
     "shell.execute_reply": "2024-11-25T08:06:22.358928Z",
     "shell.execute_reply.started": "2024-11-25T08:06:22.337281Z"
    }
   },
   "outputs": [
    {
     "data": {
      "application/vnd.plotly.v1+json": {
       "config": {
        "plotlyServerURL": "https://plot.ly"
       },
       "data": [
        {
         "mode": "markers",
         "name": "Training Time",
         "type": "scatter",
         "x": [
          0,
          1,
          2,
          3,
          4,
          5,
          6,
          7,
          8,
          9,
          10,
          11,
          12,
          13,
          14,
          15,
          16,
          17,
          18,
          19
         ],
         "y": [
          0.0028596632182598114,
          0.001764439046382904,
          0.002009507268667221,
          0.002010207623243332,
          0.0020155981183052063,
          0.0014492720365524292,
          0.0014578066766262054,
          0.0017289631068706512,
          0.001586630940437317,
          0.001468811184167862,
          0.0014223381876945496,
          0.0014823898673057556,
          0.0017588064074516296,
          0.0020911023020744324,
          0.0019624195992946625,
          0.002151079475879669,
          0.0020125992596149445,
          0.0021082162857055664,
          0.0017136186361312866,
          0.0019614100456237793
         ]
        },
        {
         "marker": {
          "color": "#cccccc"
         },
         "mode": "markers",
         "name": "Infeasible Trial",
         "showlegend": false,
         "type": "scatter",
         "x": [],
         "y": []
        }
       ],
       "layout": {
        "autosize": true,
        "template": {
         "data": {
          "bar": [
           {
            "error_x": {
             "color": "#2a3f5f"
            },
            "error_y": {
             "color": "#2a3f5f"
            },
            "marker": {
             "line": {
              "color": "#E5ECF6",
              "width": 0.5
             },
             "pattern": {
              "fillmode": "overlay",
              "size": 10,
              "solidity": 0.2
             }
            },
            "type": "bar"
           }
          ],
          "barpolar": [
           {
            "marker": {
             "line": {
              "color": "#E5ECF6",
              "width": 0.5
             },
             "pattern": {
              "fillmode": "overlay",
              "size": 10,
              "solidity": 0.2
             }
            },
            "type": "barpolar"
           }
          ],
          "carpet": [
           {
            "aaxis": {
             "endlinecolor": "#2a3f5f",
             "gridcolor": "white",
             "linecolor": "white",
             "minorgridcolor": "white",
             "startlinecolor": "#2a3f5f"
            },
            "baxis": {
             "endlinecolor": "#2a3f5f",
             "gridcolor": "white",
             "linecolor": "white",
             "minorgridcolor": "white",
             "startlinecolor": "#2a3f5f"
            },
            "type": "carpet"
           }
          ],
          "choropleth": [
           {
            "colorbar": {
             "outlinewidth": 0,
             "ticks": ""
            },
            "type": "choropleth"
           }
          ],
          "contour": [
           {
            "colorbar": {
             "outlinewidth": 0,
             "ticks": ""
            },
            "colorscale": [
             [
              0,
              "#0d0887"
             ],
             [
              0.1111111111111111,
              "#46039f"
             ],
             [
              0.2222222222222222,
              "#7201a8"
             ],
             [
              0.3333333333333333,
              "#9c179e"
             ],
             [
              0.4444444444444444,
              "#bd3786"
             ],
             [
              0.5555555555555556,
              "#d8576b"
             ],
             [
              0.6666666666666666,
              "#ed7953"
             ],
             [
              0.7777777777777778,
              "#fb9f3a"
             ],
             [
              0.8888888888888888,
              "#fdca26"
             ],
             [
              1,
              "#f0f921"
             ]
            ],
            "type": "contour"
           }
          ],
          "contourcarpet": [
           {
            "colorbar": {
             "outlinewidth": 0,
             "ticks": ""
            },
            "type": "contourcarpet"
           }
          ],
          "heatmap": [
           {
            "colorbar": {
             "outlinewidth": 0,
             "ticks": ""
            },
            "colorscale": [
             [
              0,
              "#0d0887"
             ],
             [
              0.1111111111111111,
              "#46039f"
             ],
             [
              0.2222222222222222,
              "#7201a8"
             ],
             [
              0.3333333333333333,
              "#9c179e"
             ],
             [
              0.4444444444444444,
              "#bd3786"
             ],
             [
              0.5555555555555556,
              "#d8576b"
             ],
             [
              0.6666666666666666,
              "#ed7953"
             ],
             [
              0.7777777777777778,
              "#fb9f3a"
             ],
             [
              0.8888888888888888,
              "#fdca26"
             ],
             [
              1,
              "#f0f921"
             ]
            ],
            "type": "heatmap"
           }
          ],
          "heatmapgl": [
           {
            "colorbar": {
             "outlinewidth": 0,
             "ticks": ""
            },
            "colorscale": [
             [
              0,
              "#0d0887"
             ],
             [
              0.1111111111111111,
              "#46039f"
             ],
             [
              0.2222222222222222,
              "#7201a8"
             ],
             [
              0.3333333333333333,
              "#9c179e"
             ],
             [
              0.4444444444444444,
              "#bd3786"
             ],
             [
              0.5555555555555556,
              "#d8576b"
             ],
             [
              0.6666666666666666,
              "#ed7953"
             ],
             [
              0.7777777777777778,
              "#fb9f3a"
             ],
             [
              0.8888888888888888,
              "#fdca26"
             ],
             [
              1,
              "#f0f921"
             ]
            ],
            "type": "heatmapgl"
           }
          ],
          "histogram": [
           {
            "marker": {
             "pattern": {
              "fillmode": "overlay",
              "size": 10,
              "solidity": 0.2
             }
            },
            "type": "histogram"
           }
          ],
          "histogram2d": [
           {
            "colorbar": {
             "outlinewidth": 0,
             "ticks": ""
            },
            "colorscale": [
             [
              0,
              "#0d0887"
             ],
             [
              0.1111111111111111,
              "#46039f"
             ],
             [
              0.2222222222222222,
              "#7201a8"
             ],
             [
              0.3333333333333333,
              "#9c179e"
             ],
             [
              0.4444444444444444,
              "#bd3786"
             ],
             [
              0.5555555555555556,
              "#d8576b"
             ],
             [
              0.6666666666666666,
              "#ed7953"
             ],
             [
              0.7777777777777778,
              "#fb9f3a"
             ],
             [
              0.8888888888888888,
              "#fdca26"
             ],
             [
              1,
              "#f0f921"
             ]
            ],
            "type": "histogram2d"
           }
          ],
          "histogram2dcontour": [
           {
            "colorbar": {
             "outlinewidth": 0,
             "ticks": ""
            },
            "colorscale": [
             [
              0,
              "#0d0887"
             ],
             [
              0.1111111111111111,
              "#46039f"
             ],
             [
              0.2222222222222222,
              "#7201a8"
             ],
             [
              0.3333333333333333,
              "#9c179e"
             ],
             [
              0.4444444444444444,
              "#bd3786"
             ],
             [
              0.5555555555555556,
              "#d8576b"
             ],
             [
              0.6666666666666666,
              "#ed7953"
             ],
             [
              0.7777777777777778,
              "#fb9f3a"
             ],
             [
              0.8888888888888888,
              "#fdca26"
             ],
             [
              1,
              "#f0f921"
             ]
            ],
            "type": "histogram2dcontour"
           }
          ],
          "mesh3d": [
           {
            "colorbar": {
             "outlinewidth": 0,
             "ticks": ""
            },
            "type": "mesh3d"
           }
          ],
          "parcoords": [
           {
            "line": {
             "colorbar": {
              "outlinewidth": 0,
              "ticks": ""
             }
            },
            "type": "parcoords"
           }
          ],
          "pie": [
           {
            "automargin": true,
            "type": "pie"
           }
          ],
          "scatter": [
           {
            "fillpattern": {
             "fillmode": "overlay",
             "size": 10,
             "solidity": 0.2
            },
            "type": "scatter"
           }
          ],
          "scatter3d": [
           {
            "line": {
             "colorbar": {
              "outlinewidth": 0,
              "ticks": ""
             }
            },
            "marker": {
             "colorbar": {
              "outlinewidth": 0,
              "ticks": ""
             }
            },
            "type": "scatter3d"
           }
          ],
          "scattercarpet": [
           {
            "marker": {
             "colorbar": {
              "outlinewidth": 0,
              "ticks": ""
             }
            },
            "type": "scattercarpet"
           }
          ],
          "scattergeo": [
           {
            "marker": {
             "colorbar": {
              "outlinewidth": 0,
              "ticks": ""
             }
            },
            "type": "scattergeo"
           }
          ],
          "scattergl": [
           {
            "marker": {
             "colorbar": {
              "outlinewidth": 0,
              "ticks": ""
             }
            },
            "type": "scattergl"
           }
          ],
          "scattermapbox": [
           {
            "marker": {
             "colorbar": {
              "outlinewidth": 0,
              "ticks": ""
             }
            },
            "type": "scattermapbox"
           }
          ],
          "scatterpolar": [
           {
            "marker": {
             "colorbar": {
              "outlinewidth": 0,
              "ticks": ""
             }
            },
            "type": "scatterpolar"
           }
          ],
          "scatterpolargl": [
           {
            "marker": {
             "colorbar": {
              "outlinewidth": 0,
              "ticks": ""
             }
            },
            "type": "scatterpolargl"
           }
          ],
          "scatterternary": [
           {
            "marker": {
             "colorbar": {
              "outlinewidth": 0,
              "ticks": ""
             }
            },
            "type": "scatterternary"
           }
          ],
          "surface": [
           {
            "colorbar": {
             "outlinewidth": 0,
             "ticks": ""
            },
            "colorscale": [
             [
              0,
              "#0d0887"
             ],
             [
              0.1111111111111111,
              "#46039f"
             ],
             [
              0.2222222222222222,
              "#7201a8"
             ],
             [
              0.3333333333333333,
              "#9c179e"
             ],
             [
              0.4444444444444444,
              "#bd3786"
             ],
             [
              0.5555555555555556,
              "#d8576b"
             ],
             [
              0.6666666666666666,
              "#ed7953"
             ],
             [
              0.7777777777777778,
              "#fb9f3a"
             ],
             [
              0.8888888888888888,
              "#fdca26"
             ],
             [
              1,
              "#f0f921"
             ]
            ],
            "type": "surface"
           }
          ],
          "table": [
           {
            "cells": {
             "fill": {
              "color": "#EBF0F8"
             },
             "line": {
              "color": "white"
             }
            },
            "header": {
             "fill": {
              "color": "#C8D4E3"
             },
             "line": {
              "color": "white"
             }
            },
            "type": "table"
           }
          ]
         },
         "layout": {
          "annotationdefaults": {
           "arrowcolor": "#2a3f5f",
           "arrowhead": 0,
           "arrowwidth": 1
          },
          "autotypenumbers": "strict",
          "coloraxis": {
           "colorbar": {
            "outlinewidth": 0,
            "ticks": ""
           }
          },
          "colorscale": {
           "diverging": [
            [
             0,
             "#8e0152"
            ],
            [
             0.1,
             "#c51b7d"
            ],
            [
             0.2,
             "#de77ae"
            ],
            [
             0.3,
             "#f1b6da"
            ],
            [
             0.4,
             "#fde0ef"
            ],
            [
             0.5,
             "#f7f7f7"
            ],
            [
             0.6,
             "#e6f5d0"
            ],
            [
             0.7,
             "#b8e186"
            ],
            [
             0.8,
             "#7fbc41"
            ],
            [
             0.9,
             "#4d9221"
            ],
            [
             1,
             "#276419"
            ]
           ],
           "sequential": [
            [
             0,
             "#0d0887"
            ],
            [
             0.1111111111111111,
             "#46039f"
            ],
            [
             0.2222222222222222,
             "#7201a8"
            ],
            [
             0.3333333333333333,
             "#9c179e"
            ],
            [
             0.4444444444444444,
             "#bd3786"
            ],
            [
             0.5555555555555556,
             "#d8576b"
            ],
            [
             0.6666666666666666,
             "#ed7953"
            ],
            [
             0.7777777777777778,
             "#fb9f3a"
            ],
            [
             0.8888888888888888,
             "#fdca26"
            ],
            [
             1,
             "#f0f921"
            ]
           ],
           "sequentialminus": [
            [
             0,
             "#0d0887"
            ],
            [
             0.1111111111111111,
             "#46039f"
            ],
            [
             0.2222222222222222,
             "#7201a8"
            ],
            [
             0.3333333333333333,
             "#9c179e"
            ],
            [
             0.4444444444444444,
             "#bd3786"
            ],
            [
             0.5555555555555556,
             "#d8576b"
            ],
            [
             0.6666666666666666,
             "#ed7953"
            ],
            [
             0.7777777777777778,
             "#fb9f3a"
            ],
            [
             0.8888888888888888,
             "#fdca26"
            ],
            [
             1,
             "#f0f921"
            ]
           ]
          },
          "colorway": [
           "#636efa",
           "#EF553B",
           "#00cc96",
           "#ab63fa",
           "#FFA15A",
           "#19d3f3",
           "#FF6692",
           "#B6E880",
           "#FF97FF",
           "#FECB52"
          ],
          "font": {
           "color": "#2a3f5f"
          },
          "geo": {
           "bgcolor": "white",
           "lakecolor": "white",
           "landcolor": "#E5ECF6",
           "showlakes": true,
           "showland": true,
           "subunitcolor": "white"
          },
          "hoverlabel": {
           "align": "left"
          },
          "hovermode": "closest",
          "mapbox": {
           "style": "light"
          },
          "paper_bgcolor": "white",
          "plot_bgcolor": "#E5ECF6",
          "polar": {
           "angularaxis": {
            "gridcolor": "white",
            "linecolor": "white",
            "ticks": ""
           },
           "bgcolor": "#E5ECF6",
           "radialaxis": {
            "gridcolor": "white",
            "linecolor": "white",
            "ticks": ""
           }
          },
          "scene": {
           "xaxis": {
            "backgroundcolor": "#E5ECF6",
            "gridcolor": "white",
            "gridwidth": 2,
            "linecolor": "white",
            "showbackground": true,
            "ticks": "",
            "zerolinecolor": "white"
           },
           "yaxis": {
            "backgroundcolor": "#E5ECF6",
            "gridcolor": "white",
            "gridwidth": 2,
            "linecolor": "white",
            "showbackground": true,
            "ticks": "",
            "zerolinecolor": "white"
           },
           "zaxis": {
            "backgroundcolor": "#E5ECF6",
            "gridcolor": "white",
            "gridwidth": 2,
            "linecolor": "white",
            "showbackground": true,
            "ticks": "",
            "zerolinecolor": "white"
           }
          },
          "shapedefaults": {
           "line": {
            "color": "#2a3f5f"
           }
          },
          "ternary": {
           "aaxis": {
            "gridcolor": "white",
            "linecolor": "white",
            "ticks": ""
           },
           "baxis": {
            "gridcolor": "white",
            "linecolor": "white",
            "ticks": ""
           },
           "bgcolor": "#E5ECF6",
           "caxis": {
            "gridcolor": "white",
            "linecolor": "white",
            "ticks": ""
           }
          },
          "title": {
           "x": 0.05
          },
          "xaxis": {
           "automargin": true,
           "gridcolor": "white",
           "linecolor": "white",
           "ticks": "",
           "title": {
            "standoff": 15
           },
           "zerolinecolor": "white",
           "zerolinewidth": 2
          },
          "yaxis": {
           "automargin": true,
           "gridcolor": "white",
           "linecolor": "white",
           "ticks": "",
           "title": {
            "standoff": 15
           },
           "zerolinecolor": "white",
           "zerolinewidth": 2
          }
         }
        },
        "title": {
         "text": "Optimization History Plot"
        },
        "xaxis": {
         "autorange": true,
         "range": [
          -1.133977216443784,
          20.133977216443785
         ],
         "title": {
          "text": "Trial"
         },
         "type": "linear"
        },
        "yaxis": {
         "autorange": true,
         "range": [
          0.0013037239861430473,
          0.0029782774198113134
         ],
         "title": {
          "text": "Training Time"
         },
         "type": "linear"
        }
       }
      },
      "image/png": "[encoded data removed]",
      "text/html": [
       "<div>                            <div id=\"a3fc19b5-a38d-4928-b90f-9bde6ecead13\" class=\"plotly-graph-div\" style=\"height:525px; width:100%;\"></div>            <script type=\"text/javascript\">                require([\"plotly\"], function(Plotly) {                    window.PLOTLYENV=window.PLOTLYENV || {};                                    if (document.getElementById(\"a3fc19b5-a38d-4928-b90f-9bde6ecead13\")) {                    Plotly.newPlot(                        \"a3fc19b5-a38d-4928-b90f-9bde6ecead13\",                        [{\"mode\":\"markers\",\"name\":\"Training Time\",\"x\":[0,1,2,3,4,5,6,7,8,9,10,11,12,13,14,15,16,17,18,19],\"y\":[0.0028596632182598114,0.001764439046382904,0.002009507268667221,0.002010207623243332,0.0020155981183052063,0.0014492720365524292,0.0014578066766262054,0.0017289631068706512,0.001586630940437317,0.001468811184167862,0.0014223381876945496,0.0014823898673057556,0.0017588064074516296,0.0020911023020744324,0.0019624195992946625,0.002151079475879669,0.0020125992596149445,0.0021082162857055664,0.0017136186361312866,0.0019614100456237793],\"type\":\"scatter\"},{\"marker\":{\"color\":\"#cccccc\"},\"mode\":\"markers\",\"name\":\"Infeasible Trial\",\"showlegend\":false,\"x\":[],\"y\":[],\"type\":\"scatter\"}],                        {\"title\":{\"text\":\"Optimization History Plot\"},\"xaxis\":{\"title\":{\"text\":\"Trial\"}},\"yaxis\":{\"title\":{\"text\":\"Training Time\"}},\"template\":{\"data\":{\"histogram2dcontour\":[{\"type\":\"histogram2dcontour\",\"colorbar\":{\"outlinewidth\":0,\"ticks\":\"\"},\"colorscale\":[[0.0,\"#0d0887\"],[0.1111111111111111,\"#46039f\"],[0.2222222222222222,\"#7201a8\"],[0.3333333333333333,\"#9c179e\"],[0.4444444444444444,\"#bd3786\"],[0.5555555555555556,\"#d8576b\"],[0.6666666666666666,\"#ed7953\"],[0.7777777777777778,\"#fb9f3a\"],[0.8888888888888888,\"#fdca26\"],[1.0,\"#f0f921\"]]}],\"choropleth\":[{\"type\":\"choropleth\",\"colorbar\":{\"outlinewidth\":0,\"ticks\":\"\"}}],\"histogram2d\":[{\"type\":\"histogram2d\",\"colorbar\":{\"outlinewidth\":0,\"ticks\":\"\"},\"colorscale\":[[0.0,\"#0d0887\"],[0.1111111111111111,\"#46039f\"],[0.2222222222222222,\"#7201a8\"],[0.3333333333333333,\"#9c179e\"],[0.4444444444444444,\"#bd3786\"],[0.5555555555555556,\"#d8576b\"],[0.6666666666666666,\"#ed7953\"],[0.7777777777777778,\"#fb9f3a\"],[0.8888888888888888,\"#fdca26\"],[1.0,\"#f0f921\"]]}],\"heatmap\":[{\"type\":\"heatmap\",\"colorbar\":{\"outlinewidth\":0,\"ticks\":\"\"},\"colorscale\":[[0.0,\"#0d0887\"],[0.1111111111111111,\"#46039f\"],[0.2222222222222222,\"#7201a8\"],[0.3333333333333333,\"#9c179e\"],[0.4444444444444444,\"#bd3786\"],[0.5555555555555556,\"#d8576b\"],[0.6666666666666666,\"#ed7953\"],[0.7777777777777778,\"#fb9f3a\"],[0.8888888888888888,\"#fdca26\"],[1.0,\"#f0f921\"]]}],\"heatmapgl\":[{\"type\":\"heatmapgl\",\"colorbar\":{\"outlinewidth\":0,\"ticks\":\"\"},\"colorscale\":[[0.0,\"#0d0887\"],[0.1111111111111111,\"#46039f\"],[0.2222222222222222,\"#7201a8\"],[0.3333333333333333,\"#9c179e\"],[0.4444444444444444,\"#bd3786\"],[0.5555555555555556,\"#d8576b\"],[0.6666666666666666,\"#ed7953\"],[0.7777777777777778,\"#fb9f3a\"],[0.8888888888888888,\"#fdca26\"],[1.0,\"#f0f921\"]]}],\"contourcarpet\":[{\"type\":\"contourcarpet\",\"colorbar\":{\"outlinewidth\":0,\"ticks\":\"\"}}],\"contour\":[{\"type\":\"contour\",\"colorbar\":{\"outlinewidth\":0,\"ticks\":\"\"},\"colorscale\":[[0.0,\"#0d0887\"],[0.1111111111111111,\"#46039f\"],[0.2222222222222222,\"#7201a8\"],[0.3333333333333333,\"#9c179e\"],[0.4444444444444444,\"#bd3786\"],[0.5555555555555556,\"#d8576b\"],[0.6666666666666666,\"#ed7953\"],[0.7777777777777778,\"#fb9f3a\"],[0.8888888888888888,\"#fdca26\"],[1.0,\"#f0f921\"]]}],\"surface\":[{\"type\":\"surface\",\"colorbar\":{\"outlinewidth\":0,\"ticks\":\"\"},\"colorscale\":[[0.0,\"#0d0887\"],[0.1111111111111111,\"#46039f\"],[0.2222222222222222,\"#7201a8\"],[0.3333333333333333,\"#9c179e\"],[0.4444444444444444,\"#bd3786\"],[0.5555555555555556,\"#d8576b\"],[0.6666666666666666,\"#ed7953\"],[0.7777777777777778,\"#fb9f3a\"],[0.8888888888888888,\"#fdca26\"],[1.0,\"#f0f921\"]]}],\"mesh3d\":[{\"type\":\"mesh3d\",\"colorbar\":{\"outlinewidth\":0,\"ticks\":\"\"}}],\"scatter\":[{\"fillpattern\":{\"fillmode\":\"overlay\",\"size\":10,\"solidity\":0.2},\"type\":\"scatter\"}],\"parcoords\":[{\"type\":\"parcoords\",\"line\":{\"colorbar\":{\"outlinewidth\":0,\"ticks\":\"\"}}}],\"scatterpolargl\":[{\"type\":\"scatterpolargl\",\"marker\":{\"colorbar\":{\"outlinewidth\":0,\"ticks\":\"\"}}}],\"bar\":[{\"error_x\":{\"color\":\"#2a3f5f\"},\"error_y\":{\"color\":\"#2a3f5f\"},\"marker\":{\"line\":{\"color\":\"#E5ECF6\",\"width\":0.5},\"pattern\":{\"fillmode\":\"overlay\",\"size\":10,\"solidity\":0.2}},\"type\":\"bar\"}],\"scattergeo\":[{\"type\":\"scattergeo\",\"marker\":{\"colorbar\":{\"outlinewidth\":0,\"ticks\":\"\"}}}],\"scatterpolar\":[{\"type\":\"scatterpolar\",\"marker\":{\"colorbar\":{\"outlinewidth\":0,\"ticks\":\"\"}}}],\"histogram\":[{\"marker\":{\"pattern\":{\"fillmode\":\"overlay\",\"size\":10,\"solidity\":0.2}},\"type\":\"histogram\"}],\"scattergl\":[{\"type\":\"scattergl\",\"marker\":{\"colorbar\":{\"outlinewidth\":0,\"ticks\":\"\"}}}],\"scatter3d\":[{\"type\":\"scatter3d\",\"line\":{\"colorbar\":{\"outlinewidth\":0,\"ticks\":\"\"}},\"marker\":{\"colorbar\":{\"outlinewidth\":0,\"ticks\":\"\"}}}],\"scattermapbox\":[{\"type\":\"scattermapbox\",\"marker\":{\"colorbar\":{\"outlinewidth\":0,\"ticks\":\"\"}}}],\"scatterternary\":[{\"type\":\"scatterternary\",\"marker\":{\"colorbar\":{\"outlinewidth\":0,\"ticks\":\"\"}}}],\"scattercarpet\":[{\"type\":\"scattercarpet\",\"marker\":{\"colorbar\":{\"outlinewidth\":0,\"ticks\":\"\"}}}],\"carpet\":[{\"aaxis\":{\"endlinecolor\":\"#2a3f5f\",\"gridcolor\":\"white\",\"linecolor\":\"white\",\"minorgridcolor\":\"white\",\"startlinecolor\":\"#2a3f5f\"},\"baxis\":{\"endlinecolor\":\"#2a3f5f\",\"gridcolor\":\"white\",\"linecolor\":\"white\",\"minorgridcolor\":\"white\",\"startlinecolor\":\"#2a3f5f\"},\"type\":\"carpet\"}],\"table\":[{\"cells\":{\"fill\":{\"color\":\"#EBF0F8\"},\"line\":{\"color\":\"white\"}},\"header\":{\"fill\":{\"color\":\"#C8D4E3\"},\"line\":{\"color\":\"white\"}},\"type\":\"table\"}],\"barpolar\":[{\"marker\":{\"line\":{\"color\":\"#E5ECF6\",\"width\":0.5},\"pattern\":{\"fillmode\":\"overlay\",\"size\":10,\"solidity\":0.2}},\"type\":\"barpolar\"}],\"pie\":[{\"automargin\":true,\"type\":\"pie\"}]},\"layout\":{\"autotypenumbers\":\"strict\",\"colorway\":[\"#636efa\",\"#EF553B\",\"#00cc96\",\"#ab63fa\",\"#FFA15A\",\"#19d3f3\",\"#FF6692\",\"#B6E880\",\"#FF97FF\",\"#FECB52\"],\"font\":{\"color\":\"#2a3f5f\"},\"hovermode\":\"closest\",\"hoverlabel\":{\"align\":\"left\"},\"paper_bgcolor\":\"white\",\"plot_bgcolor\":\"#E5ECF6\",\"polar\":{\"bgcolor\":\"#E5ECF6\",\"angularaxis\":{\"gridcolor\":\"white\",\"linecolor\":\"white\",\"ticks\":\"\"},\"radialaxis\":{\"gridcolor\":\"white\",\"linecolor\":\"white\",\"ticks\":\"\"}},\"ternary\":{\"bgcolor\":\"#E5ECF6\",\"aaxis\":{\"gridcolor\":\"white\",\"linecolor\":\"white\",\"ticks\":\"\"},\"baxis\":{\"gridcolor\":\"white\",\"linecolor\":\"white\",\"ticks\":\"\"},\"caxis\":{\"gridcolor\":\"white\",\"linecolor\":\"white\",\"ticks\":\"\"}},\"coloraxis\":{\"colorbar\":{\"outlinewidth\":0,\"ticks\":\"\"}},\"colorscale\":{\"sequential\":[[0.0,\"#0d0887\"],[0.1111111111111111,\"#46039f\"],[0.2222222222222222,\"#7201a8\"],[0.3333333333333333,\"#9c179e\"],[0.4444444444444444,\"#bd3786\"],[0.5555555555555556,\"#d8576b\"],[0.6666666666666666,\"#ed7953\"],[0.7777777777777778,\"#fb9f3a\"],[0.8888888888888888,\"#fdca26\"],[1.0,\"#f0f921\"]],\"sequentialminus\":[[0.0,\"#0d0887\"],[0.1111111111111111,\"#46039f\"],[0.2222222222222222,\"#7201a8\"],[0.3333333333333333,\"#9c179e\"],[0.4444444444444444,\"#bd3786\"],[0.5555555555555556,\"#d8576b\"],[0.6666666666666666,\"#ed7953\"],[0.7777777777777778,\"#fb9f3a\"],[0.8888888888888888,\"#fdca26\"],[1.0,\"#f0f921\"]],\"diverging\":[[0,\"#8e0152\"],[0.1,\"#c51b7d\"],[0.2,\"#de77ae\"],[0.3,\"#f1b6da\"],[0.4,\"#fde0ef\"],[0.5,\"#f7f7f7\"],[0.6,\"#e6f5d0\"],[0.7,\"#b8e186\"],[0.8,\"#7fbc41\"],[0.9,\"#4d9221\"],[1,\"#276419\"]]},\"xaxis\":{\"gridcolor\":\"white\",\"linecolor\":\"white\",\"ticks\":\"\",\"title\":{\"standoff\":15},\"zerolinecolor\":\"white\",\"automargin\":true,\"zerolinewidth\":2},\"yaxis\":{\"gridcolor\":\"white\",\"linecolor\":\"white\",\"ticks\":\"\",\"title\":{\"standoff\":15},\"zerolinecolor\":\"white\",\"automargin\":true,\"zerolinewidth\":2},\"scene\":{\"xaxis\":{\"backgroundcolor\":\"#E5ECF6\",\"gridcolor\":\"white\",\"linecolor\":\"white\",\"showbackground\":true,\"ticks\":\"\",\"zerolinecolor\":\"white\",\"gridwidth\":2},\"yaxis\":{\"backgroundcolor\":\"#E5ECF6\",\"gridcolor\":\"white\",\"linecolor\":\"white\",\"showbackground\":true,\"ticks\":\"\",\"zerolinecolor\":\"white\",\"gridwidth\":2},\"zaxis\":{\"backgroundcolor\":\"#E5ECF6\",\"gridcolor\":\"white\",\"linecolor\":\"white\",\"showbackground\":true,\"ticks\":\"\",\"zerolinecolor\":\"white\",\"gridwidth\":2}},\"shapedefaults\":{\"line\":{\"color\":\"#2a3f5f\"}},\"annotationdefaults\":{\"arrowcolor\":\"#2a3f5f\",\"arrowhead\":0,\"arrowwidth\":1},\"geo\":{\"bgcolor\":\"white\",\"landcolor\":\"#E5ECF6\",\"subunitcolor\":\"white\",\"showland\":true,\"showlakes\":true,\"lakecolor\":\"white\"},\"title\":{\"x\":0.05},\"mapbox\":{\"style\":\"light\"}}}},                        {\"responsive\": true}                    ).then(function(){\n",
       "                            \n",
       "var gd = document.getElementById('a3fc19b5-a38d-4928-b90f-9bde6ecead13');\n",
       "var x = new MutationObserver(function (mutations, observer) {{\n",
       "        var display = window.getComputedStyle(gd).display;\n",
       "        if (!display || display === 'none') {{\n",
       "            console.log([gd, 'removed!']);\n",
       "            Plotly.purge(gd);\n",
       "            observer.disconnect();\n",
       "        }}\n",
       "}});\n",
       "\n",
       "// Listen for the removal of the full notebook cells\n",
       "var notebookContainer = gd.closest('#notebook-container');\n",
       "if (notebookContainer) {{\n",
       "    x.observe(notebookContainer, {childList: true});\n",
       "}}\n",
       "\n",
       "// Listen for the clearing of the current output cell\n",
       "var outputEl = gd.closest('.output');\n",
       "if (outputEl) {{\n",
       "    x.observe(outputEl, {childList: true});\n",
       "}}\n",
       "\n",
       "                        })                };                });            </script>        </div>"
      ]
     },
     "metadata": {},
     "output_type": "display_data"
    }
   ],
   "source": [
    "# Use the Optimization History plot to track the progress of objective values over trials, \n",
    "# revealing how the optimization process improves performance and converges toward better solutions.\n",
    "optuna.visualization.plot_optimization_history(study, target=lambda trial: trial.values[0], \n",
    "                                               target_name=\"Accuracy Score\")\n",
    "\n",
    "optuna.visualization.plot_optimization_history(study, target=lambda trial: trial.values[1], \n",
    "                                               target_name=\"Training Time\")"
   ]
  },
  {
   "cell_type": "code",
   "execution_count": null,
   "id": "da72f0e7-f3a3-4c3d-a57a-761fcdb3e1e9",
   "metadata": {},
   "outputs": [],
   "source": []
  }
 ],
 "metadata": {
  "kernelspec": {
   "display_name": "Python 3 (ipykernel)",
   "language": "python",
   "name": "python3"
  },
  "language_info": {
   "codemirror_mode": {
    "name": "ipython",
    "version": 3
   },
   "file_extension": ".py",
   "mimetype": "text/x-python",
   "name": "python",
   "nbconvert_exporter": "python",
   "pygments_lexer": "ipython3",
   "version": "3.11.8"
  }
 },
 "nbformat": 4,
 "nbformat_minor": 5
}
