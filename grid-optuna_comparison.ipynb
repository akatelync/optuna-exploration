{
 "cells": [
  {
   "cell_type": "markdown",
   "id": "cdd4cabf-6149-41bb-aff8-56b0513bf799",
   "metadata": {},
   "source": [
    "## Hyperparameter tuning comparison using GridSearch vs Optuna"
   ]
  },
  {
   "cell_type": "code",
   "execution_count": 1,
   "id": "bd74badf-14e6-4da7-9b0c-289e4614c7ae",
   "metadata": {
    "execution": {
     "iopub.execute_input": "2024-11-18T07:09:25.595794Z",
     "iopub.status.busy": "2024-11-18T07:09:25.595528Z",
     "iopub.status.idle": "2024-11-18T07:09:27.884074Z",
     "shell.execute_reply": "2024-11-18T07:09:27.883038Z",
     "shell.execute_reply.started": "2024-11-18T07:09:25.595764Z"
    }
   },
   "outputs": [],
   "source": [
    "import numpy as np\n",
    "import pandas as pd\n",
    "from sklearn.model_selection import GridSearchCV, train_test_split\n",
    "from sklearn.ensemble import RandomForestRegressor, GradientBoostingRegressor\n",
    "from sklearn.svm import SVR\n",
    "from xgboost import XGBRegressor\n",
    "from sklearn.metrics import mean_squared_error\n",
    "import time\n",
    "import optuna\n",
    "from IPython.display import display, HTML"
   ]
  },
  {
   "cell_type": "code",
   "execution_count": 2,
   "id": "0a149849-4b95-48df-906b-44ae929153f0",
   "metadata": {
    "execution": {
     "iopub.execute_input": "2024-11-18T07:09:27.885210Z",
     "iopub.status.busy": "2024-11-18T07:09:27.884911Z",
     "iopub.status.idle": "2024-11-18T07:09:30.256517Z",
     "shell.execute_reply": "2024-11-18T07:09:30.255190Z",
     "shell.execute_reply.started": "2024-11-18T07:09:27.885188Z"
    }
   },
   "outputs": [
    {
     "name": "stderr",
     "output_type": "stream",
     "text": [
      "/tmp/ipykernel_29486/834794539.py:2: FutureWarning: The 'delim_whitespace' keyword in pd.read_csv is deprecated and will be removed in a future version. Use ``sep='\\s+'`` instead\n",
      "  df = pd.read_csv(\n"
     ]
    }
   ],
   "source": [
    "# Load Boston Housing dataset from external source\n",
    "df = pd.read_csv(\n",
    "    filepath_or_buffer=\"http://lib.stat.cmu.edu/datasets/boston\",\n",
    "    delim_whitespace=True,\n",
    "    skiprows=21,\n",
    "    header=None,\n",
    ")\n",
    "\n",
    "columns = [\n",
    "    'CRIM', 'ZN', 'INDUS', 'CHAS', 'NOX', 'RM', 'AGE', 'DIS', 'RAD', 'TAX', 'PTRATIO', 'B', 'LSTAT', 'MEDV',\n",
    "]\n",
    "\n",
    "# Flatten all the values into a single long list and remove the nulls\n",
    "values_w_nulls = df.values.flatten()\n",
    "all_values = values_w_nulls[~np.isnan(values_w_nulls)]\n",
    "\n",
    "# Reshape the values to have 14 columns and make a new df out of them\n",
    "df = pd.DataFrame(\n",
    "    data=all_values.reshape(-1, len(columns)),\n",
    "    columns=columns,\n",
    ")\n",
    "df1 = df\n",
    "boston = df"
   ]
  },
  {
   "cell_type": "code",
   "execution_count": 3,
   "id": "032f4041-588c-40f9-9e94-0aa2d04c18c9",
   "metadata": {
    "execution": {
     "iopub.execute_input": "2024-11-18T07:09:30.258911Z",
     "iopub.status.busy": "2024-11-18T07:09:30.258459Z",
     "iopub.status.idle": "2024-11-18T07:09:30.270810Z",
     "shell.execute_reply": "2024-11-18T07:09:30.269810Z",
     "shell.execute_reply.started": "2024-11-18T07:09:30.258875Z"
    }
   },
   "outputs": [],
   "source": [
    "# Split data into features and target\n",
    "X = boston.drop(columns=['MEDV'])\n",
    "y = boston['MEDV']\n",
    "\n",
    "# Split data into training and testing sets\n",
    "X_train, X_test, y_train, y_test = train_test_split(X, y, test_size=0.2, random_state=42)"
   ]
  },
  {
   "cell_type": "code",
   "execution_count": 4,
   "id": "a75f90b8-cc38-4df5-829e-e44f00784275",
   "metadata": {
    "execution": {
     "iopub.execute_input": "2024-11-18T07:09:30.272400Z",
     "iopub.status.busy": "2024-11-18T07:09:30.272076Z",
     "iopub.status.idle": "2024-11-18T07:09:30.278505Z",
     "shell.execute_reply": "2024-11-18T07:09:30.277833Z",
     "shell.execute_reply.started": "2024-11-18T07:09:30.272369Z"
    }
   },
   "outputs": [],
   "source": [
    "# Define models and parameter grids\n",
    "models = {\n",
    "    'RandomForest': (RandomForestRegressor(), {\n",
    "        'n_estimators': [50, 100],\n",
    "        'max_depth': [3, 5, 10]\n",
    "    }),\n",
    "    'GradientBoosting': (GradientBoostingRegressor(), {\n",
    "        'n_estimators': [50, 100],\n",
    "        'learning_rate': [0.01, 0.1],\n",
    "        'max_depth': [3, 5]\n",
    "    }),\n",
    "    'XGBoost': (XGBRegressor(objective='reg:squarederror'), {\n",
    "        'n_estimators': [50, 100],\n",
    "        'learning_rate': [0.01, 0.1],\n",
    "        'max_depth': [3, 5]\n",
    "    }),\n",
    "    'SVR': (SVR(), {\n",
    "        'C': [0.1, 1, 10],\n",
    "        'kernel': ['linear', 'rbf']\n",
    "    })\n",
    "}"
   ]
  },
  {
   "cell_type": "code",
   "execution_count": 5,
   "id": "d61ac66c-be5b-454a-8ec3-30b3c3f1d7ec",
   "metadata": {
    "execution": {
     "iopub.execute_input": "2024-11-18T07:09:30.279921Z",
     "iopub.status.busy": "2024-11-18T07:09:30.279424Z",
     "iopub.status.idle": "2024-11-18T07:10:55.184093Z",
     "shell.execute_reply": "2024-11-18T07:10:55.182837Z",
     "shell.execute_reply.started": "2024-11-18T07:09:30.279896Z"
    }
   },
   "outputs": [
    {
     "name": "stderr",
     "output_type": "stream",
     "text": [
      "/home/msds2025/jpetilo/.local/lib/python3.11/site-packages/numpy/ma/core.py:2820: RuntimeWarning: invalid value encountered in cast\n",
      "  _data = np.array(data, dtype=dtype, copy=copy,\n"
     ]
    },
    {
     "name": "stdout",
     "output_type": "stream",
     "text": [
      "{'Dataset': 'Original', 'Method': 'GridSearch', 'Model': 'GradientBoosting', 'Best Parameters': {'learning_rate': 0.1, 'max_depth': 3, 'n_estimators': 100}, 'Total Runtime (s)': 84.89184999465942}\n"
     ]
    }
   ],
   "source": [
    "# Perform GridSearch with cross-validation for each model and store only the best result\n",
    "results = []\n",
    "total_start_time = time.time()\n",
    "\n",
    "best_model_overall = None\n",
    "best_mse_overall = float('inf')\n",
    "best_model_name = None\n",
    "best_params_overall = None\n",
    "\n",
    "for model_name, (model, param_grid) in models.items():\n",
    "    # print(f\"Running GridSearchCV for {model_name}...\")\n",
    "    start_time = time.time()\n",
    "    grid_search = GridSearchCV(model, param_grid, cv=5, n_jobs=-1, scoring='neg_mean_squared_error')\n",
    "    grid_search.fit(X_train, y_train)\n",
    "    end_time = time.time()\n",
    "\n",
    "    best_model = grid_search.best_estimator_\n",
    "    best_params = grid_search.best_params_\n",
    "\n",
    "    # Calculate MSE on the test set\n",
    "    y_pred = best_model.predict(X_test)\n",
    "    mse = mean_squared_error(y_test, y_pred)\n",
    "\n",
    "    # Store the best model if it has the lowest MSE\n",
    "    if mse < best_mse_overall:\n",
    "        best_mse_overall = mse\n",
    "        best_model_overall = best_model\n",
    "        best_model_name = model_name\n",
    "        best_params_overall = best_params\n",
    "\n",
    "# Store the total runtime for GridSearch\n",
    "total_end_time = time.time()\n",
    "gridsearch_total_time = total_end_time - total_start_time\n",
    "\n",
    "# Store the best GridSearch result\n",
    "result = {\n",
    "    'Dataset': 'Original',\n",
    "    'Method': 'GridSearch',\n",
    "    'Model': best_model_name,\n",
    "    'Best Parameters': best_params_overall,\n",
    "    'Total Runtime (s)': gridsearch_total_time\n",
    "}\n",
    "\n",
    "results.append(result)\n",
    "\n",
    "print(result)"
   ]
  },
  {
   "cell_type": "markdown",
   "id": "b0735c9b-6aeb-42fe-bb17-e093c94d2dee",
   "metadata": {},
   "source": [
    "## Optuna Trial"
   ]
  },
  {
   "cell_type": "code",
   "execution_count": 6,
   "id": "81868cc9-7914-4b55-a652-cbfaefec821a",
   "metadata": {
    "execution": {
     "iopub.execute_input": "2024-11-18T07:10:55.188059Z",
     "iopub.status.busy": "2024-11-18T07:10:55.187730Z",
     "iopub.status.idle": "2024-11-18T07:10:55.196961Z",
     "shell.execute_reply": "2024-11-18T07:10:55.196385Z",
     "shell.execute_reply.started": "2024-11-18T07:10:55.188022Z"
    }
   },
   "outputs": [],
   "source": [
    "# Define the objective function for Optuna\n",
    "def objective(trial):\n",
    "    model_name = trial.suggest_categorical('model', ['RandomForest', 'GradientBoosting', 'XGBoost', 'SVR'])\n",
    "    \n",
    "    if model_name == 'RandomForest':\n",
    "        n_estimators = trial.suggest_int('n_estimators', 50, 200)\n",
    "        max_depth = trial.suggest_int('max_depth', 3, 10)\n",
    "        model = RandomForestRegressor(n_estimators=n_estimators, max_depth=max_depth)\n",
    "    elif model_name == 'GradientBoosting':\n",
    "        n_estimators = trial.suggest_int('n_estimators', 50, 200)\n",
    "        learning_rate = trial.suggest_float('learning_rate', 0.01, 0.2)\n",
    "        max_depth = trial.suggest_int('max_depth', 3, 10)\n",
    "        model = GradientBoostingRegressor(n_estimators=n_estimators, learning_rate=learning_rate, max_depth=max_depth)\n",
    "    elif model_name == 'XGBoost':\n",
    "        n_estimators = trial.suggest_int('n_estimators', 50, 200)\n",
    "        learning_rate = trial.suggest_float('learning_rate', 0.01, 0.2)\n",
    "        max_depth = trial.suggest_int('max_depth', 3, 10)\n",
    "        model = XGBRegressor(n_estimators=n_estimators, learning_rate=learning_rate, max_depth=max_depth, objective='reg:squarederror')\n",
    "    elif model_name == 'SVR':\n",
    "        C = trial.suggest_float('C', 0.1, 10)\n",
    "        kernel = trial.suggest_categorical('kernel', ['linear', 'rbf'])\n",
    "        model = SVR(C=C, kernel=kernel)\n",
    "    \n",
    "    model.fit(X_train, y_train)\n",
    "    y_pred = model.predict(X_test)\n",
    "    mse = mean_squared_error(y_test, y_pred)\n",
    "    return mse"
   ]
  },
  {
   "cell_type": "code",
   "execution_count": 7,
   "id": "ce4dc80f-eaf5-4849-8f9f-46f0ffb1e475",
   "metadata": {
    "execution": {
     "iopub.execute_input": "2024-11-18T07:10:55.198018Z",
     "iopub.status.busy": "2024-11-18T07:10:55.197816Z",
     "iopub.status.idle": "2024-11-18T07:11:31.755339Z",
     "shell.execute_reply": "2024-11-18T07:11:31.754246Z",
     "shell.execute_reply.started": "2024-11-18T07:10:55.197999Z"
    }
   },
   "outputs": [
    {
     "name": "stderr",
     "output_type": "stream",
     "text": [
      "[I 2024-11-18 07:10:55,202] A new study created in memory with name: no-name-f9291360-86ef-476e-bfdb-9795f3a1048a\n",
      "[I 2024-11-18 07:11:14,276] Trial 0 finished with value: 29.270383556564468 and parameters: {'model': 'SVR', 'C': 9.186658585371141, 'kernel': 'linear'}. Best is trial 0 with value: 29.270383556564468.\n",
      "[I 2024-11-18 07:11:14,499] Trial 1 finished with value: 8.120490299958972 and parameters: {'model': 'XGBoost', 'n_estimators': 116, 'learning_rate': 0.1462678481400589, 'max_depth': 9}. Best is trial 1 with value: 8.120490299958972.\n",
      "[I 2024-11-18 07:11:15,046] Trial 2 finished with value: 7.125223118012655 and parameters: {'model': 'GradientBoosting', 'n_estimators': 78, 'learning_rate': 0.19522132308761395, 'max_depth': 4}. Best is trial 2 with value: 7.125223118012655.\n",
      "[I 2024-11-18 07:11:15,209] Trial 3 finished with value: 8.978960835071891 and parameters: {'model': 'RandomForest', 'n_estimators': 52, 'max_depth': 9}. Best is trial 2 with value: 7.125223118012655.\n",
      "[I 2024-11-18 07:11:15,385] Trial 4 finished with value: 8.24049943383225 and parameters: {'model': 'XGBoost', 'n_estimators': 118, 'learning_rate': 0.13768114452963431, 'max_depth': 8}. Best is trial 2 with value: 7.125223118012655.\n",
      "[I 2024-11-18 07:11:15,619] Trial 5 finished with value: 8.748815081514739 and parameters: {'model': 'XGBoost', 'n_estimators': 124, 'learning_rate': 0.18075186524433792, 'max_depth': 10}. Best is trial 2 with value: 7.125223118012655.\n",
      "[I 2024-11-18 07:11:18,728] Trial 6 finished with value: 30.637827999253396 and parameters: {'model': 'SVR', 'C': 3.258947449235787, 'kernel': 'linear'}. Best is trial 2 with value: 7.125223118012655.\n",
      "[I 2024-11-18 07:11:18,807] Trial 7 finished with value: 5.841408549459471 and parameters: {'model': 'XGBoost', 'n_estimators': 117, 'learning_rate': 0.14347383683279472, 'max_depth': 5}. Best is trial 7 with value: 5.841408549459471.\n",
      "[I 2024-11-18 07:11:19,299] Trial 8 finished with value: 6.507035136278848 and parameters: {'model': 'GradientBoosting', 'n_estimators': 119, 'learning_rate': 0.035619374569859426, 'max_depth': 9}. Best is trial 7 with value: 5.841408549459471.\n",
      "[I 2024-11-18 07:11:19,364] Trial 9 finished with value: 5.686485794445704 and parameters: {'model': 'XGBoost', 'n_estimators': 188, 'learning_rate': 0.1660008676528062, 'max_depth': 3}. Best is trial 9 with value: 5.686485794445704.\n",
      "[I 2024-11-18 07:11:19,780] Trial 10 finished with value: 12.557405488628564 and parameters: {'model': 'RandomForest', 'n_estimators': 200, 'max_depth': 3}. Best is trial 9 with value: 5.686485794445704.\n",
      "[I 2024-11-18 07:11:20,267] Trial 11 finished with value: 5.866907298753409 and parameters: {'model': 'XGBoost', 'n_estimators': 189, 'learning_rate': 0.09272992601996874, 'max_depth': 5}. Best is trial 9 with value: 5.686485794445704.\n",
      "[I 2024-11-18 07:11:20,432] Trial 12 finished with value: 6.697470371213023 and parameters: {'model': 'XGBoost', 'n_estimators': 165, 'learning_rate': 0.12126194553097333, 'max_depth': 6}. Best is trial 9 with value: 5.686485794445704.\n",
      "[I 2024-11-18 07:11:20,528] Trial 13 finished with value: 5.6374711425152 and parameters: {'model': 'XGBoost', 'n_estimators': 158, 'learning_rate': 0.1602649497210647, 'max_depth': 3}. Best is trial 13 with value: 5.6374711425152.\n",
      "[I 2024-11-18 07:11:20,624] Trial 14 finished with value: 6.037655551640485 and parameters: {'model': 'XGBoost', 'n_estimators': 160, 'learning_rate': 0.07282415175180112, 'max_depth': 3}. Best is trial 13 with value: 5.6374711425152.\n",
      "[I 2024-11-18 07:11:20,722] Trial 15 finished with value: 6.068212188244665 and parameters: {'model': 'XGBoost', 'n_estimators': 162, 'learning_rate': 0.16645496894587072, 'max_depth': 3}. Best is trial 13 with value: 5.6374711425152.\n",
      "[I 2024-11-18 07:11:21,509] Trial 16 finished with value: 4.578599581722077 and parameters: {'model': 'GradientBoosting', 'n_estimators': 177, 'learning_rate': 0.16983120711113367, 'max_depth': 7}. Best is trial 16 with value: 4.578599581722077.\n",
      "[I 2024-11-18 07:11:21,962] Trial 17 finished with value: 6.06604842558778 and parameters: {'model': 'GradientBoosting', 'n_estimators': 147, 'learning_rate': 0.1976349516194064, 'max_depth': 7}. Best is trial 16 with value: 4.578599581722077.\n",
      "[I 2024-11-18 07:11:22,385] Trial 18 finished with value: 6.422775293757058 and parameters: {'model': 'GradientBoosting', 'n_estimators': 139, 'learning_rate': 0.10389918627401068, 'max_depth': 7}. Best is trial 16 with value: 4.578599581722077.\n",
      "[I 2024-11-18 07:11:23,064] Trial 19 finished with value: 6.475578871661282 and parameters: {'model': 'GradientBoosting', 'n_estimators': 177, 'learning_rate': 0.012274472075405454, 'max_depth': 6}. Best is trial 16 with value: 4.578599581722077.\n",
      "[I 2024-11-18 07:11:23,405] Trial 20 finished with value: 10.166943570982962 and parameters: {'model': 'RandomForest', 'n_estimators': 152, 'max_depth': 5}. Best is trial 16 with value: 4.578599581722077.\n",
      "[I 2024-11-18 07:11:23,425] Trial 21 finished with value: 54.05360703531702 and parameters: {'model': 'SVR', 'C': 0.6140513004767607, 'kernel': 'rbf'}. Best is trial 16 with value: 4.578599581722077.\n",
      "[I 2024-11-18 07:11:23,955] Trial 22 finished with value: 6.222784479290385 and parameters: {'model': 'GradientBoosting', 'n_estimators': 181, 'learning_rate': 0.1669678489591306, 'max_depth': 4}. Best is trial 16 with value: 4.578599581722077.\n",
      "[I 2024-11-18 07:11:24,077] Trial 23 finished with value: 6.167211911754983 and parameters: {'model': 'XGBoost', 'n_estimators': 199, 'learning_rate': 0.16217955574861556, 'max_depth': 4}. Best is trial 16 with value: 4.578599581722077.\n",
      "[I 2024-11-18 07:11:24,391] Trial 24 finished with value: 8.000298725216119 and parameters: {'model': 'XGBoost', 'n_estimators': 174, 'learning_rate': 0.13062736527921298, 'max_depth': 8}. Best is trial 16 with value: 4.578599581722077.\n",
      "[I 2024-11-18 07:11:24,726] Trial 25 finished with value: 5.520702911026049 and parameters: {'model': 'GradientBoosting', 'n_estimators': 135, 'learning_rate': 0.17720714730865691, 'max_depth': 4}. Best is trial 16 with value: 4.578599581722077.\n",
      "[I 2024-11-18 07:11:24,929] Trial 26 finished with value: 6.447357490128957 and parameters: {'model': 'GradientBoosting', 'n_estimators': 100, 'learning_rate': 0.18543187837567945, 'max_depth': 4}. Best is trial 16 with value: 4.578599581722077.\n",
      "[I 2024-11-18 07:11:25,504] Trial 27 finished with value: 4.554872337528127 and parameters: {'model': 'GradientBoosting', 'n_estimators': 143, 'learning_rate': 0.15304171862714322, 'max_depth': 6}. Best is trial 27 with value: 4.554872337528127.\n",
      "[I 2024-11-18 07:11:25,880] Trial 28 finished with value: 4.92582358822048 and parameters: {'model': 'GradientBoosting', 'n_estimators': 139, 'learning_rate': 0.18551108169726063, 'max_depth': 6}. Best is trial 27 with value: 4.554872337528127.\n",
      "[I 2024-11-18 07:11:26,305] Trial 29 finished with value: 5.147961694531121 and parameters: {'model': 'GradientBoosting', 'n_estimators': 98, 'learning_rate': 0.11678751337544974, 'max_depth': 6}. Best is trial 27 with value: 4.554872337528127.\n",
      "[I 2024-11-18 07:11:26,713] Trial 30 finished with value: 5.639103226904744 and parameters: {'model': 'GradientBoosting', 'n_estimators': 133, 'learning_rate': 0.15451372243266948, 'max_depth': 7}. Best is trial 27 with value: 4.554872337528127.\n",
      "[I 2024-11-18 07:11:26,989] Trial 31 finished with value: 5.326604974390491 and parameters: {'model': 'GradientBoosting', 'n_estimators': 98, 'learning_rate': 0.10940712843796017, 'max_depth': 6}. Best is trial 27 with value: 4.554872337528127.\n",
      "[I 2024-11-18 07:11:27,257] Trial 32 finished with value: 4.759311277117656 and parameters: {'model': 'GradientBoosting', 'n_estimators': 94, 'learning_rate': 0.07927036866756687, 'max_depth': 6}. Best is trial 27 with value: 4.554872337528127.\n",
      "[I 2024-11-18 07:11:27,811] Trial 33 finished with value: 6.142280391001447 and parameters: {'model': 'GradientBoosting', 'n_estimators': 107, 'learning_rate': 0.06761465648244526, 'max_depth': 8}. Best is trial 27 with value: 4.554872337528127.\n",
      "[I 2024-11-18 07:11:28,042] Trial 34 finished with value: 5.166401252409736 and parameters: {'model': 'GradientBoosting', 'n_estimators': 72, 'learning_rate': 0.06837492395758092, 'max_depth': 7}. Best is trial 27 with value: 4.554872337528127.\n",
      "[I 2024-11-18 07:11:28,061] Trial 35 finished with value: 44.66632068462622 and parameters: {'model': 'SVR', 'C': 9.862112993262041, 'kernel': 'rbf'}. Best is trial 27 with value: 4.554872337528127.\n",
      "[I 2024-11-18 07:11:28,253] Trial 36 finished with value: 5.253940891175306 and parameters: {'model': 'GradientBoosting', 'n_estimators': 78, 'learning_rate': 0.0883712554283266, 'max_depth': 5}. Best is trial 27 with value: 4.554872337528127.\n",
      "[I 2024-11-18 07:11:28,804] Trial 37 finished with value: 5.02812996492806 and parameters: {'model': 'GradientBoosting', 'n_estimators': 145, 'learning_rate': 0.051851005142759574, 'max_depth': 6}. Best is trial 27 with value: 4.554872337528127.\n",
      "[I 2024-11-18 07:11:29,074] Trial 38 finished with value: 7.7655364230907935 and parameters: {'model': 'RandomForest', 'n_estimators': 87, 'max_depth': 8}. Best is trial 27 with value: 4.554872337528127.\n",
      "[I 2024-11-18 07:11:29,249] Trial 39 finished with value: 5.003420868716127 and parameters: {'model': 'GradientBoosting', 'n_estimators': 53, 'learning_rate': 0.14597053698277462, 'max_depth': 7}. Best is trial 27 with value: 4.554872337528127.\n",
      "[I 2024-11-18 07:11:29,271] Trial 40 finished with value: 46.04819483662302 and parameters: {'model': 'SVR', 'C': 6.622695759729178, 'kernel': 'rbf'}. Best is trial 27 with value: 4.554872337528127.\n",
      "[I 2024-11-18 07:11:29,439] Trial 41 finished with value: 5.009492019883076 and parameters: {'model': 'GradientBoosting', 'n_estimators': 50, 'learning_rate': 0.14934844787345242, 'max_depth': 7}. Best is trial 27 with value: 4.554872337528127.\n",
      "[I 2024-11-18 07:11:29,640] Trial 42 finished with value: 4.962663286056946 and parameters: {'model': 'GradientBoosting', 'n_estimators': 69, 'learning_rate': 0.189110300827221, 'max_depth': 6}. Best is trial 27 with value: 4.554872337528127.\n",
      "[I 2024-11-18 07:11:29,826] Trial 43 finished with value: 4.896658010713464 and parameters: {'model': 'GradientBoosting', 'n_estimators': 64, 'learning_rate': 0.18945949946179896, 'max_depth': 6}. Best is trial 27 with value: 4.554872337528127.\n",
      "[I 2024-11-18 07:11:30,330] Trial 44 finished with value: 6.1821769708198575 and parameters: {'model': 'GradientBoosting', 'n_estimators': 127, 'learning_rate': 0.19912050436161155, 'max_depth': 5}. Best is trial 27 with value: 4.554872337528127.\n",
      "[I 2024-11-18 07:11:30,631] Trial 45 finished with value: 7.107686991389965 and parameters: {'model': 'GradientBoosting', 'n_estimators': 107, 'learning_rate': 0.17493958185421227, 'max_depth': 6}. Best is trial 27 with value: 4.554872337528127.\n",
      "[I 2024-11-18 07:11:30,784] Trial 46 finished with value: 5.675098506780973 and parameters: {'model': 'GradientBoosting', 'n_estimators': 59, 'learning_rate': 0.18759477265379232, 'max_depth': 5}. Best is trial 27 with value: 4.554872337528127.\n",
      "[I 2024-11-18 07:11:31,303] Trial 47 finished with value: 8.896891621280224 and parameters: {'model': 'RandomForest', 'n_estimators': 126, 'max_depth': 8}. Best is trial 27 with value: 4.554872337528127.\n",
      "[I 2024-11-18 07:11:31,538] Trial 48 finished with value: 4.50774258380037 and parameters: {'model': 'GradientBoosting', 'n_estimators': 83, 'learning_rate': 0.1737313090963122, 'max_depth': 6}. Best is trial 48 with value: 4.50774258380037.\n",
      "[I 2024-11-18 07:11:31,749] Trial 49 finished with value: 4.754649989784357 and parameters: {'model': 'GradientBoosting', 'n_estimators': 86, 'learning_rate': 0.1306668373901505, 'max_depth': 5}. Best is trial 48 with value: 4.50774258380037.\n"
     ]
    },
    {
     "name": "stdout",
     "output_type": "stream",
     "text": [
      "{'Dataset': 'Original', 'Method': 'Optuna', 'Model': 'GradientBoosting', 'Best Parameters': {'model': 'GradientBoosting', 'n_estimators': 83, 'learning_rate': 0.1737313090963122, 'max_depth': 6}, 'Total Runtime (s)': 36.54901647567749}\n"
     ]
    }
   ],
   "source": [
    "# Run Optuna optimization\n",
    "study_start_time = time.time()\n",
    "study = optuna.create_study(direction='minimize')\n",
    "study.optimize(objective, n_trials=50)\n",
    "study_end_time = time.time()\n",
    "\n",
    "# Adding summary of the Optuna results\n",
    "optuna_best_params = study.best_trial.params\n",
    "optuna_best_value = study.best_trial.value\n",
    "optuna_total_time = study_end_time - study_start_time\n",
    "\n",
    "result = {\n",
    "    'Dataset': 'Original',\n",
    "    'Method': 'Optuna',\n",
    "    'Model': study.best_trial.params.get('model'),\n",
    "    'Best Parameters': optuna_best_params,\n",
    "    'Total Runtime (s)': optuna_total_time\n",
    "}\n",
    "results.append(result)\n",
    "\n",
    "print(result)"
   ]
  },
  {
   "cell_type": "markdown",
   "id": "f4cfd9c7-2f23-4755-ac74-a5efa5b6fff4",
   "metadata": {},
   "source": [
    "### Using derived features"
   ]
  },
  {
   "cell_type": "markdown",
   "id": "234b22e4-a875-40d4-b852-a0e277e1369b",
   "metadata": {
    "execution": {
     "iopub.execute_input": "2024-11-17T11:48:18.219373Z",
     "iopub.status.busy": "2024-11-17T11:48:18.218889Z",
     "iopub.status.idle": "2024-11-17T11:48:18.224012Z",
     "shell.execute_reply": "2024-11-17T11:48:18.223108Z",
     "shell.execute_reply.started": "2024-11-17T11:48:18.219332Z"
    }
   },
   "source": [
    "#### GridSearch"
   ]
  },
  {
   "cell_type": "code",
   "execution_count": 8,
   "id": "cbf5b5ba-8614-4f2c-b2cc-38a9b354ad32",
   "metadata": {
    "execution": {
     "iopub.execute_input": "2024-11-18T07:11:31.756837Z",
     "iopub.status.busy": "2024-11-18T07:11:31.756610Z",
     "iopub.status.idle": "2024-11-18T07:11:31.829201Z",
     "shell.execute_reply": "2024-11-18T07:11:31.828392Z",
     "shell.execute_reply.started": "2024-11-18T07:11:31.756814Z"
    }
   },
   "outputs": [
    {
     "data": {
      "text/html": [
       "<div>\n",
       "<style scoped>\n",
       "    .dataframe tbody tr th:only-of-type {\n",
       "        vertical-align: middle;\n",
       "    }\n",
       "\n",
       "    .dataframe tbody tr th {\n",
       "        vertical-align: top;\n",
       "    }\n",
       "\n",
       "    .dataframe thead th {\n",
       "        text-align: right;\n",
       "    }\n",
       "</style>\n",
       "<table border=\"1\" class=\"dataframe\">\n",
       "  <thead>\n",
       "    <tr style=\"text-align: right;\">\n",
       "      <th></th>\n",
       "      <th>CRIM</th>\n",
       "      <th>ZN</th>\n",
       "      <th>INDUS</th>\n",
       "      <th>CHAS</th>\n",
       "      <th>NOX</th>\n",
       "      <th>RM</th>\n",
       "      <th>AGE</th>\n",
       "      <th>DIS</th>\n",
       "      <th>RAD</th>\n",
       "      <th>TAX</th>\n",
       "      <th>...</th>\n",
       "      <th>TAX_TAX</th>\n",
       "      <th>TAX_PTRATIO</th>\n",
       "      <th>TAX_B</th>\n",
       "      <th>TAX_LSTAT</th>\n",
       "      <th>PTRATIO_PTRATIO</th>\n",
       "      <th>PTRATIO_B</th>\n",
       "      <th>PTRATIO_LSTAT</th>\n",
       "      <th>B_B</th>\n",
       "      <th>B_LSTAT</th>\n",
       "      <th>LSTAT_LSTAT</th>\n",
       "    </tr>\n",
       "  </thead>\n",
       "  <tbody>\n",
       "    <tr>\n",
       "      <th>0</th>\n",
       "      <td>0.00632</td>\n",
       "      <td>18.0</td>\n",
       "      <td>2.31</td>\n",
       "      <td>0.0</td>\n",
       "      <td>0.538</td>\n",
       "      <td>6.575</td>\n",
       "      <td>65.2</td>\n",
       "      <td>4.0900</td>\n",
       "      <td>1.0</td>\n",
       "      <td>296.0</td>\n",
       "      <td>...</td>\n",
       "      <td>87616.0</td>\n",
       "      <td>4528.8</td>\n",
       "      <td>117482.40</td>\n",
       "      <td>1474.08</td>\n",
       "      <td>234.09</td>\n",
       "      <td>6072.570</td>\n",
       "      <td>76.194</td>\n",
       "      <td>157529.6100</td>\n",
       "      <td>1976.5620</td>\n",
       "      <td>24.8004</td>\n",
       "    </tr>\n",
       "    <tr>\n",
       "      <th>1</th>\n",
       "      <td>0.02731</td>\n",
       "      <td>0.0</td>\n",
       "      <td>7.07</td>\n",
       "      <td>0.0</td>\n",
       "      <td>0.469</td>\n",
       "      <td>6.421</td>\n",
       "      <td>78.9</td>\n",
       "      <td>4.9671</td>\n",
       "      <td>2.0</td>\n",
       "      <td>242.0</td>\n",
       "      <td>...</td>\n",
       "      <td>58564.0</td>\n",
       "      <td>4307.6</td>\n",
       "      <td>96049.80</td>\n",
       "      <td>2211.88</td>\n",
       "      <td>316.84</td>\n",
       "      <td>7064.820</td>\n",
       "      <td>162.692</td>\n",
       "      <td>157529.6100</td>\n",
       "      <td>3627.6660</td>\n",
       "      <td>83.5396</td>\n",
       "    </tr>\n",
       "    <tr>\n",
       "      <th>2</th>\n",
       "      <td>0.02729</td>\n",
       "      <td>0.0</td>\n",
       "      <td>7.07</td>\n",
       "      <td>0.0</td>\n",
       "      <td>0.469</td>\n",
       "      <td>7.185</td>\n",
       "      <td>61.1</td>\n",
       "      <td>4.9671</td>\n",
       "      <td>2.0</td>\n",
       "      <td>242.0</td>\n",
       "      <td>...</td>\n",
       "      <td>58564.0</td>\n",
       "      <td>4307.6</td>\n",
       "      <td>95064.86</td>\n",
       "      <td>975.26</td>\n",
       "      <td>316.84</td>\n",
       "      <td>6992.374</td>\n",
       "      <td>71.734</td>\n",
       "      <td>154315.4089</td>\n",
       "      <td>1583.1049</td>\n",
       "      <td>16.2409</td>\n",
       "    </tr>\n",
       "    <tr>\n",
       "      <th>3</th>\n",
       "      <td>0.03237</td>\n",
       "      <td>0.0</td>\n",
       "      <td>2.18</td>\n",
       "      <td>0.0</td>\n",
       "      <td>0.458</td>\n",
       "      <td>6.998</td>\n",
       "      <td>45.8</td>\n",
       "      <td>6.0622</td>\n",
       "      <td>3.0</td>\n",
       "      <td>222.0</td>\n",
       "      <td>...</td>\n",
       "      <td>49284.0</td>\n",
       "      <td>4151.4</td>\n",
       "      <td>87607.86</td>\n",
       "      <td>652.68</td>\n",
       "      <td>349.69</td>\n",
       "      <td>7379.581</td>\n",
       "      <td>54.978</td>\n",
       "      <td>155732.8369</td>\n",
       "      <td>1160.2122</td>\n",
       "      <td>8.6436</td>\n",
       "    </tr>\n",
       "    <tr>\n",
       "      <th>4</th>\n",
       "      <td>0.06905</td>\n",
       "      <td>0.0</td>\n",
       "      <td>2.18</td>\n",
       "      <td>0.0</td>\n",
       "      <td>0.458</td>\n",
       "      <td>7.147</td>\n",
       "      <td>54.2</td>\n",
       "      <td>6.0622</td>\n",
       "      <td>3.0</td>\n",
       "      <td>222.0</td>\n",
       "      <td>...</td>\n",
       "      <td>49284.0</td>\n",
       "      <td>4151.4</td>\n",
       "      <td>88111.80</td>\n",
       "      <td>1183.26</td>\n",
       "      <td>349.69</td>\n",
       "      <td>7422.030</td>\n",
       "      <td>99.671</td>\n",
       "      <td>157529.6100</td>\n",
       "      <td>2115.4770</td>\n",
       "      <td>28.4089</td>\n",
       "    </tr>\n",
       "  </tbody>\n",
       "</table>\n",
       "<p>5 rows × 104 columns</p>\n",
       "</div>"
      ],
      "text/plain": [
       "      CRIM    ZN  INDUS  CHAS    NOX     RM   AGE     DIS  RAD    TAX  ...  \\\n",
       "0  0.00632  18.0   2.31   0.0  0.538  6.575  65.2  4.0900  1.0  296.0  ...   \n",
       "1  0.02731   0.0   7.07   0.0  0.469  6.421  78.9  4.9671  2.0  242.0  ...   \n",
       "2  0.02729   0.0   7.07   0.0  0.469  7.185  61.1  4.9671  2.0  242.0  ...   \n",
       "3  0.03237   0.0   2.18   0.0  0.458  6.998  45.8  6.0622  3.0  222.0  ...   \n",
       "4  0.06905   0.0   2.18   0.0  0.458  7.147  54.2  6.0622  3.0  222.0  ...   \n",
       "\n",
       "   TAX_TAX  TAX_PTRATIO      TAX_B  TAX_LSTAT  PTRATIO_PTRATIO  PTRATIO_B  \\\n",
       "0  87616.0       4528.8  117482.40    1474.08           234.09   6072.570   \n",
       "1  58564.0       4307.6   96049.80    2211.88           316.84   7064.820   \n",
       "2  58564.0       4307.6   95064.86     975.26           316.84   6992.374   \n",
       "3  49284.0       4151.4   87607.86     652.68           349.69   7379.581   \n",
       "4  49284.0       4151.4   88111.80    1183.26           349.69   7422.030   \n",
       "\n",
       "   PTRATIO_LSTAT          B_B    B_LSTAT  LSTAT_LSTAT  \n",
       "0         76.194  157529.6100  1976.5620      24.8004  \n",
       "1        162.692  157529.6100  3627.6660      83.5396  \n",
       "2         71.734  154315.4089  1583.1049      16.2409  \n",
       "3         54.978  155732.8369  1160.2122       8.6436  \n",
       "4         99.671  157529.6100  2115.4770      28.4089  \n",
       "\n",
       "[5 rows x 104 columns]"
      ]
     },
     "execution_count": 8,
     "metadata": {},
     "output_type": "execute_result"
    }
   ],
   "source": [
    "# Create new columns by multiplying each column with every other column\n",
    "\n",
    "for i in range(len(X.columns)):\n",
    "    for j in range(i, len(X.columns)):\n",
    "        col1 = X.columns[i]\n",
    "        col2 = X.columns[j]\n",
    "        new_col_name = f\"{col1}_{col2}\"\n",
    "        df1[new_col_name] = X[col1] * X[col2]\n",
    "\n",
    "# Display the updated DataFrame\n",
    "#print(df_extended)\n",
    "\n",
    "X_der=df1.drop('MEDV', axis=1) #Remove the target column X\n",
    "y_der=df1['MEDV']\n",
    "len(X_der)\n",
    "X_der.head(5)"
   ]
  },
  {
   "cell_type": "code",
   "execution_count": 9,
   "id": "d715ee77-1b33-4535-940f-e884a1317f9e",
   "metadata": {
    "execution": {
     "iopub.execute_input": "2024-11-18T07:11:31.830140Z",
     "iopub.status.busy": "2024-11-18T07:11:31.829933Z",
     "iopub.status.idle": "2024-11-18T07:11:31.838112Z",
     "shell.execute_reply": "2024-11-18T07:11:31.837387Z",
     "shell.execute_reply.started": "2024-11-18T07:11:31.830119Z"
    }
   },
   "outputs": [],
   "source": [
    "X_train_der, X_test_der, y_train_der, y_test_der = train_test_split(X_der, y_der, test_size=0.2, random_state=42)"
   ]
  },
  {
   "cell_type": "code",
   "execution_count": 10,
   "id": "2f1e7888-0266-44f1-826b-6ec2915d8c1b",
   "metadata": {
    "execution": {
     "iopub.execute_input": "2024-11-18T07:11:31.839274Z",
     "iopub.status.busy": "2024-11-18T07:11:31.838977Z",
     "iopub.status.idle": "2024-11-18T07:11:31.844691Z",
     "shell.execute_reply": "2024-11-18T07:11:31.843924Z",
     "shell.execute_reply.started": "2024-11-18T07:11:31.839253Z"
    }
   },
   "outputs": [],
   "source": [
    "# Define models and parameter grids\n",
    "models = {\n",
    "    'RandomForest': (RandomForestRegressor(), {\n",
    "        'n_estimators': [50, 100],\n",
    "        'max_depth': [3, 5, 10]\n",
    "    }),\n",
    "    'GradientBoosting': (GradientBoostingRegressor(), {\n",
    "        'n_estimators': [50, 100],\n",
    "        'learning_rate': [0.01, 0.1],\n",
    "        'max_depth': [3, 5]\n",
    "    }),\n",
    "    'XGBoost': (XGBRegressor(objective='reg:squarederror'), {\n",
    "        'n_estimators': [50, 100],\n",
    "        'learning_rate': [0.01, 0.1],\n",
    "        'max_depth': [3, 5]\n",
    "    }),\n",
    "    'SVR': (SVR(), {\n",
    "        'C': [0.1, 1, 10],\n",
    "        'kernel': ['linear', 'rbf']\n",
    "    })\n",
    "}"
   ]
  },
  {
   "cell_type": "code",
   "execution_count": 11,
   "id": "6d49bfa6-aaf3-42e9-a4f3-d4538fadbc03",
   "metadata": {
    "execution": {
     "iopub.execute_input": "2024-11-18T07:11:31.845849Z",
     "iopub.status.busy": "2024-11-18T07:11:31.845551Z",
     "iopub.status.idle": "2024-11-18T08:04:47.847285Z",
     "shell.execute_reply": "2024-11-18T08:04:47.845976Z",
     "shell.execute_reply.started": "2024-11-18T07:11:31.845827Z"
    }
   },
   "outputs": [
    {
     "name": "stdout",
     "output_type": "stream",
     "text": [
      "{'Dataset': 'Modified', 'Method': 'GridSearch', 'Model': 'XGBoost', 'Best Parameters': {'learning_rate': 0.1, 'max_depth': 3, 'n_estimators': 100}, 'Total Runtime (s)': 3195.9918394088745}\n"
     ]
    }
   ],
   "source": [
    "# Perform GridSearch with cross-validation for each model and store only the best result\n",
    "results_mod = []\n",
    "total_start_time = time.time()\n",
    "\n",
    "best_model_overall = None\n",
    "best_mse_overall = float('inf')\n",
    "best_model_name = None\n",
    "best_params_overall = None\n",
    "\n",
    "for model_name, (model, param_grid) in models.items():\n",
    "    # print(f\"Running GridSearchCV for {model_name}...\")\n",
    "    start_time = time.time()\n",
    "    grid_search = GridSearchCV(model, param_grid, cv=5, n_jobs=-1, scoring='neg_mean_squared_error')\n",
    "    grid_search.fit(X_train_der, y_train_der)\n",
    "    end_time = time.time()\n",
    "\n",
    "    best_model = grid_search.best_estimator_\n",
    "    best_params = grid_search.best_params_\n",
    "\n",
    "    # Calculate MSE on the test set\n",
    "    y_pred_der = best_model.predict(X_test_der)\n",
    "    mse = mean_squared_error(y_test_der, y_pred_der)\n",
    "\n",
    "    # Store the best model if it has the lowest MSE\n",
    "    if mse < best_mse_overall:\n",
    "        best_mse_overall = mse\n",
    "        best_model_overall = best_model\n",
    "        best_model_name = model_name\n",
    "        best_params_overall = best_params\n",
    "\n",
    "# Store the total runtime for GridSearch\n",
    "total_end_time = time.time()\n",
    "gridsearch_total_time = total_end_time - total_start_time\n",
    "\n",
    "# Store the best GridSearch result\n",
    "result = {\n",
    "    'Dataset': 'Modified',\n",
    "    'Method': 'GridSearch',\n",
    "    'Model': best_model_name,\n",
    "    'Best Parameters': best_params_overall,\n",
    "    'Total Runtime (s)': gridsearch_total_time\n",
    "}\n",
    "results_mod.append(result)\n",
    "\n",
    "print(result)"
   ]
  },
  {
   "cell_type": "markdown",
   "id": "d97f15d8-45d6-4dc6-87a5-88d2ba6f3b5c",
   "metadata": {},
   "source": [
    "#### Optuna"
   ]
  },
  {
   "cell_type": "code",
   "execution_count": 12,
   "id": "b71eddc9-2d42-43ba-9d14-619b95ecf95b",
   "metadata": {
    "execution": {
     "iopub.execute_input": "2024-11-18T08:04:47.848828Z",
     "iopub.status.busy": "2024-11-18T08:04:47.848563Z",
     "iopub.status.idle": "2024-11-18T08:04:47.857851Z",
     "shell.execute_reply": "2024-11-18T08:04:47.856901Z",
     "shell.execute_reply.started": "2024-11-18T08:04:47.848804Z"
    }
   },
   "outputs": [],
   "source": [
    "# Define the objective function for Optuna\n",
    "def objective(trial):\n",
    "    model_name = trial.suggest_categorical('model', ['RandomForest', 'GradientBoosting', 'XGBoost', 'SVR'])\n",
    "    \n",
    "    if model_name == 'RandomForest':\n",
    "        n_estimators = trial.suggest_int('n_estimators', 50, 200)\n",
    "        max_depth = trial.suggest_int('max_depth', 3, 10)\n",
    "        model = RandomForestRegressor(n_estimators=n_estimators, max_depth=max_depth)\n",
    "    elif model_name == 'GradientBoosting':\n",
    "        n_estimators = trial.suggest_int('n_estimators', 50, 200)\n",
    "        learning_rate = trial.suggest_float('learning_rate', 0.01, 0.2)\n",
    "        max_depth = trial.suggest_int('max_depth', 3, 10)\n",
    "        model = GradientBoostingRegressor(n_estimators=n_estimators, learning_rate=learning_rate, max_depth=max_depth)\n",
    "    elif model_name == 'XGBoost':\n",
    "        n_estimators = trial.suggest_int('n_estimators', 50, 200)\n",
    "        learning_rate = trial.suggest_float('learning_rate', 0.01, 0.2)\n",
    "        max_depth = trial.suggest_int('max_depth', 3, 10)\n",
    "        model = XGBRegressor(n_estimators=n_estimators, learning_rate=learning_rate, max_depth=max_depth, objective='reg:squarederror')\n",
    "    elif model_name == 'SVR':\n",
    "        C = trial.suggest_float('C', 0.1, 10)\n",
    "        kernel = trial.suggest_categorical('kernel', ['linear', 'rbf'])\n",
    "        model = SVR(C=C, kernel=kernel)\n",
    "    \n",
    "    model.fit(X_train_der, y_train_der)\n",
    "    y_pred_der = model.predict(X_test_der)\n",
    "    mse = mean_squared_error(y_test_der, y_pred_der)\n",
    "    return mse\n"
   ]
  },
  {
   "cell_type": "code",
   "execution_count": 13,
   "id": "a216e74e-c416-4753-bf7b-7160d663eb87",
   "metadata": {
    "execution": {
     "iopub.execute_input": "2024-11-18T08:04:47.859249Z",
     "iopub.status.busy": "2024-11-18T08:04:47.858904Z",
     "iopub.status.idle": "2024-11-18T08:24:04.667836Z",
     "shell.execute_reply": "2024-11-18T08:24:04.666827Z",
     "shell.execute_reply.started": "2024-11-18T08:04:47.859228Z"
    }
   },
   "outputs": [
    {
     "name": "stderr",
     "output_type": "stream",
     "text": [
      "[I 2024-11-18 08:04:47,862] A new study created in memory with name: no-name-6bd2bc17-2a71-4327-896e-9c19f3f754a9\n",
      "[I 2024-11-18 08:04:50,209] Trial 0 finished with value: 8.840921382022634 and parameters: {'model': 'GradientBoosting', 'n_estimators': 85, 'learning_rate': 0.12397779867883464, 'max_depth': 8}. Best is trial 0 with value: 8.840921382022634.\n",
      "[I 2024-11-18 08:04:53,339] Trial 1 finished with value: 8.160631144037334 and parameters: {'model': 'GradientBoosting', 'n_estimators': 101, 'learning_rate': 0.050527551034137835, 'max_depth': 10}. Best is trial 1 with value: 8.160631144037334.\n",
      "[I 2024-11-18 08:04:54,376] Trial 2 finished with value: 7.444770467778865 and parameters: {'model': 'XGBoost', 'n_estimators': 193, 'learning_rate': 0.11558562059171962, 'max_depth': 5}. Best is trial 2 with value: 7.444770467778865.\n",
      "[I 2024-11-18 08:04:56,083] Trial 3 finished with value: 6.345706866929741 and parameters: {'model': 'XGBoost', 'n_estimators': 160, 'learning_rate': 0.14900611851359818, 'max_depth': 9}. Best is trial 3 with value: 6.345706866929741.\n",
      "[I 2024-11-18 08:04:57,176] Trial 4 finished with value: 7.183543142014043 and parameters: {'model': 'XGBoost', 'n_estimators': 127, 'learning_rate': 0.15388049632268241, 'max_depth': 6}. Best is trial 3 with value: 6.345706866929741.\n",
      "[I 2024-11-18 08:04:58,712] Trial 5 finished with value: 9.01031424933584 and parameters: {'model': 'RandomForest', 'n_estimators': 87, 'max_depth': 8}. Best is trial 3 with value: 6.345706866929741.\n",
      "[I 2024-11-18 08:05:00,682] Trial 6 finished with value: 7.245521718186721 and parameters: {'model': 'XGBoost', 'n_estimators': 129, 'learning_rate': 0.028306485659314005, 'max_depth': 8}. Best is trial 3 with value: 6.345706866929741.\n",
      "[I 2024-11-18 08:05:01,585] Trial 7 finished with value: 8.148076649922546 and parameters: {'model': 'XGBoost', 'n_estimators': 139, 'learning_rate': 0.19089833204031026, 'max_depth': 6}. Best is trial 3 with value: 6.345706866929741.\n",
      "[I 2024-11-18 08:05:03,536] Trial 8 finished with value: 10.544442419671661 and parameters: {'model': 'RandomForest', 'n_estimators': 145, 'max_depth': 5}. Best is trial 3 with value: 6.345706866929741.\n",
      "[I 2024-11-18 08:05:04,811] Trial 9 finished with value: 11.388133203386984 and parameters: {'model': 'RandomForest', 'n_estimators': 141, 'max_depth': 4}. Best is trial 3 with value: 6.345706866929741.\n",
      "[I 2024-11-18 08:16:04,089] Trial 10 finished with value: 15689528120.275629 and parameters: {'model': 'SVR', 'C': 6.553683701461098, 'kernel': 'linear'}. Best is trial 3 with value: 6.345706866929741.\n",
      "[I 2024-11-18 08:16:05,818] Trial 11 finished with value: 6.555901730636736 and parameters: {'model': 'XGBoost', 'n_estimators': 180, 'learning_rate': 0.1740710831597787, 'max_depth': 10}. Best is trial 3 with value: 6.345706866929741.\n",
      "[I 2024-11-18 08:16:07,499] Trial 12 finished with value: 6.684024453550906 and parameters: {'model': 'XGBoost', 'n_estimators': 183, 'learning_rate': 0.19827721905497073, 'max_depth': 10}. Best is trial 3 with value: 6.345706866929741.\n",
      "[I 2024-11-18 08:16:07,531] Trial 13 finished with value: 57.351135219459145 and parameters: {'model': 'SVR', 'C': 0.3286666103732916, 'kernel': 'rbf'}. Best is trial 3 with value: 6.345706866929741.\n",
      "[I 2024-11-18 08:16:09,394] Trial 14 finished with value: 6.211238218302282 and parameters: {'model': 'XGBoost', 'n_estimators': 165, 'learning_rate': 0.1495308566206329, 'max_depth': 9}. Best is trial 14 with value: 6.211238218302282.\n",
      "[I 2024-11-18 08:16:11,961] Trial 15 finished with value: 6.214566102042668 and parameters: {'model': 'XGBoost', 'n_estimators': 166, 'learning_rate': 0.0831989028638787, 'max_depth': 9}. Best is trial 14 with value: 6.211238218302282.\n",
      "[I 2024-11-18 08:16:13,315] Trial 16 finished with value: 7.950809102337081 and parameters: {'model': 'XGBoost', 'n_estimators': 166, 'learning_rate': 0.07818204044638952, 'max_depth': 7}. Best is trial 14 with value: 6.211238218302282.\n",
      "[I 2024-11-18 08:22:59,686] Trial 17 finished with value: 42533709909.800476 and parameters: {'model': 'SVR', 'C': 9.55651062566411, 'kernel': 'linear'}. Best is trial 14 with value: 6.211238218302282.\n",
      "[I 2024-11-18 08:23:01,177] Trial 18 finished with value: 7.695422264655598 and parameters: {'model': 'GradientBoosting', 'n_estimators': 50, 'learning_rate': 0.08590486785989744, 'max_depth': 9}. Best is trial 14 with value: 6.211238218302282.\n",
      "[I 2024-11-18 08:23:01,493] Trial 19 finished with value: 8.259081316068652 and parameters: {'model': 'XGBoost', 'n_estimators': 163, 'learning_rate': 0.08424137364418077, 'max_depth': 3}. Best is trial 14 with value: 6.211238218302282.\n",
      "[I 2024-11-18 08:23:03,559] Trial 20 finished with value: 6.376722919294702 and parameters: {'model': 'XGBoost', 'n_estimators': 196, 'learning_rate': 0.1429115447178631, 'max_depth': 9}. Best is trial 14 with value: 6.211238218302282.\n",
      "[I 2024-11-18 08:23:05,402] Trial 21 finished with value: 6.512692995767264 and parameters: {'model': 'XGBoost', 'n_estimators': 162, 'learning_rate': 0.1461694148111632, 'max_depth': 9}. Best is trial 14 with value: 6.211238218302282.\n",
      "[I 2024-11-18 08:23:06,813] Trial 22 finished with value: 8.739771493240376 and parameters: {'model': 'XGBoost', 'n_estimators': 154, 'learning_rate': 0.1218928769770759, 'max_depth': 7}. Best is trial 14 with value: 6.211238218302282.\n",
      "[I 2024-11-18 08:23:08,524] Trial 23 finished with value: 6.863836150561083 and parameters: {'model': 'XGBoost', 'n_estimators': 175, 'learning_rate': 0.16596145699232998, 'max_depth': 9}. Best is trial 14 with value: 6.211238218302282.\n",
      "[I 2024-11-18 08:23:09,719] Trial 24 finished with value: 7.327113991692962 and parameters: {'model': 'XGBoost', 'n_estimators': 109, 'learning_rate': 0.09661088838532078, 'max_depth': 8}. Best is trial 14 with value: 6.211238218302282.\n",
      "[I 2024-11-18 08:23:12,910] Trial 25 finished with value: 6.528740704905928 and parameters: {'model': 'XGBoost', 'n_estimators': 149, 'learning_rate': 0.05858427699700306, 'max_depth': 10}. Best is trial 14 with value: 6.211238218302282.\n",
      "[I 2024-11-18 08:23:18,400] Trial 26 finished with value: 7.67437721393031 and parameters: {'model': 'GradientBoosting', 'n_estimators': 175, 'learning_rate': 0.1334058933252063, 'max_depth': 9}. Best is trial 14 with value: 6.211238218302282.\n",
      "[I 2024-11-18 08:23:18,436] Trial 27 finished with value: 53.58994354156186 and parameters: {'model': 'SVR', 'C': 1.2776825444563231, 'kernel': 'rbf'}. Best is trial 14 with value: 6.211238218302282.\n",
      "[I 2024-11-18 08:23:21,026] Trial 28 finished with value: 8.590501679638916 and parameters: {'model': 'RandomForest', 'n_estimators': 157, 'max_depth': 7}. Best is trial 14 with value: 6.211238218302282.\n",
      "[I 2024-11-18 08:23:24,305] Trial 29 finished with value: 7.099464436932277 and parameters: {'model': 'GradientBoosting', 'n_estimators': 117, 'learning_rate': 0.10366819546991574, 'max_depth': 8}. Best is trial 14 with value: 6.211238218302282.\n",
      "[I 2024-11-18 08:23:26,012] Trial 30 finished with value: 6.735157758407555 and parameters: {'model': 'XGBoost', 'n_estimators': 200, 'learning_rate': 0.1731553210555274, 'max_depth': 9}. Best is trial 14 with value: 6.211238218302282.\n",
      "[I 2024-11-18 08:23:28,109] Trial 31 finished with value: 6.601931157996064 and parameters: {'model': 'XGBoost', 'n_estimators': 189, 'learning_rate': 0.13729218179500374, 'max_depth': 9}. Best is trial 14 with value: 6.211238218302282.\n",
      "[I 2024-11-18 08:23:30,092] Trial 32 finished with value: 6.943448556785614 and parameters: {'model': 'XGBoost', 'n_estimators': 171, 'learning_rate': 0.1525316807872589, 'max_depth': 10}. Best is trial 14 with value: 6.211238218302282.\n",
      "[I 2024-11-18 08:23:31,897] Trial 33 finished with value: 6.363244947309896 and parameters: {'model': 'XGBoost', 'n_estimators': 190, 'learning_rate': 0.16316902752367793, 'max_depth': 9}. Best is trial 14 with value: 6.211238218302282.\n",
      "[I 2024-11-18 08:23:33,407] Trial 34 finished with value: 8.087516084432243 and parameters: {'model': 'XGBoost', 'n_estimators': 185, 'learning_rate': 0.1824426756513075, 'max_depth': 8}. Best is trial 14 with value: 6.211238218302282.\n",
      "[I 2024-11-18 08:23:35,186] Trial 35 finished with value: 8.085799841034742 and parameters: {'model': 'XGBoost', 'n_estimators': 169, 'learning_rate': 0.16389150660589719, 'max_depth': 8}. Best is trial 14 with value: 6.211238218302282.\n",
      "[I 2024-11-18 08:23:39,501] Trial 36 finished with value: 10.286309309107782 and parameters: {'model': 'GradientBoosting', 'n_estimators': 135, 'learning_rate': 0.1591034859879631, 'max_depth': 10}. Best is trial 14 with value: 6.211238218302282.\n",
      "[I 2024-11-18 08:23:42,173] Trial 37 finished with value: 6.819803941690269 and parameters: {'model': 'XGBoost', 'n_estimators': 154, 'learning_rate': 0.06336138259431537, 'max_depth': 9}. Best is trial 14 with value: 6.211238218302282.\n",
      "[I 2024-11-18 08:23:46,022] Trial 38 finished with value: 8.443844447047937 and parameters: {'model': 'RandomForest', 'n_estimators': 189, 'max_depth': 10}. Best is trial 14 with value: 6.211238218302282.\n",
      "[I 2024-11-18 08:23:46,694] Trial 39 finished with value: 8.672354351945037 and parameters: {'model': 'XGBoost', 'n_estimators': 50, 'learning_rate': 0.11402230968003355, 'max_depth': 7}. Best is trial 14 with value: 6.211238218302282.\n",
      "[I 2024-11-18 08:23:48,431] Trial 40 finished with value: 7.169435323350135 and parameters: {'model': 'XGBoost', 'n_estimators': 180, 'learning_rate': 0.13154412327245552, 'max_depth': 9}. Best is trial 14 with value: 6.211238218302282.\n",
      "[I 2024-11-18 08:23:50,374] Trial 41 finished with value: 7.538793963147988 and parameters: {'model': 'XGBoost', 'n_estimators': 200, 'learning_rate': 0.14919844819011516, 'max_depth': 8}. Best is trial 14 with value: 6.211238218302282.\n",
      "[I 2024-11-18 08:23:52,275] Trial 42 finished with value: 6.300923600129011 and parameters: {'model': 'XGBoost', 'n_estimators': 195, 'learning_rate': 0.1440761228000547, 'max_depth': 9}. Best is trial 14 with value: 6.211238218302282.\n",
      "[I 2024-11-18 08:23:54,282] Trial 43 finished with value: 7.11441100209849 and parameters: {'model': 'XGBoost', 'n_estimators': 193, 'learning_rate': 0.12488538197283243, 'max_depth': 8}. Best is trial 14 with value: 6.211238218302282.\n",
      "[I 2024-11-18 08:23:55,873] Trial 44 finished with value: 6.101067236745277 and parameters: {'model': 'XGBoost', 'n_estimators': 176, 'learning_rate': 0.18228264119027715, 'max_depth': 10}. Best is trial 44 with value: 6.101067236745277.\n",
      "[I 2024-11-18 08:23:59,456] Trial 45 finished with value: 9.053042649721746 and parameters: {'model': 'RandomForest', 'n_estimators': 175, 'max_depth': 10}. Best is trial 44 with value: 6.101067236745277.\n",
      "[I 2024-11-18 08:23:59,488] Trial 46 finished with value: 50.21873880247761 and parameters: {'model': 'SVR', 'C': 4.386640507089133, 'kernel': 'rbf'}. Best is trial 44 with value: 6.101067236745277.\n",
      "[I 2024-11-18 08:24:01,673] Trial 47 finished with value: 6.457034949625193 and parameters: {'model': 'XGBoost', 'n_estimators': 161, 'learning_rate': 0.1826503126548581, 'max_depth': 10}. Best is trial 44 with value: 6.101067236745277.\n",
      "[I 2024-11-18 08:24:02,824] Trial 48 finished with value: 7.491813680035298 and parameters: {'model': 'XGBoost', 'n_estimators': 148, 'learning_rate': 0.030501657686970524, 'max_depth': 6}. Best is trial 44 with value: 6.101067236745277.\n",
      "[I 2024-11-18 08:24:04,660] Trial 49 finished with value: 6.699234173275574 and parameters: {'model': 'XGBoost', 'n_estimators': 87, 'learning_rate': 0.1133337153471993, 'max_depth': 10}. Best is trial 44 with value: 6.101067236745277.\n"
     ]
    },
    {
     "name": "stdout",
     "output_type": "stream",
     "text": [
      "{'Dataset': 'Modified', 'Method': 'Optuna', 'Model': 'XGBoost', 'Best Parameters': {'model': 'XGBoost', 'n_estimators': 176, 'learning_rate': 0.18228264119027715, 'max_depth': 10}, 'Total Runtime (s)': 1156.8010449409485}\n"
     ]
    }
   ],
   "source": [
    "# Run Optuna optimization\n",
    "study_start_time = time.time()\n",
    "study = optuna.create_study(direction='minimize')\n",
    "study.optimize(objective, n_trials=50)\n",
    "study_end_time = time.time()\n",
    "\n",
    "# Adding summary of the Optuna results\n",
    "optuna_best_params = study.best_trial.params\n",
    "optuna_best_value = study.best_trial.value\n",
    "optuna_total_time = study_end_time - study_start_time\n",
    "\n",
    "result = {\n",
    "    'Dataset': 'Modified',\n",
    "    'Method': 'Optuna',\n",
    "    'Model': study.best_trial.params.get('model'),\n",
    "    'Best Parameters': optuna_best_params,\n",
    "    'Total Runtime (s)': optuna_total_time\n",
    "}\n",
    "results_mod.append(result)\n",
    "\n",
    "print(result)"
   ]
  },
  {
   "cell_type": "code",
   "execution_count": 14,
   "id": "600928f5",
   "metadata": {
    "execution": {
     "iopub.execute_input": "2024-11-18T08:24:04.669397Z",
     "iopub.status.busy": "2024-11-18T08:24:04.669167Z",
     "iopub.status.idle": "2024-11-18T08:24:04.673406Z",
     "shell.execute_reply": "2024-11-18T08:24:04.672747Z",
     "shell.execute_reply.started": "2024-11-18T08:24:04.669377Z"
    }
   },
   "outputs": [],
   "source": [
    "# # Create a summary dataframe and display\n",
    "# summary = pd.concat(results_orig, results_mod)\n",
    "\n",
    "# summary_df = pd.DataFrame(results)\n",
    "# html_table = summary_df.to_html()\n",
    "\n",
    "# display(HTML(html_table))"
   ]
  },
  {
   "cell_type": "code",
   "execution_count": 17,
   "id": "6cda63d2-8603-47bc-87f0-eee6e142fba3",
   "metadata": {
    "execution": {
     "iopub.execute_input": "2024-11-18T08:24:32.881994Z",
     "iopub.status.busy": "2024-11-18T08:24:32.881612Z",
     "iopub.status.idle": "2024-11-18T08:24:32.957762Z",
     "shell.execute_reply": "2024-11-18T08:24:32.894127Z",
     "shell.execute_reply.started": "2024-11-18T08:24:32.881964Z"
    }
   },
   "outputs": [
    {
     "data": {
      "text/html": [
       "<table border=\"1\" class=\"dataframe\">\n",
       "  <thead>\n",
       "    <tr style=\"text-align: right;\">\n",
       "      <th></th>\n",
       "      <th>Dataset</th>\n",
       "      <th>Method</th>\n",
       "      <th>Model</th>\n",
       "      <th>Best Parameters</th>\n",
       "      <th>Total Runtime (s)</th>\n",
       "    </tr>\n",
       "  </thead>\n",
       "  <tbody>\n",
       "    <tr>\n",
       "      <th>0</th>\n",
       "      <td>Original</td>\n",
       "      <td>GridSearch</td>\n",
       "      <td>GradientBoosting</td>\n",
       "      <td>{'learning_rate': 0.1, 'max_depth': 3, 'n_estimators': 100}</td>\n",
       "      <td>84.891850</td>\n",
       "    </tr>\n",
       "    <tr>\n",
       "      <th>1</th>\n",
       "      <td>Original</td>\n",
       "      <td>Optuna</td>\n",
       "      <td>GradientBoosting</td>\n",
       "      <td>{'model': 'GradientBoosting', 'n_estimators': 83, 'learning_rate': 0.1737313090963122, 'max_depth': 6}</td>\n",
       "      <td>36.549016</td>\n",
       "    </tr>\n",
       "    <tr>\n",
       "      <th>2</th>\n",
       "      <td>Modified</td>\n",
       "      <td>GridSearch</td>\n",
       "      <td>XGBoost</td>\n",
       "      <td>{'learning_rate': 0.1, 'max_depth': 3, 'n_estimators': 100}</td>\n",
       "      <td>3195.991839</td>\n",
       "    </tr>\n",
       "    <tr>\n",
       "      <th>3</th>\n",
       "      <td>Modified</td>\n",
       "      <td>Optuna</td>\n",
       "      <td>XGBoost</td>\n",
       "      <td>{'model': 'XGBoost', 'n_estimators': 176, 'learning_rate': 0.18228264119027715, 'max_depth': 10}</td>\n",
       "      <td>1156.801045</td>\n",
       "    </tr>\n",
       "  </tbody>\n",
       "</table>"
      ],
      "text/plain": [
       "<IPython.core.display.HTML object>"
      ]
     },
     "metadata": {},
     "output_type": "display_data"
    }
   ],
   "source": [
    "# Create a summary dataframe by concatenating the original and modified results\n",
    "results_df = pd.DataFrame(results)\n",
    "results_mod_df = pd.DataFrame(results_mod)\n",
    "\n",
    "summary = pd.concat([results_df, results_mod_df], ignore_index=True)\n",
    "\n",
    "# Convert to an HTML table and display\n",
    "html_table = summary.to_html()\n",
    "display(HTML(html_table))"
   ]
  },
  {
   "cell_type": "code",
   "execution_count": null,
   "id": "a2abfb49-e71a-4511-884e-2508176f816e",
   "metadata": {},
   "outputs": [],
   "source": []
  }
 ],
 "metadata": {
  "kernelspec": {
   "display_name": "Python 3 (ipykernel)",
   "language": "python",
   "name": "python3"
  },
  "language_info": {
   "codemirror_mode": {
    "name": "ipython",
    "version": 3
   },
   "file_extension": ".py",
   "mimetype": "text/x-python",
   "name": "python",
   "nbconvert_exporter": "python",
   "pygments_lexer": "ipython3",
   "version": "3.11.8"
  }
 },
 "nbformat": 4,
 "nbformat_minor": 5
}
